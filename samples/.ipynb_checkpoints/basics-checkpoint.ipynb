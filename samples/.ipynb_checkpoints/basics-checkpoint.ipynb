{
 "cells": [
  {
   "cell_type": "markdown",
   "id": "04646862-7ec1-4618-bb74-9898146ae25b",
   "metadata": {
    "tags": []
   },
   "source": [
    "# openEO Basics: Discovery of Collections and Processes"
   ]
  },
  {
   "cell_type": "markdown",
   "id": "53428350-ad0e-42b4-80a4-2adb47def545",
   "metadata": {},
   "source": [
    "Source: Copernicus Data Space Ecosystem JupyterHub"
   ]
  },
  {
   "cell_type": "markdown",
   "id": "929aff73-2819-43ba-9aa4-f93ce2a012c4",
   "metadata": {},
   "source": [
    "## Setup\n",
    "\n",
    "Import the `openeo` package and connect to the Copernicus Data Space Ecosystem openEO back-end."
   ]
  },
  {
   "cell_type": "code",
   "execution_count": null,
   "id": "4dc5dd49-1306-43d7-b0ee-3d8cd7e0f6d2",
   "metadata": {
    "tags": []
   },
   "outputs": [],
   "source": [
    "import openeo"
   ]
  },
  {
   "cell_type": "code",
   "execution_count": null,
   "id": "b82036e3-295a-4c77-b33f-d6bcc55ae991",
   "metadata": {
    "tags": []
   },
   "outputs": [],
   "source": [
    "connection = openeo.connect(\n",
    "    url=\"openeo.dataspace.copernicus.eu\",\n",
    ")"
   ]
  },
  {
   "cell_type": "markdown",
   "id": "806f2554-0dd3-4e1c-80c4-9424ddb54b2b",
   "metadata": {},
   "source": [
    "## Collections\n",
    "\n",
    "List all available collection ids:"
   ]
  },
  {
   "cell_type": "code",
   "execution_count": null,
   "id": "0d6d48e0-fdfa-4c78-9f6e-fd2555f829b2",
   "metadata": {
    "tags": []
   },
   "outputs": [],
   "source": [
    "print(connection.list_collection_ids())"
   ]
  },
  {
   "cell_type": "markdown",
   "id": "26e9647e-6aee-446f-9895-edf24d722fe5",
   "metadata": {},
   "source": [
    "Get detailed information about a collection"
   ]
  },
  {
   "cell_type": "code",
   "execution_count": null,
   "id": "4d7fbf5d-2ae8-4d8f-98cf-075e81c63e64",
   "metadata": {
    "tags": []
   },
   "outputs": [],
   "source": [
    "connection.describe_collection(\"SENTINEL2_L2A\")"
   ]
  },
  {
   "cell_type": "markdown",
   "id": "1f66263d-bb93-45d1-9ef9-9ad6066cb418",
   "metadata": {},
   "source": [
    "## Processes\n",
    "\n",
    "List all available processes:"
   ]
  },
  {
   "cell_type": "code",
   "execution_count": null,
   "id": "4b4cefbc-3354-4b47-b38d-760f2a13b18c",
   "metadata": {},
   "outputs": [],
   "source": [
    "connection.list_processes()"
   ]
  },
  {
   "cell_type": "markdown",
   "id": "8aeefc7c-db08-4b96-81cc-d9f935e69c40",
   "metadata": {},
   "source": [
    "Inspect one process in more detail"
   ]
  },
  {
   "cell_type": "code",
   "execution_count": null,
   "id": "3585bb0f-44f3-4303-bbda-8099bcc6d51c",
   "metadata": {
    "tags": []
   },
   "outputs": [],
   "source": [
    "connection.describe_process(\"add\")"
   ]
  },
  {
   "cell_type": "code",
   "execution_count": null,
   "id": "63157c33-0065-4f7f-bb8b-20ebdc5047e9",
   "metadata": {},
   "outputs": [],
   "source": []
  }
 ],
 "metadata": {
  "kernelspec": {
   "display_name": "Python 3",
   "language": "python",
   "name": "python3"
  },
  "language_info": {
   "codemirror_mode": {
    "name": "ipython",
    "version": 3
   },
   "file_extension": ".py",
   "mimetype": "text/x-python",
   "name": "python",
   "nbconvert_exporter": "python",
   "pygments_lexer": "ipython3",
   "version": "3.10.12"
  }
 },
 "nbformat": 4,
 "nbformat_minor": 5
}
