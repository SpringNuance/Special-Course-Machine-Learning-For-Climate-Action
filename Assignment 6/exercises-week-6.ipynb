{
 "cells": [
  {
   "cell_type": "markdown",
   "metadata": {},
   "source": [
    "# Exercises week 6: Data fusion to predict methane emissions over Delhi\n",
    "This is an optional exercise. Should you submit, the final course grade will be the average of your 5 best homeworks."
   ]
  },
  {
   "cell_type": "markdown",
   "metadata": {},
   "source": [
    "## Background\n",
    "\n",
    "The largest anthropogenic sources of methane are agriculture, fossil fuels, and decomposition of landfill waste (see [Methane Basics](https://climate.nasa.gov/vital-signs/methane/#:~:text=Methane%20Basics&text=and%20human%20activities.-,An%20estimated%2060%25%20of%20today%27s%20methane%20emissions%20are%20the%20result,being%20the%20largest%20natural%20source.)). In this exercise, we will build on the work you did in exercise 3 to predict methane emissions in urban areas. We assume that large urban areas contain both industrial sites and landfills. Agriculture will not be explicitly considered in this exercise, but you can incorporate it in the model, if you want.\n",
    "\n",
    "This exercise is designed to be completed on Aalto JupyterHub. Please ensure that your notebook includes all necessary installation commands for any additional libraries your code requires. These commands should be clearly written and integrated within your notebook. To submit, go to Nbgrader/Assignment List and click submit next to the exercise. \n",
    "All data loaded from Copernicus Dataspace, should be saved to /coursedata/users/$USER folder.\n",
    "\n",
    "**Paper**\n",
    "- [Zhu, Xiao Xiang, et al. \"The urban morphology on our planet–Global perspectives from space.\" Remote Sensing of Environment 269 (2022): 112794.](https://doi.org/10.1016/j.rse.2021.112794)\n",
    "    - Full code and demo data for this paper are available [here](https://github.com/zhu-xlab/So2Sat-LCZ-Classification-Demo). Full labelled dataset is available [here](https://mediatum.ub.tum.de/1633461)\n",
    "\n",
    "**Delhi**\n",
    "- The paper's publicly released dataset is currently unavailable, so we will work with Delhi, which I had saved earlier. It is available in /coursedata/data-fusion/\n",
    "- The lon, lat coordinates of the area are {76.78125,28.23125 76.78125,29.10625 77.65625,29.10625 77.65625,28.23125 76.78125,28.23125}\n",
    "\n",
    "The deadline is Feb 22 at 10:00. We will be grading the submissions as they arrive, so if you submit before the deadline, you will most likely get feedback earlier."
   ]
  },
  {
   "cell_type": "markdown",
   "metadata": {},
   "source": [
    "## Exercise 6.1 Data preparation (1 pt)\n",
    "\n",
    "Choose a time-period and define an area of interest corresponding to the coordinates of Delhi. Using batch jobs and reduce_dimension function, compute pixel-wise means over the period for Sentinel 5P, band CH4 and Sentinel 3, bands S5 and S6. "
   ]
  },
  {
   "cell_type": "markdown",
   "metadata": {},
   "source": []
  },
  {
   "cell_type": "markdown",
   "metadata": {},
   "source": [
    "## Exercise 6.2 Baseline model (4 pt)\n",
    "Build and study the performance of a regression model where the observations for S5 and S6 are independent variables and CH4 is the dependent variable. You need to predict the value of CH4 in a given pixel given the corresponding data for S5 and S6. You are free to use any classical statistical or ML method.\n",
    "\n",
    "Note that Sentinel 3 has higher resolution than Sentinel 5P, so for every pixel in the CH4 data, you will have a rectangle of pixels in S5 and S6 data. It is possible that the dimensions of S5/6 bands would not be factors of the dimension of CH4 data, in which case, you'll get NaN values in CH4 data corresponding to the area which is not large enough to generate a pixel in CH4 data. You can remove the corresponding observations from S5/6 data."
   ]
  },
  {
   "cell_type": "code",
   "execution_count": null,
   "metadata": {},
   "outputs": [],
   "source": []
  },
  {
   "cell_type": "markdown",
   "metadata": {},
   "source": [
    "## Exercise 6.3 Alternative model (4 pt)\n",
    "Build and study the performance of one of the alternative models:\n",
    "- Pollutants: Incorporate CO, SO2 and NO2 as independent variables (in addition to S5/6) - see exercise 3 for motivation for using these variables in the model\n",
    "- LCZ: Incorporate LCZ classes as an independent variable (in addition to S5/6). Note that even though the image in /coursedata/data-fusion/ is RGB, the colours represents classes\n"
   ]
  },
  {
   "cell_type": "code",
   "execution_count": null,
   "metadata": {},
   "outputs": [],
   "source": []
  },
  {
   "cell_type": "markdown",
   "metadata": {},
   "source": [
    "## Exercise 6.4 (Optional) Fusion model (4 pt)\n",
    "Fuse 2 models (pollutants+lcz). You can perform fusion either at the level of data (i.e., build a new model with more independent variables) or at the level of outputs (i.e., compute the predictions for CH4 as a function of predictions of each model)"
   ]
  },
  {
   "cell_type": "code",
   "execution_count": null,
   "metadata": {},
   "outputs": [],
   "source": []
  },
  {
   "cell_type": "markdown",
   "metadata": {},
   "source": [
    "## Exercise 6.5 Validate your model (4 pt)\n",
    "Perform at least one of the following two validations:\n",
    "- Choose a different time period \n",
    "- Choose a different area of interest. The coordinates of the urband agglomeration areas used in the dataset can be found [here](https://github.com/zhu-xlab/So2Sat-LCZ-Classification-Demo/blob/master/data/ROI/UN_city_list_rect_buff.kml)"
   ]
  },
  {
   "cell_type": "code",
   "execution_count": null,
   "metadata": {},
   "outputs": [],
   "source": []
  },
  {
   "cell_type": "markdown",
   "metadata": {},
   "source": [
    "## Exercise 6.6 Compare and discuss the models (4 pt)\n",
    "- What are the strengths and weaknesses of each model? Which one would you choose and why?\n",
    "- Does your modelling approach rely on some assumptions about the data and how well were they satisfied? (e.g., regressions assume independence of observations and homoscedasticity of the variance of the residual)\n",
    "- How could policy-makers use such models?\n",
    "- How could you improve the model?"
   ]
  },
  {
   "cell_type": "markdown",
   "metadata": {},
   "source": []
  },
  {
   "cell_type": "markdown",
   "metadata": {},
   "source": [
    "## Exercise 6.7 ResNet (4 pt)\n",
    "ResNet was used in [Paolo et al. (2024)](https://www.nature.com/articles/s41586-023-06825-8.pdf), the paper from Lecture IV, and in Zhu et al. (2022). Why do you think the authors chose this approach? \n",
    "\n",
    "In both cases, the authors trained the model themselves, as opposed to using the pre-trained models such as [the one available via Keras](https://keras.io/api/applications/resnet/). Why?\n",
    "\n",
    "On the other hand, in [Schuit et al (2023)](https://acp.copernicus.org/preprints/acp-2022-862/acp-2022-862.pdf), the paper from Lecture III, ResNet did not provide a performance improvement relative the authors' own model. Why do you think this was the case?\n",
    "\n",
    "In what settings is it advisable and not advisable to use ResNet?"
   ]
  },
  {
   "cell_type": "markdown",
   "metadata": {},
   "source": []
  },
  {
   "cell_type": "markdown",
   "metadata": {},
   "source": [
    "## Exercise 6.8 Uncertainty (3 pt) - Do either Ex 6.8 or Ex 6.9\n",
    "\n",
    "One of the main motivations for performing data fusion is to [decrease the uncertainty](https://arxiv.org/pdf/2107.03342.pdf) of the machine learning models. How does increase in resolution affect ML uncertainty? See, for example, [this](https://up42.com/blog/what-high-resolution-satellite-imagery-means#:~:text=Challenges%20in%20using%20high%20resolution%20satellite%20imagery&text=First%2C%20high%20spatial%20resolution%20satellite,images%20have%20to%20be%20mosaicked.) and [this](https://www.space-intelligence.com/2021/11/18/why-dont-we-use-the-highest-resolution-images-available-sometimes-less-is-more/) blog posts for inspiration.\n",
    "\n",
    "\n",
    "What is the impact of adding more independent variables on model's inference and prediction uncertainty? What other aspects of model uncertainty should one consider using the approach from Ex. 6.2-6.3?"
   ]
  },
  {
   "cell_type": "markdown",
   "metadata": {},
   "source": []
  },
  {
   "cell_type": "markdown",
   "metadata": {},
   "source": [
    "## Exercise 6.9 Ethics (3 pt)  - Do either Ex 6.8 or Ex 6.9\n",
    "\n",
    "A priori satellite data from the Sentinel missions is publicly available non-sensitive data. However, data fusion and feature detection algorithms can lead to data privacy concerns. This happens, for example, when one uses ML algorithms to discover illegal landfills from satellite images, see [Torres and Fraternali (2023)](https://www.nature.com/articles/s41597-023-01976-9). How can this issue manifest itself in the context of methane emission detection from satellite images?\n",
    "\n",
    "What other ethical concerns does this approach raise? (See the slides from Lecture 1 for different dimensions of AI ethics)"
   ]
  },
  {
   "cell_type": "markdown",
   "metadata": {},
   "source": []
  }
 ],
 "metadata": {
  "language_info": {
   "name": "python"
  }
 },
 "nbformat": 4,
 "nbformat_minor": 2
}
