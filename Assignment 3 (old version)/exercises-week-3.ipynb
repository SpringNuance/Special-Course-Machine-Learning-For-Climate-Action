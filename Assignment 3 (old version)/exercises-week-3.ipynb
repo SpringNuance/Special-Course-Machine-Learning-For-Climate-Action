{
 "cells": [
  {
   "cell_type": "markdown",
   "id": "f6025b5d-0d19-4331-b242-adec33e939e4",
   "metadata": {
    "tags": []
   },
   "source": [
    "# **Exercise session 3: Convolutional neural network (CNN) and support vector machine (SVM) to detect CH$_4$ emissions from satellite data**"
   ]
  },
  {
   "cell_type": "markdown",
   "id": "5cefeb3a-9dde-482e-b9ce-46942eda92e8",
   "metadata": {},
   "source": [
    "**Reference:** Schuit, Berend J., et al. \"Automated detection and monitoring of methane super-emitters using satellite data.\" Atmospheric Chemistry and Physics Discussions (2023): 1-47.e\n",
    "\n",
    "**Data:** \n",
    "- Sentinel 5P, bands CH4, CO, SO2 and NO2\n",
    "- Sentinel 3, bands S5 and S6\n",
    "- [all TROPOMI detected plumes for 2021. (Schuit et al. 2023)](https://zenodo.org/records/8087134)\n",
    "\n",
    "**Useful tutorials:**\n",
    "- [SVM for Multiclass Classification](https://www.kaggle.com/code/pranathichunduru/svm-for-multiclass-classification)"
   ]
  },
  {
   "cell_type": "markdown",
   "id": "0495d954",
   "metadata": {},
   "source": [
    "This exercise is designed to be completed on Aalto JupyterHub. Please ensure that your notebook includes all necessary installation commands for any additional libraries your code requires. These commands should be clearly written and integrated within your notebook. To submit, go to Nbgrader/Assignment List and click submit next to the exercise. \n",
    "All data loaded from Copernicus Dataspace, should be saved to /coursedata/users/$USER folder.\n",
    "\n",
    "The exercise consists of two parts:\n",
    "- In Part I (Ex. 3.1 - 3.2) you will discuss and compare the approaches to designing automated emissions monitoring algorithms in Finch et al. (2022), Schuit et al. (2023) and your own in Assignment 2\n",
    "- In Part II (Ex. 3.3 - 3.8) you will use the TROPOMI detected plumes for 2021 (Schuit et al. 2023) to construct a multiclass SVM algorithm to distinguish between oil, gas and coal emissions.\n",
    "\n",
    "The deadline is Feb 22 at 10:00. We will be grading the submissions as they arrive, so if you submit before the deadline, you will most likely get feedback earlier."
   ]
  },
  {
   "cell_type": "code",
   "execution_count": 55,
   "id": "5eb66d3c",
   "metadata": {
    "tags": []
   },
   "outputs": [],
   "source": [
    "# Import necessary modules. If any additional modules need to be installed to run it on Aalto JupyterHub, include all necessary installation commands.\n",
    "# I import them below"
   ]
  },
  {
   "cell_type": "markdown",
   "id": "34d5ad94",
   "metadata": {},
   "source": [
    "## Exercise 3.1 Convolutional Neural Networks for detecting gas plumes (2 pt)\n",
    "\n",
    "Compare the approaches takes in Finch et al. (2022), Schuit et al. (2023) and your own in Assignment 2. What are the strength and weaknesses of each approach? Consider both data preparation and model design."
   ]
  },
  {
   "cell_type": "markdown",
   "id": "0c3299b5",
   "metadata": {},
   "source": [
    "**Data Preparation**\n",
    "\n",
    "1. Schuit et al. Approach\n",
    "- Strengths: Comprehensive data utilization ensures a diverse variety of input and data balancing for robust training.\n",
    "- Weaknesses: There is high complexity in data processing, which might increase preparation time. The processing metod can bear risk of biases in data selection or normalization.\n",
    "\n",
    "2. Finch et al. Approach\n",
    "\n",
    "- Strengths: Individual image normalization improves model efficiency; balanced dataset helps minimize classification biases.\n",
    "- Weaknesses: There could be room for misinterpretation due to background noise; and the proposed methods are limited by the specific characteristics of NO2 plumes.\n",
    "\n",
    "3. Assignment 2 Approach\n",
    "\n",
    "- Strengths: Pixel value normalization enables faster convergence; there are distinct datasets for training, validation, and testing processes.\n",
    "- Weaknesses: Smaller dataset size of only around hundred images may not allow the trained model to generalize over unseen images; basic preprocessing might not account for complex plumes pattern\n",
    "\n",
    "**Model Design**\n",
    "\n",
    "1. Schuit et al. Approach\n",
    "\n",
    "- Strengths: Two-step method (CNN and SVC) can improve accuracy; The designed architecture for methane plume detection is shown to improve specificity.\n",
    "- Weaknesses: Complexity may require more computational resources; models that are too specific might limit its application to other plume patterns.\n",
    "\n",
    "2. Finch et al. Approach\n",
    "\n",
    "- Strengths: Efficient CNN architecture suitable for NO2 plume detection; dropout application reduces overfitting risk.\n",
    "- Weaknesses: The model does not quantify emissions, limiting its application scope. There is also dependence on human judgment for plume identification.\n",
    "\n",
    "3. Assignment 2 Approach\n",
    "\n",
    "- Strengths: Model simplicity makes it relatively easy to understand and implement; suitable for smaller datasets and initial model design exploration.\n",
    "- Weaknesses: Limited model complexity may not recognize more subtle patterns; there is risk of overfitting as the model is not regularized except early stopping"
   ]
  },
  {
   "cell_type": "markdown",
   "id": "db131903",
   "metadata": {},
   "source": [
    "## Exercise 3.2 Trustworthy monitoring of emissions (2 pt)\n",
    "\n",
    "One design requirement for introducing an automated monitoring system of emissions is that this system is trustworthy. The EC High-Level Expert Group on AI have developed the [Ethics Guidelines for Trustworthy Artificial Intelligence](https://digital-strategy.ec.europa.eu/en/library/ethics-guidelines-trustworthy-ai) that outline 7 key requirements that AI system needs to satisfy in order to be deemed trustworthy. Discuss how well the approaches in Finch et al. (2022), Schuit et al. (2023) and Assignment 2 satisfy those requirements. You can discuss all three approaches more generally or have a deeper focused discussion about one of them.\n",
    "\n",
    "(Optional) If you interested to learn more, here are some references:\n",
    "- [Deliverables of the High-Level Expert Group on AI](https://digital-strategy.ec.europa.eu/en/policies/expert-group-ai)\n",
    "- Review papers on bias in ML: \n",
    "    - Mehrabi, Ninareh, et al. \"A survey on bias and fairness in machine learning.\" ACM computing surveys (CSUR) 54.6 (2021): 1-35.\n",
    "    - Chakraborty, Joymallya, Suvodeep Majumder, and Tim Menzies. \"Bias in machine learning software: Why? how? what to do?.\" Proceedings of the 29th ACM Joint Meeting on European Software Engineering Conference and Symposium on the Foundations of Software Engineering. 2021."
   ]
  },
  {
   "cell_type": "markdown",
   "id": "6042bb57",
   "metadata": {},
   "source": [
    "**Seven key requirements that Ai systems needs to satisfy to be trustworthy**\n",
    "(page 16 of the paper)\n",
    "\n",
    "1. Human agency and oversight\n",
    "\n",
    "Including fundamental rights, human agency and human oversight\n",
    "\n",
    "2. Technical robustness and safety\n",
    "\n",
    "Including resilience to attack and security, fall back plan and general safety, accuracy, reliability and reproducibility\n",
    "\n",
    "3. Privacy and data governance\n",
    "Including respect for privacy, quality and integrity of data, and access to data\n",
    "\n",
    "4. Transparency\n",
    "\n",
    "Including traceability, explainability and communication\n",
    "\n",
    "5. Diversity, non-discrimination and fairness\n",
    "Including the avoidance of unfair bias, accessibility and universal design, and stakeholder participation\n",
    "\n",
    "6. Societal and environmental wellbeing\n",
    "Including sustainability and environmental friendliness, social impact, society and democracy\n",
    "\n",
    "7. Accountability\n",
    "Including auditability, minimisation and reporting of negative impact, trade-offs and redress.\n",
    "\n",
    "From these seven point, we can discuss the aspects of trustworthy AI that the three approaches satisfy\n",
    "\n",
    "**Schuit et al. Approach**\n",
    "\n",
    "- Satisfied requirements: \n",
    "\n",
    "Technical Robustness and Safety: Their advanced model likely demonstrates high levels of accuracy and reliability.\n",
    "\n",
    "Transparency: There is detailed documentation of methodology, which can helps the method become transparent.\n",
    "\n",
    "- Unsatisfied requirements: \n",
    "\n",
    "Diversity, Non-discrimination, and Fairness: The study do not address the impact of its AI system on diverse demographic groups. However, lack of discussion does not really imply the lack of requirement.\n",
    "\n",
    "Societal and Environmental Well-being: While focused on environmental monitoring, the social impact might not be thoroughly documented.\n",
    "\n",
    "**Finch et al. Approach**\n",
    "\n",
    "- Satisfied requirements: \n",
    "\n",
    "Privacy and Data Governance: The use of satellite data likely takes into account the data protection and integrity.\n",
    "\n",
    "Accountability: The research implies some accountability in terms of scientific rigor and ethical considerations.\n",
    "\n",
    "- Unsatisfied requirements: \n",
    "\n",
    "Human Agency and Oversight: The effect of human oversight in the decision-making process by the AI system is still unclear.\n",
    "\n",
    "Societal and Environmental Well-being: Direct impacts on social well-being is not one of the focuses of the study.\n",
    "\n",
    "**Assignment 2 Approach**\n",
    "\n",
    "- Satisfied requirements: \n",
    "\n",
    "Transparency: The approach includes clear documentation of the CNN model.\n",
    "\n",
    "Accountability: There is typically a framework for accountability through assignment grading, but I'm not sure on this.\n",
    "\n",
    "- Unsatisfied requirements: \n",
    "\n",
    "Technical Robustness and Safety: Given the basic CNN model, it might lack the robustness and safety features of more advanced systems in the two previous papers\n",
    "\n",
    "Diversity, Non-discrimination, and Fairness: The approach do not address issues of bias and fairness in the AI model."
   ]
  },
  {
   "cell_type": "markdown",
   "id": "7d9e84dc",
   "metadata": {},
   "source": [
    "## Exercise 3.3 Batch jobs and server-side computations using OpenEO (1 pt)\n",
    "\n",
    "So far you have been using openEO for synchronous execution of your requests: you submitted a request and the result came as a direct response to your request. This is not feasible for heavier work. Instead, one should submit the requests as batch jobs. Familiarise yourself with the Batch_job.ipynb file.\n",
    "\n",
    "Furthermore, instead of downloading large amounts of raw data, one can process the data directly on server side. You can check all available processes by running 'connection.list_processes()'. For more details, see the [EO Cookbook](https://openeo.org/documentation/1.0/cookbook/#temporal-mean-reduce-dimension). Note that they give two alternatives on how to compute the temporal mean and we recommend to use the 'reduce_dimension' function.\n",
    "\n",
    "Task: fix an area of interest and a time period and load the min, max, mean and standard deviation of CH4. Perform this task as a batch job using server-side processes. You should save the output in the netCDF format. Note that the output is computed per pixel."
   ]
  },
  {
   "cell_type": "code",
   "execution_count": 68,
   "id": "0b165437-d65b-4a60-ad0a-64aa71474096",
   "metadata": {
    "tags": []
   },
   "outputs": [],
   "source": [
    "import pathlib\n",
    "import rasterio\n",
    "import matplotlib.pyplot as plt\n",
    "import openeo\n",
    "import pandas as pd\n",
    "import xarray as xr\n",
    "import os\n",
    "import joblib"
   ]
  },
  {
   "cell_type": "code",
   "execution_count": 81,
   "id": "7f78d0b2-b2ac-49db-a865-459b0be22d17",
   "metadata": {
    "tags": []
   },
   "outputs": [
    {
     "name": "stdout",
     "output_type": "stream",
     "text": [
      "Authenticated using refresh token.\n"
     ]
    },
    {
     "data": {
      "text/plain": [
       "<Connection to 'https://openeo.dataspace.copernicus.eu/openeo/1.2/' with OidcBearerAuth>"
      ]
     },
     "execution_count": 81,
     "metadata": {},
     "output_type": "execute_result"
    }
   ],
   "source": [
    "connection = openeo.connect(url=\"openeo.dataspace.copernicus.eu\")\n",
    "connection.authenticate_oidc()"
   ]
  },
  {
   "cell_type": "code",
   "execution_count": 82,
   "id": "8e11b467-c4e6-4631-b3e6-69b0ef3a7aff",
   "metadata": {
    "tags": []
   },
   "outputs": [
    {
     "name": "stdout",
     "output_type": "stream",
     "text": [
      "SENTINEL3_OLCI_L1B\n",
      "SENTINEL3_SLSTR\n",
      "SENTINEL_5P_L2\n",
      "SENTINEL2_L1C\n",
      "SENTINEL2_L2A\n",
      "SENTINEL1_GRD\n",
      "COPERNICUS_30\n",
      "LANDSAT8_L2\n"
     ]
    }
   ],
   "source": [
    "# print(connection.list_collections())\n",
    "for collection in connection.list_collections():\n",
    "    print(collection['id'])"
   ]
  },
  {
   "cell_type": "code",
   "execution_count": 40,
   "id": "afb6d0ef",
   "metadata": {
    "tags": []
   },
   "outputs": [],
   "source": [
    "# fix an area of interest and a time period    \n",
    "\n",
    "aoi = {\n",
    "        \"west\": 3.202609,\n",
    "        \"south\": 51.189474,\n",
    "        \"east\": 13.254708,\n",
    "        \"north\": 61.204641,\n",
    "        \"crs\": \"EPSG:4326\",\n",
    "}        \n",
    "time_period = (\"2022-05-01\", \"2022-05-30\")\n",
    "\n",
    "ch4_data = connection.load_collection(\n",
    "    \"SENTINEL_5P_L2\",\n",
    "    spatial_extent=aoi,\n",
    "    temporal_extent=time_period,\n",
    "    bands=[\"CH4\"]\n",
    ")\n",
    "\n",
    "# load the min, max, mean and standard deviation of CH4.\n",
    "# Apply the 'reduce_dimension' function"
   ]
  },
  {
   "cell_type": "code",
   "execution_count": 24,
   "id": "977ecdde-c7d3-48df-a91e-e33d75dcf6dc",
   "metadata": {
    "tags": []
   },
   "outputs": [
    {
     "name": "stdout",
     "output_type": "stream",
     "text": [
      "0:00:00 Job 'j-24012794473d42de9c6ae3e103eed52a': send 'start'\n",
      "0:00:14 Job 'j-24012794473d42de9c6ae3e103eed52a': created (progress N/A)\n",
      "0:00:19 Job 'j-24012794473d42de9c6ae3e103eed52a': created (progress N/A)\n",
      "0:00:26 Job 'j-24012794473d42de9c6ae3e103eed52a': created (progress N/A)\n",
      "0:00:34 Job 'j-24012794473d42de9c6ae3e103eed52a': running (progress N/A)\n",
      "0:00:44 Job 'j-24012794473d42de9c6ae3e103eed52a': running (progress N/A)\n",
      "0:00:56 Job 'j-24012794473d42de9c6ae3e103eed52a': running (progress N/A)\n",
      "0:01:12 Job 'j-24012794473d42de9c6ae3e103eed52a': running (progress N/A)\n",
      "0:01:31 Job 'j-24012794473d42de9c6ae3e103eed52a': running (progress N/A)\n",
      "0:01:56 Job 'j-24012794473d42de9c6ae3e103eed52a': running (progress N/A)\n",
      "0:02:26 Job 'j-24012794473d42de9c6ae3e103eed52a': running (progress N/A)\n",
      "0:03:03 Job 'j-24012794473d42de9c6ae3e103eed52a': finished (progress N/A)\n"
     ]
    },
    {
     "data": {
      "text/plain": [
       "[PosixPath('output/CH4_emissions/min/openEO.nc'),\n",
       " PosixPath('output/CH4_emissions/min/job-results.json')]"
      ]
     },
     "execution_count": 24,
     "metadata": {},
     "output_type": "execute_result"
    }
   ],
   "source": [
    "ch4_data_min = ch4_data.reduce_dimension(\n",
    "    reducer=\"min\", \n",
    "    dimension=\"t\"\n",
    ")\n",
    "\n",
    "ch4_data_min = ch4_data_min.save_result(format=\"netCDF\")\n",
    "job = ch4_data_min.create_job(title=\"CH4 min\")\n",
    "job.start_and_wait()\n",
    "result = job.get_results()\n",
    "result.download_files(\"output/CH4_emissions/min\")"
   ]
  },
  {
   "cell_type": "code",
   "execution_count": null,
   "id": "92f85db5-9333-46ba-acc9-6383724213e0",
   "metadata": {},
   "outputs": [],
   "source": [
    "ch4_data_max = ch4_data.reduce_dimension(\n",
    "    reducer=\"max\", \n",
    "    dimension=\"t\"\n",
    ")\n",
    "\n",
    "ch4_data_max = ch4_data_max.save_result(format=\"netCDF\")\n",
    "job = ch4_data_max.create_job(title=\"CH4 max\")\n",
    "job.start_and_wait()\n",
    "result = job.get_results()\n",
    "result.download_files(\"output/CH4_emissions/max\")\n"
   ]
  },
  {
   "cell_type": "code",
   "execution_count": null,
   "id": "8bfe40a4-a54c-490e-9004-0d3861d4976f",
   "metadata": {},
   "outputs": [],
   "source": [
    "ch4_data_mean = ch4_data.reduce_dimension(\n",
    "    reducer=\"mean\", \n",
    "    dimension=\"t\"\n",
    ")\n",
    "\n",
    "ch4_data_mean = ch4_data_mean.save_result(format=\"netCDF\")\n",
    "job = ch4_data_mean.create_job(title=\"CH4 mean\")\n",
    "job.start_and_wait()\n",
    "result = job.get_results()\n",
    "result.download_files(\"output/CH4_emissions/mean\")"
   ]
  },
  {
   "cell_type": "code",
   "execution_count": null,
   "id": "ce909c71-3a74-4615-9d0f-ffe7dffe2311",
   "metadata": {},
   "outputs": [],
   "source": [
    "ch4_data_std = ch4_data.reduce_dimension(\n",
    "    reducer=\"sd\", \n",
    "    dimension=\"t\"\n",
    ")\n",
    "\n",
    "ch4_data_std = ch4_data_std.save_result(format=\"netCDF\")\n",
    "job = ch4_data_std.create_job(title=\"CH4 std\")\n",
    "job.start_and_wait()\n",
    "result = job.get_results()\n",
    "result.download_files(\"output/CH4_emissions/std\")"
   ]
  },
  {
   "cell_type": "code",
   "execution_count": 41,
   "id": "b15b1d3b-0805-4857-9483-ea674882a73a",
   "metadata": {
    "tags": []
   },
   "outputs": [
    {
     "name": "stdout",
     "output_type": "stream",
     "text": [
      "<xarray.Dataset>\n",
      "Dimensions:  (x: 1, y: 1)\n",
      "Coordinates:\n",
      "  * x        (x) float64 3.23\n",
      "  * y        (y) float64 51.21\n",
      "Data variables:\n",
      "    crs      |S1 ...\n",
      "    CH4      (y, x) float32 ...\n",
      "Attributes:\n",
      "    Conventions:  CF-1.9\n",
      "    institution:  openEO platform - Geotrellis backend: 0.22.2a1\n",
      "    description:  \n",
      "    title:        \n"
     ]
    }
   ],
   "source": [
    "#fig, axes = plt.subplots(figsize=(6, 4), nrows=2, ncols=2, dpi=90)\n",
    "\n",
    "ds_min = xr.open_dataset(\"output/CH4_emissions/min/openEO.nc\")\n",
    "ds_max = xr.open_dataset(\"output/CH4_emissions/max/openEO.nc\")\n",
    "ds_mean = xr.open_dataset(\"output/CH4_emissions/mean/openEO.nc\")\n",
    "ds_std = xr.open_dataset(\"output/CH4_emissions/std/openEO.nc\")\n",
    "\n",
    "print(ds_min)"
   ]
  },
  {
   "cell_type": "markdown",
   "id": "186fcc46",
   "metadata": {},
   "source": [
    "## Exercise 3.4 Data preparation (2 pt)\n",
    "\n",
    "Load the coordinates and labels of the CH4 plumes coming from gas infrastructure, oil infrastruture and coal mines from [all TROPOMI detected plumes for 2021. (Schuit et al. 2023)](https://zenodo.org/records/8087134). \n",
    "\n",
    "For each plume, compute the spatial extent of an area 1 deg x 1 deg around the plume.\n",
    "\n",
    "We will assume that if a point source is a super-emitter, then it's emissions are noticeable over a longer period of time. For each emission source we are going to use the following features:\n",
    "- Min, max, mean, sd and median for CH4, CO, SO2 and NO2 from Sentinel 5P data for the given period (more details on the period below)\n",
    "- Min, max, mean, sd and median for S5 and S6 from Sentinel 3 SLSTR data for the given period \n",
    "\n",
    "Reasons for choosing these features:  \n",
    "- CO, SO2 and NO2 are co-emitted in oil&gas industry and coal mines. See, for example, [Fioletov et al. (2016)](https://doi.org/10.5194/acp-16-11497-2016) and [Trenchev et al. (2023)](https://doi.org/10.3390/rs15061590)\n",
    "- Methane has a \"spectral fingerprint\" - a unique way of absorbing infrared light, which can be used to identify emitters using satellites, which were not originally intended for tracking methane. An additional benefit of this approach is that such sattelites usually have higher resolution, so it is easier to pinpoint the point sources. See: [publication about NASA's EMIT mission](https://www.nasa.gov/centers-and-facilities/jpl/methane-super-emitters-mapped-by-nasas-new-earth-space-mission/) and [Pandey et al. (2023)](https://doi.org/10.1016/j.rse.2023.113716). \n",
    "\n",
    "Choice of periods and dimension of final data (choose one of the following):\n",
    "- Compute the statistics using Copernicus-side processes from Jan 1, 2021 till Dec 31, 2021. Retain all pixels and flatten the final image into a vector (so from nxm image to 1xnm vector). This will mean that in the end you will have a 1913x(20nm_{sentinel 5p}+10nm_{sentinel 3}) feature array.\n",
    "- Compute the statistics using Copernicus-side processes from Jan 1, 2021 till Dec 31, 2021. On Aalto JupyterHub compute the mean over each Copernicus-side output (so the mean of pixel means, the mean of pixel sd, etc). This will mean that in the end you will have a 1913x30 feature array.\n",
    "- Compute the _monthly_ statistics using Copernicus-side processes from Jan 1, 2021 till Dec 31, 2021 (so for Jan 2021, Feb 2021, etc). On Aalto JupyterHub compute the mean over each Copernicus-side output (so the mean of pixel means, the mean of pixel sd, etc). This will mean that in the end you will have a 1913x360 feature array.\n",
    "\n",
    "Note that retaining more data may make it easier for SVM to distinguish between classes, however, we have relatively few observations.\n",
    "\n",
    "Notes:\n",
    "- Sentinel 3 has significantly higher resolution than Sentinel 5P. Hence, your image for Sentinel 3 will contain significantly more pixels than the one for Sentinel 5P for the same spatial and temporal extents\n",
    "- When computing the processes (i.e., mean, max, etc) on the Sentinel 5P data, you need to use one band at a time. For Sentinel 3, you can include both bands simultaneously.\n",
    "\n"
   ]
  },
  {
   "cell_type": "code",
   "execution_count": 48,
   "id": "6e97f2ce",
   "metadata": {
    "tags": []
   },
   "outputs": [
    {
     "name": "stdout",
     "output_type": "stream",
     "text": [
      "Number of data points: 2974\n"
     ]
    },
    {
     "data": {
      "text/html": [
       "<div>\n",
       "<style scoped>\n",
       "    .dataframe tbody tr th:only-of-type {\n",
       "        vertical-align: middle;\n",
       "    }\n",
       "\n",
       "    .dataframe tbody tr th {\n",
       "        vertical-align: top;\n",
       "    }\n",
       "\n",
       "    .dataframe thead th {\n",
       "        text-align: right;\n",
       "    }\n",
       "</style>\n",
       "<table border=\"1\" class=\"dataframe\">\n",
       "  <thead>\n",
       "    <tr style=\"text-align: right;\">\n",
       "      <th></th>\n",
       "      <th>date</th>\n",
       "      <th>time_UTC</th>\n",
       "      <th>lat</th>\n",
       "      <th>lon</th>\n",
       "      <th>source_rate_t/h</th>\n",
       "      <th>uncertainty_t/h</th>\n",
       "      <th>estimated_source_type</th>\n",
       "      <th>west</th>\n",
       "      <th>east</th>\n",
       "      <th>south</th>\n",
       "      <th>north</th>\n",
       "    </tr>\n",
       "  </thead>\n",
       "  <tbody>\n",
       "    <tr>\n",
       "      <th>0</th>\n",
       "      <td>20210101</td>\n",
       "      <td>06:00:45</td>\n",
       "      <td>36.75</td>\n",
       "      <td>109.76</td>\n",
       "      <td>32</td>\n",
       "      <td>16</td>\n",
       "      <td>Coal</td>\n",
       "      <td>109.26</td>\n",
       "      <td>110.26</td>\n",
       "      <td>36.25</td>\n",
       "      <td>37.25</td>\n",
       "    </tr>\n",
       "    <tr>\n",
       "      <th>1</th>\n",
       "      <td>20210101</td>\n",
       "      <td>06:00:55</td>\n",
       "      <td>37.53</td>\n",
       "      <td>110.75</td>\n",
       "      <td>39</td>\n",
       "      <td>22</td>\n",
       "      <td>Coal</td>\n",
       "      <td>110.25</td>\n",
       "      <td>111.25</td>\n",
       "      <td>37.03</td>\n",
       "      <td>38.03</td>\n",
       "    </tr>\n",
       "    <tr>\n",
       "      <th>2</th>\n",
       "      <td>20210101</td>\n",
       "      <td>07:37:49</td>\n",
       "      <td>20.89</td>\n",
       "      <td>85.22</td>\n",
       "      <td>4</td>\n",
       "      <td>2</td>\n",
       "      <td>Coal</td>\n",
       "      <td>84.72</td>\n",
       "      <td>85.72</td>\n",
       "      <td>20.39</td>\n",
       "      <td>21.39</td>\n",
       "    </tr>\n",
       "    <tr>\n",
       "      <th>3</th>\n",
       "      <td>20210101</td>\n",
       "      <td>07:38:15</td>\n",
       "      <td>23.30</td>\n",
       "      <td>90.79</td>\n",
       "      <td>51</td>\n",
       "      <td>15</td>\n",
       "      <td>Landfill/Urban</td>\n",
       "      <td>90.29</td>\n",
       "      <td>91.29</td>\n",
       "      <td>22.80</td>\n",
       "      <td>23.80</td>\n",
       "    </tr>\n",
       "    <tr>\n",
       "      <th>4</th>\n",
       "      <td>20210101</td>\n",
       "      <td>07:38:27</td>\n",
       "      <td>23.56</td>\n",
       "      <td>86.44</td>\n",
       "      <td>25</td>\n",
       "      <td>12</td>\n",
       "      <td>Coal</td>\n",
       "      <td>85.94</td>\n",
       "      <td>86.94</td>\n",
       "      <td>23.06</td>\n",
       "      <td>24.06</td>\n",
       "    </tr>\n",
       "  </tbody>\n",
       "</table>\n",
       "</div>"
      ],
      "text/plain": [
       "       date  time_UTC    lat     lon  source_rate_t/h  uncertainty_t/h  \\\n",
       "0  20210101  06:00:45  36.75  109.76               32               16   \n",
       "1  20210101  06:00:55  37.53  110.75               39               22   \n",
       "2  20210101  07:37:49  20.89   85.22                4                2   \n",
       "3  20210101  07:38:15  23.30   90.79               51               15   \n",
       "4  20210101  07:38:27  23.56   86.44               25               12   \n",
       "\n",
       "  estimated_source_type    west    east  south  north  \n",
       "0                  Coal  109.26  110.26  36.25  37.25  \n",
       "1                  Coal  110.25  111.25  37.03  38.03  \n",
       "2                  Coal   84.72   85.72  20.39  21.39  \n",
       "3        Landfill/Urban   90.29   91.29  22.80  23.80  \n",
       "4                  Coal   85.94   86.94  23.06  24.06  "
      ]
     },
     "execution_count": 48,
     "metadata": {},
     "output_type": "execute_result"
    }
   ],
   "source": [
    "# Load the coordinates and labels of the CH4 plumes coming from gas infrastructure, \n",
    "# oil infrastruture and coal mines from [all TROPOMI detected plumes for 2021. (Schuit et al. 2023)]\n",
    "# (https://zenodo.org/records/8087134). \n",
    "\n",
    "CH4_plumes = pd.read_csv('Schuit_etal2023_TROPOMI_all_plume_detections_2021.csv')\n",
    "\n",
    "# For each plume, compute the spatial extent of an area 1 deg x 1 deg around the plume.\n",
    "CH4_plumes['west'] = CH4_plumes['lon'] - 0.5\n",
    "CH4_plumes['east'] = CH4_plumes['lon'] + 0.5\n",
    "CH4_plumes['south'] = CH4_plumes['lat'] - 0.5\n",
    "CH4_plumes['north'] = CH4_plumes['lat'] + 0.5\n",
    "\n",
    "print(\"Number of data points:\", len(CH4_plumes))\n",
    "\n",
    "CH4_plumes.head()"
   ]
  },
  {
   "cell_type": "code",
   "execution_count": 75,
   "id": "1a11df48-bbe0-4016-ba36-6d13280b0779",
   "metadata": {
    "tags": []
   },
   "outputs": [
    {
     "name": "stdout",
     "output_type": "stream",
     "text": [
      "Given Date: 2021-03-02\n",
      "10 Days Earlier: 2021-02-20\n",
      "10 Days Later: 2021-03-12\n"
     ]
    }
   ],
   "source": [
    "from datetime import datetime, timedelta\n",
    "\n",
    "# Given date in the format yyyy-mm-dd\n",
    "given_date_str = \"2021-03-02\"\n",
    "\n",
    "# Parse the given date\n",
    "given_date = datetime.strptime(given_date_str, \"%Y-%m-%d\")\n",
    "\n",
    "# Calculate the date 10 days earlier\n",
    "earlier_date = given_date - timedelta(days=10)\n",
    "\n",
    "# Calculate the date 10 days later\n",
    "later_date = given_date + timedelta(days=10)\n",
    "\n",
    "# Format the resulting dates as yyyy-mm-dd\n",
    "earlier_date_str = earlier_date.strftime(\"%Y-%m-%d\")\n",
    "later_date_str = later_date.strftime(\"%Y-%m-%d\")\n",
    "\n",
    "print(\"Given Date:\", given_date_str)\n",
    "print(\"10 Days Earlier:\", earlier_date_str)\n",
    "print(\"10 Days Later:\", later_date_str)\n"
   ]
  },
  {
   "cell_type": "code",
   "execution_count": 54,
   "id": "d4d6ac35-d334-4d42-a131-7003c3bf797e",
   "metadata": {
    "tags": []
   },
   "outputs": [
    {
     "data": {
      "text/html": [
       "<div>\n",
       "<style scoped>\n",
       "    .dataframe tbody tr th:only-of-type {\n",
       "        vertical-align: middle;\n",
       "    }\n",
       "\n",
       "    .dataframe tbody tr th {\n",
       "        vertical-align: top;\n",
       "    }\n",
       "\n",
       "    .dataframe thead th {\n",
       "        text-align: right;\n",
       "    }\n",
       "</style>\n",
       "<table border=\"1\" class=\"dataframe\">\n",
       "  <thead>\n",
       "    <tr style=\"text-align: right;\">\n",
       "      <th></th>\n",
       "      <th>date</th>\n",
       "      <th>time_UTC</th>\n",
       "      <th>lat</th>\n",
       "      <th>lon</th>\n",
       "      <th>source_rate_t/h</th>\n",
       "      <th>uncertainty_t/h</th>\n",
       "      <th>estimated_source_type</th>\n",
       "      <th>west</th>\n",
       "      <th>east</th>\n",
       "      <th>south</th>\n",
       "      <th>north</th>\n",
       "    </tr>\n",
       "  </thead>\n",
       "  <tbody>\n",
       "    <tr>\n",
       "      <th>0</th>\n",
       "      <td>20210302</td>\n",
       "      <td>05:34:14</td>\n",
       "      <td>32.89</td>\n",
       "      <td>116.76</td>\n",
       "      <td>24</td>\n",
       "      <td>12</td>\n",
       "      <td>Coal</td>\n",
       "      <td>116.26</td>\n",
       "      <td>117.26</td>\n",
       "      <td>32.39</td>\n",
       "      <td>33.39</td>\n",
       "    </tr>\n",
       "    <tr>\n",
       "      <th>1</th>\n",
       "      <td>20210501</td>\n",
       "      <td>05:08:55</td>\n",
       "      <td>32.92</td>\n",
       "      <td>116.36</td>\n",
       "      <td>16</td>\n",
       "      <td>7</td>\n",
       "      <td>Coal</td>\n",
       "      <td>115.86</td>\n",
       "      <td>116.86</td>\n",
       "      <td>32.42</td>\n",
       "      <td>33.42</td>\n",
       "    </tr>\n",
       "    <tr>\n",
       "      <th>2</th>\n",
       "      <td>20210224</td>\n",
       "      <td>07:25:21</td>\n",
       "      <td>18.53</td>\n",
       "      <td>79.71</td>\n",
       "      <td>44</td>\n",
       "      <td>18</td>\n",
       "      <td>Coal</td>\n",
       "      <td>79.21</td>\n",
       "      <td>80.21</td>\n",
       "      <td>18.03</td>\n",
       "      <td>19.03</td>\n",
       "    </tr>\n",
       "    <tr>\n",
       "      <th>3</th>\n",
       "      <td>20211123</td>\n",
       "      <td>05:48:09</td>\n",
       "      <td>36.52</td>\n",
       "      <td>112.83</td>\n",
       "      <td>104</td>\n",
       "      <td>50</td>\n",
       "      <td>Coal</td>\n",
       "      <td>112.33</td>\n",
       "      <td>113.33</td>\n",
       "      <td>36.02</td>\n",
       "      <td>37.02</td>\n",
       "    </tr>\n",
       "    <tr>\n",
       "      <th>4</th>\n",
       "      <td>20210731</td>\n",
       "      <td>11:31:34</td>\n",
       "      <td>-26.56</td>\n",
       "      <td>29.21</td>\n",
       "      <td>14</td>\n",
       "      <td>6</td>\n",
       "      <td>Coal</td>\n",
       "      <td>28.71</td>\n",
       "      <td>29.71</td>\n",
       "      <td>-27.06</td>\n",
       "      <td>-26.06</td>\n",
       "    </tr>\n",
       "  </tbody>\n",
       "</table>\n",
       "</div>"
      ],
      "text/plain": [
       "       date  time_UTC    lat     lon  source_rate_t/h  uncertainty_t/h  \\\n",
       "0  20210302  05:34:14  32.89  116.76               24               12   \n",
       "1  20210501  05:08:55  32.92  116.36               16                7   \n",
       "2  20210224  07:25:21  18.53   79.71               44               18   \n",
       "3  20211123  05:48:09  36.52  112.83              104               50   \n",
       "4  20210731  11:31:34 -26.56   29.21               14                6   \n",
       "\n",
       "  estimated_source_type    west    east  south  north  \n",
       "0                  Coal  116.26  117.26  32.39  33.39  \n",
       "1                  Coal  115.86  116.86  32.42  33.42  \n",
       "2                  Coal   79.21   80.21  18.03  19.03  \n",
       "3                  Coal  112.33  113.33  36.02  37.02  \n",
       "4                  Coal   28.71   29.71 -27.06 -26.06  "
      ]
     },
     "execution_count": 54,
     "metadata": {},
     "output_type": "execute_result"
    }
   ],
   "source": [
    "rows_per_class = 50\n",
    "filtered_dataset = pd.DataFrame()\n",
    "\n",
    "for class_name in CH4_plumes['estimated_source_type'].unique():\n",
    "    if class_name != 'Unclassified':\n",
    "        class_subset = CH4_plumes[CH4_plumes['estimated_source_type'] == class_name]\n",
    "\n",
    "        if len(class_subset) >= rows_per_class:\n",
    "            sampled_rows = class_subset.sample(rows_per_class)\n",
    "        else:\n",
    "            sampled_rows = class_subset\n",
    "\n",
    "        filtered_dataset = pd.concat([filtered_dataset, sampled_rows])\n",
    "\n",
    "filtered_dataset = filtered_dataset.reset_index(drop=True)\n",
    "filtered_dataset.to_csv('filtered_CH4_plumes.csv', index=False)\n",
    "filtered_dataset.head()"
   ]
  },
  {
   "cell_type": "code",
   "execution_count": 46,
   "id": "b355fbad-84cb-4279-9709-353e39ddf124",
   "metadata": {
    "tags": []
   },
   "outputs": [
    {
     "data": {
      "text/html": [
       "\n",
       "    <script>\n",
       "    if (!window.customElements || !window.customElements.get('openeo-file-formats')) {\n",
       "        var el = document.createElement('script');\n",
       "        el.src = \"https://cdn.jsdelivr.net/npm/@openeo/vue-components@2/assets/openeo.min.js\";\n",
       "        document.head.appendChild(el);\n",
       "\n",
       "        var font = document.createElement('font');\n",
       "        font.as = \"font\";\n",
       "        font.type = \"font/woff2\";\n",
       "        font.crossOrigin = true;\n",
       "        font.href = \"https://use.fontawesome.com/releases/v5.13.0/webfonts/fa-solid-900.woff2\"\n",
       "        document.head.appendChild(font);\n",
       "    }\n",
       "    </script>\n",
       "    <openeo-file-formats>\n",
       "        <script type=\"application/json\">{\"formats\": {\"input\": {\"GPKG\": {\"description\": \"GeoPackage is an open, standards-based, platform-independent, portable, self-describing, compact format for transferring geospatial information.\", \"gis_data_types\": [\"vector\"], \"parameters\": {}, \"title\": \"GeoPackage\"}, \"GTiff\": {\"description\": \"Geotiff is one of the most widely supported formats. This backend allows reading from Geotiff to create raster data cubes.\", \"gis_data_types\": [\"raster\"], \"parameters\": {}, \"title\": \"GeoTiff\"}, \"GeoJSON\": {\"description\": \"GeoJSON allows sending vector data as part of your JSON request. GeoJSON is always in EPSG:4326. \", \"gis_data_types\": [\"vector\"], \"parameters\": {}, \"title\": \"GeoJSON\"}, \"Parquet\": {\"description\": \"GeoParquet is an efficient binary format, to distribute large amounts of vector data.\", \"gis_data_types\": [\"vector\"], \"parameters\": {}, \"title\": \"(Geo)Parquet\"}}, \"output\": {\"CSV\": {\"description\": \"CSV format is supported to export vector cube data, for instance generated by aggregate_spatial.\", \"gis_data_types\": [\"vector\"], \"parameters\": {}, \"title\": \"Comma Separated Values (CSV)\"}, \"CovJSON\": {\"description\": \"CoverageJSON is a JSON based format for geotemporal data.\", \"gis_data_types\": [\"other\", \"raster\"], \"parameters\": {}, \"title\": \"CoverageJSON\"}, \"GTiff\": {\"description\": \"Cloud Optimized Geotiff is one of the most widely supported formats and thus a popular choice for further dissemination. This implementation stores all bands in one file, and creates one file per timestamp in your datacube.\", \"gis_data_types\": [\"raster\"], \"parameters\": {\"ZLEVEL\": {\"default\": \"6\", \"description\": \"Specifies the compression level used for DEFLATE compression. As a number from 1 to 9, lowest and fastest compression is 1 while 9 is highest and slowest compression.\", \"type\": \"string\"}, \"colormap\": {\"default\": null, \"description\": \"Allows specifying a colormap, for single band geotiffs. The colormap is a dictionary mapping band values to colors, specified by an integer.\", \"type\": [\"object\", \"null\"]}, \"feature_id_property\": {\"default\": null, \"description\": \"Specifies the name of the feature attribute that is to be used as feature id, by processes that require it. Can be used to link a given output back to an input feature.\", \"type\": [\"string\", \"null\"]}, \"filename_prefix\": {\"default\": null, \"description\": \"Specifies the filename prefix when outputting multiple files. By default, depending on the context, 'OpenEO' or a part of the input filename will be used as prefix.\", \"type\": \"string\"}, \"overviews\": {\"default\": \"AUTO\", \"description\": \"Specifies the strategy to generate overviews. The default, AUTO, allows the backend to choose an optimal configuration, depending on the size of the generated tiff, and backend capabilities.\", \"enum\": [\"AUTO\", \"OFF\"], \"type\": \"string\"}, \"sample_by_feature\": {\"default\": false, \"description\": \"Set to true to write one output tiff per feature and date. Spatial features can be specified using filter_spatial. This setting is used to sample a data cube at multiple locations in a single job.\", \"type\": \"boolean\"}, \"tile_grid\": {\"default\": null, \"description\": \"Specifies the tile grid to use, for batch jobs only. By default, no tile grid is set, and one Geotiff is generated per date. If a tile grid is set, multiple geotiffs are generated per date, as defined by the specified tiling grid.\", \"enum\": [\"wgs84-1degree\", \"utm-100km\", \"utm-20km\", \"utm-10km\"], \"type\": [\"string\", \"null\"]}}, \"title\": \"GeoTiff\"}, \"JSON\": {\"description\": \"JSON is a generic data serialization format. Being generic, it allows to represent various data types (raster, vector, table, ...). On the other side, there is little standardization for complex data structures.\", \"gis_data_types\": [\"raster\", \"vector\"], \"parameters\": {}, \"title\": \"JavaScript Object Notation (JSON)\"}, \"PNG\": {\"description\": \"PNG is a popular raster format used for graphics on the web. Compared to other EO raster formats, it is less flexible and standardized regarding number of bands, embedding geospatial metadata, etc.\", \"gis_data_types\": [\"raster\"], \"parameters\": {\"colormap\": {\"default\": null, \"description\": \"Allows specifying a colormap, for single band PNGs. The colormap is a dictionary mapping band values to colors, either specified by an integer or an array of [R, G, B, A], where each value lies between 0.0 and 1.0.\", \"type\": [\"object\", \"null\"]}}, \"title\": \"Portable Network Graphics (PNG)\"}, \"netCDF\": {\"description\": \"netCDF files allow to accurately represent an openEO datacube and its metadata.\", \"gis_data_types\": [\"other\", \"raster\"], \"parameters\": {\"feature_id_property\": {\"default\": null, \"description\": \"Specifies the name of the feature attribute that is to be used as feature id, by processes that require it. Can be used to link a given output back to an input feature.\", \"type\": [\"string\", \"null\"]}, \"sample_by_feature\": {\"default\": false, \"description\": \"Set to true to write one output netCDF per feature, containing all bands and dates. Spatial features can be specified using filter_spatial. This setting is used to sample a data cube at multiple locations in a single job.\", \"type\": \"boolean\"}}, \"title\": \"Network Common Data Form\"}}}}</script>\n",
       "    </openeo-file-formats>\n",
       "    "
      ],
      "text/plain": [
       "{'input': {'GPKG': {'description': 'GeoPackage is an open, standards-based, platform-independent, portable, self-describing, compact format for transferring geospatial information.',\n",
       "   'gis_data_types': ['vector'],\n",
       "   'parameters': {},\n",
       "   'title': 'GeoPackage'},\n",
       "  'GTiff': {'description': 'Geotiff is one of the most widely supported formats. This backend allows reading from Geotiff to create raster data cubes.',\n",
       "   'gis_data_types': ['raster'],\n",
       "   'parameters': {},\n",
       "   'title': 'GeoTiff'},\n",
       "  'GeoJSON': {'description': 'GeoJSON allows sending vector data as part of your JSON request. GeoJSON is always in EPSG:4326. ',\n",
       "   'gis_data_types': ['vector'],\n",
       "   'parameters': {},\n",
       "   'title': 'GeoJSON'},\n",
       "  'Parquet': {'description': 'GeoParquet is an efficient binary format, to distribute large amounts of vector data.',\n",
       "   'gis_data_types': ['vector'],\n",
       "   'parameters': {},\n",
       "   'title': '(Geo)Parquet'}},\n",
       " 'output': {'CSV': {'description': 'CSV format is supported to export vector cube data, for instance generated by aggregate_spatial.',\n",
       "   'gis_data_types': ['vector'],\n",
       "   'parameters': {},\n",
       "   'title': 'Comma Separated Values (CSV)'},\n",
       "  'CovJSON': {'description': 'CoverageJSON is a JSON based format for geotemporal data.',\n",
       "   'gis_data_types': ['other', 'raster'],\n",
       "   'parameters': {},\n",
       "   'title': 'CoverageJSON'},\n",
       "  'GTiff': {'description': 'Cloud Optimized Geotiff is one of the most widely supported formats and thus a popular choice for further dissemination. This implementation stores all bands in one file, and creates one file per timestamp in your datacube.',\n",
       "   'gis_data_types': ['raster'],\n",
       "   'parameters': {'ZLEVEL': {'default': '6',\n",
       "     'description': 'Specifies the compression level used for DEFLATE compression. As a number from 1 to 9, lowest and fastest compression is 1 while 9 is highest and slowest compression.',\n",
       "     'type': 'string'},\n",
       "    'colormap': {'default': None,\n",
       "     'description': 'Allows specifying a colormap, for single band geotiffs. The colormap is a dictionary mapping band values to colors, specified by an integer.',\n",
       "     'type': ['object', 'null']},\n",
       "    'feature_id_property': {'default': None,\n",
       "     'description': 'Specifies the name of the feature attribute that is to be used as feature id, by processes that require it. Can be used to link a given output back to an input feature.',\n",
       "     'type': ['string', 'null']},\n",
       "    'filename_prefix': {'default': None,\n",
       "     'description': \"Specifies the filename prefix when outputting multiple files. By default, depending on the context, 'OpenEO' or a part of the input filename will be used as prefix.\",\n",
       "     'type': 'string'},\n",
       "    'overviews': {'default': 'AUTO',\n",
       "     'description': 'Specifies the strategy to generate overviews. The default, AUTO, allows the backend to choose an optimal configuration, depending on the size of the generated tiff, and backend capabilities.',\n",
       "     'enum': ['AUTO', 'OFF'],\n",
       "     'type': 'string'},\n",
       "    'sample_by_feature': {'default': False,\n",
       "     'description': 'Set to true to write one output tiff per feature and date. Spatial features can be specified using filter_spatial. This setting is used to sample a data cube at multiple locations in a single job.',\n",
       "     'type': 'boolean'},\n",
       "    'tile_grid': {'default': None,\n",
       "     'description': 'Specifies the tile grid to use, for batch jobs only. By default, no tile grid is set, and one Geotiff is generated per date. If a tile grid is set, multiple geotiffs are generated per date, as defined by the specified tiling grid.',\n",
       "     'enum': ['wgs84-1degree', 'utm-100km', 'utm-20km', 'utm-10km'],\n",
       "     'type': ['string', 'null']}},\n",
       "   'title': 'GeoTiff'},\n",
       "  'JSON': {'description': 'JSON is a generic data serialization format. Being generic, it allows to represent various data types (raster, vector, table, ...). On the other side, there is little standardization for complex data structures.',\n",
       "   'gis_data_types': ['raster', 'vector'],\n",
       "   'parameters': {},\n",
       "   'title': 'JavaScript Object Notation (JSON)'},\n",
       "  'PNG': {'description': 'PNG is a popular raster format used for graphics on the web. Compared to other EO raster formats, it is less flexible and standardized regarding number of bands, embedding geospatial metadata, etc.',\n",
       "   'gis_data_types': ['raster'],\n",
       "   'parameters': {'colormap': {'default': None,\n",
       "     'description': 'Allows specifying a colormap, for single band PNGs. The colormap is a dictionary mapping band values to colors, either specified by an integer or an array of [R, G, B, A], where each value lies between 0.0 and 1.0.',\n",
       "     'type': ['object', 'null']}},\n",
       "   'title': 'Portable Network Graphics (PNG)'},\n",
       "  'netCDF': {'description': 'netCDF files allow to accurately represent an openEO datacube and its metadata.',\n",
       "   'gis_data_types': ['other', 'raster'],\n",
       "   'parameters': {'feature_id_property': {'default': None,\n",
       "     'description': 'Specifies the name of the feature attribute that is to be used as feature id, by processes that require it. Can be used to link a given output back to an input feature.',\n",
       "     'type': ['string', 'null']},\n",
       "    'sample_by_feature': {'default': False,\n",
       "     'description': 'Set to true to write one output netCDF per feature, containing all bands and dates. Spatial features can be specified using filter_spatial. This setting is used to sample a data cube at multiple locations in a single job.',\n",
       "     'type': 'boolean'}},\n",
       "   'title': 'Network Common Data Form'}}}"
      ]
     },
     "execution_count": 46,
     "metadata": {},
     "output_type": "execute_result"
    }
   ],
   "source": [
    "connection.list_file_formats()"
   ]
  },
  {
   "cell_type": "markdown",
   "id": "25017139-47cd-448c-98af-8319ed762ab8",
   "metadata": {
    "tags": []
   },
   "source": [
    "Disclaimer:\n",
    "Due to the extremely long time of data preparation, I have minimized the temporal extent and number of datapoints significantly. Temporal extent now lasts for only 10 days and number of datapoints is 200, each class has 50 datapoints and the class Unclassified is not considered\n",
    "\n",
    "My own feedback to the course staff: you are aware that this lengthy data preprocessing cannot be done in just 2-3 days, and students do not have all free time to do this subject alone. I know it is meaningful to learn the data preprocessing, but this process is simply too long for me to sit through and wait for all "
   ]
  },
  {
   "cell_type": "code",
   "execution_count": null,
   "id": "04072a14-836e-4ca4-8bf5-4da6dca6ef3b",
   "metadata": {
    "tags": []
   },
   "outputs": [
    {
     "name": "stdout",
     "output_type": "stream",
     "text": [
      "Starting row index 0\n",
      "0:00:00 Job 'j-240127e257eb42c4ab9173220dca1778': send 'start'\n",
      "0:00:13 Job 'j-240127e257eb42c4ab9173220dca1778': created (progress N/A)\n",
      "0:00:18 Job 'j-240127e257eb42c4ab9173220dca1778': created (progress N/A)\n",
      "0:00:25 Job 'j-240127e257eb42c4ab9173220dca1778': created (progress N/A)\n",
      "0:00:33 Job 'j-240127e257eb42c4ab9173220dca1778': created (progress N/A)\n",
      "0:00:43 Job 'j-240127e257eb42c4ab9173220dca1778': created (progress N/A)\n",
      "0:00:56 Job 'j-240127e257eb42c4ab9173220dca1778': created (progress N/A)\n",
      "0:01:11 Job 'j-240127e257eb42c4ab9173220dca1778': running (progress N/A)\n",
      "0:01:31 Job 'j-240127e257eb42c4ab9173220dca1778': running (progress N/A)\n",
      "0:01:55 Job 'j-240127e257eb42c4ab9173220dca1778': running (progress N/A)\n",
      "0:02:25 Job 'j-240127e257eb42c4ab9173220dca1778': finished (progress N/A)\n",
      "0:00:00 Job 'j-2401274ab5f74818b876ecdf9962672a': send 'start'\n",
      "0:00:14 Job 'j-2401274ab5f74818b876ecdf9962672a': created (progress N/A)\n",
      "0:00:22 Job 'j-2401274ab5f74818b876ecdf9962672a': created (progress N/A)\n",
      "0:00:29 Job 'j-2401274ab5f74818b876ecdf9962672a': created (progress N/A)\n",
      "0:00:37 Job 'j-2401274ab5f74818b876ecdf9962672a': running (progress N/A)\n",
      "0:00:47 Job 'j-2401274ab5f74818b876ecdf9962672a': running (progress N/A)\n",
      "0:01:00 Job 'j-2401274ab5f74818b876ecdf9962672a': running (progress N/A)\n",
      "0:01:15 Job 'j-2401274ab5f74818b876ecdf9962672a': running (progress N/A)\n",
      "0:01:34 Job 'j-2401274ab5f74818b876ecdf9962672a': running (progress N/A)\n",
      "0:01:59 Job 'j-2401274ab5f74818b876ecdf9962672a': finished (progress N/A)\n",
      "0:00:00 Job 'j-2401278fc7964415b964a9aad191a26f': send 'start'\n",
      "0:00:14 Job 'j-2401278fc7964415b964a9aad191a26f': created (progress N/A)\n",
      "0:00:19 Job 'j-2401278fc7964415b964a9aad191a26f': created (progress N/A)\n",
      "0:00:26 Job 'j-2401278fc7964415b964a9aad191a26f': created (progress N/A)\n",
      "0:00:34 Job 'j-2401278fc7964415b964a9aad191a26f': created (progress N/A)\n",
      "0:00:44 Job 'j-2401278fc7964415b964a9aad191a26f': running (progress N/A)\n",
      "0:00:56 Job 'j-2401278fc7964415b964a9aad191a26f': running (progress N/A)\n",
      "0:01:12 Job 'j-2401278fc7964415b964a9aad191a26f': running (progress N/A)\n",
      "0:01:31 Job 'j-2401278fc7964415b964a9aad191a26f': running (progress N/A)\n",
      "0:01:56 Job 'j-2401278fc7964415b964a9aad191a26f': finished (progress N/A)\n",
      "0:00:00 Job 'j-24012718c3f84551b27059519744abe3': send 'start'\n",
      "0:00:15 Job 'j-24012718c3f84551b27059519744abe3': created (progress N/A)\n",
      "0:00:20 Job 'j-24012718c3f84551b27059519744abe3': created (progress N/A)\n",
      "0:00:27 Job 'j-24012718c3f84551b27059519744abe3': created (progress N/A)\n",
      "0:00:35 Job 'j-24012718c3f84551b27059519744abe3': running (progress N/A)\n",
      "0:00:45 Job 'j-24012718c3f84551b27059519744abe3': running (progress N/A)\n",
      "0:00:57 Job 'j-24012718c3f84551b27059519744abe3': running (progress N/A)\n"
     ]
    }
   ],
   "source": [
    "filtered_CH4_plumes = pd.read_csv('filtered_CH4_plumes_fix.csv')\n",
    "    \n",
    "for index, row in filtered_CH4_plumes.iterrows():\n",
    "    print(f\"Starting row index {index}\")\n",
    "    aoi = {\"west\": row['west'], \"south\": row['south'], \"east\": row['east'], \"north\": row['north'], \"crs\": \"EPSG:4326\"}\n",
    "    date_string = str(row[\"date\"])\n",
    "    given_date = datetime.strptime(date_string, \"%Y%m%d\")\n",
    "\n",
    "    # Calculate the date 10 days earlier\n",
    "    earlier_date = given_date - timedelta(days=5)\n",
    "\n",
    "    # Calculate the date 10 days later\n",
    "    later_date = given_date + timedelta(days=5)\n",
    "\n",
    "    # Format the resulting dates as yyyy-mm-dd\n",
    "    earlier_date_str = earlier_date.strftime(\"%Y-%m-%d\")\n",
    "    later_date_str = later_date.strftime(\"%Y-%m-%d\")\n",
    "    # time_period = (\"2021-01-01\", \"2021-01-05\")\n",
    "    time_period = (earlier_date_str, later_date_str)\n",
    "    \n",
    "    # Sentinel 5P Data Retrieval (for each band)\n",
    "    for band in [\"CH4\", \"CO\", \"SO2\", \"NO2\"]:\n",
    "        data = connection.load_collection(\n",
    "            \"SENTINEL_5P_L2\",\n",
    "            spatial_extent=aoi,\n",
    "            temporal_extent=time_period,\n",
    "            bands=[band]\n",
    "        )\n",
    "\n",
    "        for reducing_function in [\"min\",\"max\",\"mean\",\"sd\"]:\n",
    "            data_reduced = data.reduce_dimension(\n",
    "               reducer=reducing_function, \n",
    "               dimension=\"t\"\n",
    "            )\n",
    "            data_reduced = data_reduced.save_result(format=\"netCDF\")\n",
    "            job = data_reduced.create_job(title=\"reducing\")\n",
    "            job.start_and_wait()\n",
    "            result = job.get_results()\n",
    "            folder_path = f\"output/prepared_data/{index+1}/{band}/{reducing_function}\"\n",
    "            if not os.path.exists(folder_path):\n",
    "                os.makedirs(folder_path)\n",
    "            result.download_files(folder_path)\n",
    "    print(f\"Finish row index {index}\")"
   ]
  },
  {
   "cell_type": "code",
   "execution_count": null,
   "id": "596adf94-6ff7-47b7-8ced-17f07ee30fc6",
   "metadata": {
    "tags": []
   },
   "outputs": [],
   "source": [
    "# Using Joblib, but it seems openEO does not allow more than 2 concurrent requests\n",
    "def process_band_reduction(index, band, reducing_function):\n",
    "    row = filtered_CH4_plumes.iloc[index]\n",
    "    aoi = {\"west\": row['west'], \"south\": row['south'], \"east\": row['east'], \"north\": row['north'], \"crs\": \"EPSG:4326\"}\n",
    "    \n",
    "    time_period = (\"2021-01-01\", \"2021-01-31\")\n",
    "    \n",
    "    data = connection.load_collection(\n",
    "        \"SENTINEL_5P_L2\",\n",
    "        spatial_extent=aoi,\n",
    "        temporal_extent=time_period,\n",
    "        bands=[band]\n",
    "    )\n",
    "\n",
    "    data_reduced = data.reduce_dimension(reducer=reducing_function, dimension=\"t\")\n",
    "    data_reduced = data_reduced.save_result(format=\"netCDF\")\n",
    "    job = data_reduced.create_job(title=\"reducing\")\n",
    "    job.start_and_wait()\n",
    "    result = job.get_results()\n",
    "\n",
    "    folder_path = f\"output/prepared_data/{index+1}/{band}/{reducing_function}\"\n",
    "    if not os.path.exists(folder_path):\n",
    "        os.makedirs(folder_path)\n",
    "\n",
    "    result.download_files(folder_path)\n",
    "\n",
    "bands = [\"CH4\", \"CO\", \"SO2\", \"NO2\"]\n",
    "reducing_functions = [\"min\", \"max\", \"mean\", \"sd\"]\n",
    "\n",
    "tasks = [(index, band, reducing_function) for index in range(len(bands)) for band in bands for reducing_function in reducing_functions]\n",
    "\n",
    "num_jobs = 1   \n",
    "joblib.Parallel(n_jobs=num_jobs)(joblib.delayed(process_band_reduction)(*task) for task in tasks)"
   ]
  },
  {
   "cell_type": "code",
   "execution_count": 63,
   "id": "c7c59e35-aad9-4cef-97f3-776337f5530b",
   "metadata": {
    "tags": []
   },
   "outputs": [
    {
     "data": {
      "image/png": "[encoded data removed]",
      "text/plain": [
       "<Figure size 640x480 with 2 Axes>"
      ]
     },
     "metadata": {},
     "output_type": "display_data"
    },
    {
     "name": "stdout",
     "output_type": "stream",
     "text": [
      "<xarray.Dataset>\n",
      "Dimensions:  (x: 19, y: 29)\n",
      "Coordinates:\n",
      "  * x        (x) float64 116.3 116.3 116.4 116.5 ... 117.1 117.2 117.2 117.3\n",
      "  * y        (y) float64 33.37 33.34 33.3 33.27 33.23 ... 32.5 32.47 32.44 32.4\n",
      "Data variables:\n",
      "    crs      |S1 ...\n",
      "    CH4      (y, x) float32 1.857e+03 1.857e+03 1.872e+03 ... 1.87e+03 1.82e+03\n",
      "Attributes:\n",
      "    Conventions:  CF-1.9\n",
      "    institution:  openEO platform - Geotrellis backend: 0.22.2a1\n",
      "    description:  \n",
      "    title:        \n"
     ]
    }
   ],
   "source": [
    "ds_min = xr.open_dataset(\"output/prepared_data/1/CH4/min/openEO.nc\")\n",
    "\n",
    "ch4_data = ds_min['CH4']\n",
    "\n",
    "# Plot the data\n",
    "plt.imshow(ch4_data, extent=(ds_min['x'].min(), ds_min['x'].max(), ds_min['y'].min(), ds_min['y'].max()))\n",
    "plt.colorbar(label='CH4 Concentration')\n",
    "plt.xlabel('Longitude')\n",
    "plt.ylabel('Latitude')\n",
    "plt.title('CH4 Concentration Map')\n",
    "plt.show()\n",
    "\n",
    "print(ds_min)"
   ]
  },
  {
   "cell_type": "code",
   "execution_count": null,
   "id": "da7176e5-34de-4719-b2ba-fc50000c09be",
   "metadata": {},
   "outputs": [],
   "source": []
  },
  {
   "cell_type": "code",
   "execution_count": null,
   "id": "9112e53c-eb76-4ecf-a610-08664aca0eef",
   "metadata": {},
   "outputs": [],
   "source": [
    "filtered_CH4_plumes = pd.read_csv('filtered_CH4_plumes_fix.csv')\n",
    "\n",
    "for index, row in filtered_CH4_plumes.iterrows():\n",
    "    aoi = {\"west\": row['west'], \"south\": row['south'], \"east\": row['east'], \"north\": row['north'], \"crs\": \"EPSG:4326\"}\n",
    "    \n",
    "    time_period = (\"2021-01-01\", \"2021-12-31\")\n",
    "    \n",
    "    for band in [\"S5\",\"S6\"]:\n",
    "        # Sentinel 3 Data Retrieval for S5 and S6 bands\n",
    "        s3_data = connection.load_collection(\n",
    "            \"SENTINEL3_SLSTR\",\n",
    "            spatial_extent=aoi,\n",
    "            temporal_extent=time_period,\n",
    "            bands=[band]\n",
    "        )\n",
    "        for reducing_function in [\"min\",\"max\",\"mean\",\"sd\"]:\n",
    "            data_mean = data.reduce_dimension(\n",
    "               reducer=reducing_function, \n",
    "               dimension=\"t\"\n",
    "            )\n",
    "            data_reduced = data_reduced.save_result(format=\"netCDF\")\n",
    "            job = data_reduced.create_job(title=\"reducing\")\n",
    "            job.start_and_wait()\n",
    "            result = job.get_results()\n",
    "            folder_path = f\"output/prepared_data/{index+1}/{band}/{reducing_function}\"\n",
    "            if not os.path.exists(folder_path):\n",
    "                os.makedirs(folder_path)\n",
    "            result.download_files(folder_path)\n"
   ]
  },
  {
   "cell_type": "markdown",
   "id": "7c7c2e82",
   "metadata": {},
   "source": [
    "## Exercise 3.5 SVM (4 pt)\n",
    "\n",
    "Build an SVM model using the data you prepared in Exercise 3.4"
   ]
  },
  {
   "cell_type": "code",
   "execution_count": null,
   "id": "53751feb",
   "metadata": {},
   "outputs": [],
   "source": []
  },
  {
   "cell_type": "markdown",
   "id": "5f9f654f",
   "metadata": {},
   "source": [
    "## Exercise 3.6 Discuss the approach you took in Exercises 3.4 and 3.5. (2 pt)\n",
    "\n",
    "Some points to consider:\n",
    "- Strength and weaknesses? \n",
    "- Suggestions for improvement? \n",
    "- Implications for policy-makers? \n",
    "- Possible further research questions?\n",
    "- Ethical considerations?"
   ]
  },
  {
   "cell_type": "markdown",
   "id": "f783a6c4",
   "metadata": {},
   "source": []
  },
  {
   "cell_type": "markdown",
   "id": "9d873875",
   "metadata": {},
   "source": [
    "## (Optional) Exercise 3.7 Use any other (supervised or unsupervised) classification algorithm on data you prepared in Exercise 3.4 (3 pt)"
   ]
  },
  {
   "cell_type": "code",
   "execution_count": null,
   "id": "d20341d1",
   "metadata": {},
   "outputs": [],
   "source": []
  },
  {
   "cell_type": "markdown",
   "id": "afa98fcd",
   "metadata": {},
   "source": [
    "Why did you choose this algorithm? Compare to the approach and results in Exercise 3.5."
   ]
  },
  {
   "cell_type": "markdown",
   "id": "8ff46f1d",
   "metadata": {},
   "source": []
  },
  {
   "cell_type": "markdown",
   "id": "8082ef9d",
   "metadata": {},
   "source": [
    "## (Optional) Exercise 3.8 Test the model from Exercise 3.5 against a different time period (3 pt)\n",
    "\n",
    "Assume that the location of super-emitters remains relatively stable over time. As in Exercise 3.4 load the data for the point sources but now for a different time period (say, the entire 2022 or 2023). Test how well your model from Exercise 3.5 performs on this new data. Discuss"
   ]
  },
  {
   "cell_type": "markdown",
   "id": "faa3f18f",
   "metadata": {},
   "source": [
    "I don't have time for this exercise, sorry"
   ]
  }
 ],
 "metadata": {
  "kernelspec": {
   "display_name": "Python 3",
   "language": "python",
   "name": "python3"
  },
  "language_info": {
   "codemirror_mode": {
    "name": "ipython",
    "version": 3
   },
   "file_extension": ".py",
   "mimetype": "text/x-python",
   "name": "python",
   "nbconvert_exporter": "python",
   "pygments_lexer": "ipython3",
   "version": "3.10.12"
  }
 },
 "nbformat": 4,
 "nbformat_minor": 5
}
