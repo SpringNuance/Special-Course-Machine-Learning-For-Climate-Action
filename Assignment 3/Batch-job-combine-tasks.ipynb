{
 "cells": [
  {
   "cell_type": "code",
   "execution_count": 1,
   "id": "3fc595db-1a39-49fd-82fa-9f88faaebccb",
   "metadata": {
    "tags": []
   },
   "outputs": [],
   "source": [
    "import openeo"
   ]
  },
  {
   "cell_type": "code",
   "execution_count": 2,
   "id": "6a939ae0-090a-4174-a67a-6609bc6c24b5",
   "metadata": {
    "tags": []
   },
   "outputs": [
    {
     "name": "stdout",
     "output_type": "stream",
     "text": [
      "Authenticated using refresh token.\n"
     ]
    },
    {
     "data": {
      "text/plain": [
       "<Connection to 'https://openeo.dataspace.copernicus.eu/openeo/1.2/' with OidcBearerAuth>"
      ]
     },
     "execution_count": 2,
     "metadata": {},
     "output_type": "execute_result"
    }
   ],
   "source": [
    "connection = openeo.connect(url=\"openeo.dataspace.copernicus.eu\")\n",
    "connection.authenticate_oidc()"
   ]
  },
  {
   "cell_type": "markdown",
   "id": "cc868765",
   "metadata": {},
   "source": [
    "## Batch jobs basics\n",
    "\n",
    "Let's do a simple batch job first: compute pixel-wise means over an area."
   ]
  },
  {
   "cell_type": "markdown",
   "id": "687c716f-e283-476e-90c8-450ae12a393b",
   "metadata": {},
   "source": [
    "1. Specify the range of raw data that need to be loaded by the server for further processing."
   ]
  },
  {
   "cell_type": "code",
   "execution_count": 3,
   "id": "1c92e1c5",
   "metadata": {
    "tags": []
   },
   "outputs": [],
   "source": [
    "period=(\"2022-05-01\", \"2022-06-01\")\n",
    "aoi={\n",
    "        \"west\": 3.20,\n",
    "        \"south\": 51.18,\n",
    "        \"east\": 3.70,\n",
    "        \"north\": 51.68,\n",
    "        \"crs\": \"EPSG:4326\",\n",
    "    }"
   ]
  },
  {
   "cell_type": "code",
   "execution_count": 4,
   "id": "f2e9691e",
   "metadata": {
    "tags": []
   },
   "outputs": [],
   "source": [
    "# Server-side computations with Sentinel 5 data process one band at a time\n",
    "s5_CH4 = connection.load_collection(\n",
    "    \"SENTINEL_5P_L2\",\n",
    "    spatial_extent=aoi,\n",
    "    temporal_extent = period,\n",
    "    bands=[\"CH4\"]\n",
    ")"
   ]
  },
  {
   "cell_type": "code",
   "execution_count": 5,
   "id": "cca8781d",
   "metadata": {
    "tags": []
   },
   "outputs": [],
   "source": [
    "# Server-side computations with Sentinel 3 data process several bands at a time\n",
    "s3_all_bands = connection.load_collection(\n",
    "    \"SENTINEL3_SLSTR\",\n",
    "    spatial_extent=aoi,\n",
    "    temporal_extent = period,\n",
    "    bands=[\"S5\", \"S6\"]\n",
    ")"
   ]
  },
  {
   "cell_type": "markdown",
   "id": "f115d288",
   "metadata": {},
   "source": [
    "2. Define the server-side computations that need to be performed on the raw data. For now, we are just computing pixel-wise means. We will make this more advanced in a moment."
   ]
  },
  {
   "cell_type": "code",
   "execution_count": 6,
   "id": "2f2496e3",
   "metadata": {
    "tags": []
   },
   "outputs": [],
   "source": [
    "s5_CH4_mean = s5_CH4.reduce_dimension(dimension=\"t\", reducer=\"mean\")\n",
    "s5_CH4_mean = s5_CH4_mean.save_result(format=\"JSON\")"
   ]
  },
  {
   "cell_type": "code",
   "execution_count": 7,
   "id": "ee41ab32",
   "metadata": {
    "tags": []
   },
   "outputs": [],
   "source": [
    "s3_mean = s3_all_bands.reduce_dimension(dimension=\"t\", reducer=\"mean\")\n",
    "s3_mean = s3_mean.save_result(format=\"JSON\")"
   ]
  },
  {
   "cell_type": "markdown",
   "id": "b2d2c23e",
   "metadata": {},
   "source": [
    "3. Create a batch job. "
   ]
  },
  {
   "cell_type": "code",
   "execution_count": 8,
   "id": "1596fdf5",
   "metadata": {
    "tags": []
   },
   "outputs": [],
   "source": [
    "job=s3_mean.create_job(title=\"Mean-S3-aoi\")"
   ]
  },
  {
   "cell_type": "code",
   "execution_count": 9,
   "id": "092178b4",
   "metadata": {
    "tags": []
   },
   "outputs": [],
   "source": [
    "job = s5_CH4_mean.create_job(title=\"Mean-S5-CH4-aoi\")"
   ]
  },
  {
   "cell_type": "markdown",
   "id": "fc324e63",
   "metadata": {},
   "source": [
    "Batch jobs allow you to start a job, leave (and shut down your device), let it run on the servers and then reconnect later. For that, you need to know the job_id."
   ]
  },
  {
   "cell_type": "code",
   "execution_count": 10,
   "id": "a350648f",
   "metadata": {
    "tags": []
   },
   "outputs": [],
   "source": [
    "job_id=job.job_id"
   ]
  },
  {
   "cell_type": "markdown",
   "id": "d54802bf-9e8d-4231-a4de-f6dcd0a2b8e4",
   "metadata": {},
   "source": [
    "Start the job. "
   ]
  },
  {
   "cell_type": "code",
   "execution_count": 11,
   "id": "219d08fa",
   "metadata": {
    "tags": []
   },
   "outputs": [
    {
     "name": "stdout",
     "output_type": "stream",
     "text": [
      "0:00:00 Job 'j-240212870c1b45d2a7a1018805c6a54e': send 'start'\n",
      "0:00:16 Job 'j-240212870c1b45d2a7a1018805c6a54e': created (progress N/A)\n",
      "0:00:21 Job 'j-240212870c1b45d2a7a1018805c6a54e': created (progress N/A)\n",
      "0:00:28 Job 'j-240212870c1b45d2a7a1018805c6a54e': created (progress N/A)\n",
      "0:00:36 Job 'j-240212870c1b45d2a7a1018805c6a54e': created (progress N/A)\n",
      "0:00:47 Job 'j-240212870c1b45d2a7a1018805c6a54e': running (progress N/A)\n",
      "0:01:00 Job 'j-240212870c1b45d2a7a1018805c6a54e': running (progress N/A)\n",
      "0:01:17 Job 'j-240212870c1b45d2a7a1018805c6a54e': running (progress N/A)\n",
      "0:01:38 Job 'j-240212870c1b45d2a7a1018805c6a54e': running (progress N/A)\n",
      "0:02:02 Job 'j-240212870c1b45d2a7a1018805c6a54e': running (progress N/A)\n",
      "0:02:33 Job 'j-240212870c1b45d2a7a1018805c6a54e': running (progress N/A)\n",
      "0:03:11 Job 'j-240212870c1b45d2a7a1018805c6a54e': finished (progress N/A)\n"
     ]
    },
    {
     "data": {
      "text/html": [
       "\n",
       "    <script>\n",
       "    if (!window.customElements || !window.customElements.get('openeo-job')) {\n",
       "        var el = document.createElement('script');\n",
       "        el.src = \"https://cdn.jsdelivr.net/npm/@openeo/vue-components@2/assets/openeo.min.js\";\n",
       "        document.head.appendChild(el);\n",
       "\n",
       "        var font = document.createElement('font');\n",
       "        font.as = \"font\";\n",
       "        font.type = \"font/woff2\";\n",
       "        font.crossOrigin = true;\n",
       "        font.href = \"https://use.fontawesome.com/releases/v5.13.0/webfonts/fa-solid-900.woff2\"\n",
       "        document.head.appendChild(font);\n",
       "    }\n",
       "    </script>\n",
       "    <openeo-job>\n",
       "        <script type=\"application/json\">{\"currency\": \"credits\", \"job\": {\"costs\": 3.0, \"created\": \"2024-02-12T23:43:32Z\", \"id\": \"j-240212870c1b45d2a7a1018805c6a54e\", \"process\": {\"process_graph\": {\"loadcollection1\": {\"arguments\": {\"bands\": [\"CH4\"], \"id\": \"SENTINEL_5P_L2\", \"spatial_extent\": {\"crs\": \"EPSG:4326\", \"east\": 3.7, \"north\": 51.68, \"south\": 51.18, \"west\": 3.2}, \"temporal_extent\": [\"2022-05-01\", \"2022-06-01\"]}, \"process_id\": \"load_collection\"}, \"reducedimension1\": {\"arguments\": {\"data\": {\"from_node\": \"loadcollection1\"}, \"dimension\": \"t\", \"reducer\": {\"process_graph\": {\"mean1\": {\"arguments\": {\"data\": {\"from_parameter\": \"data\"}}, \"process_id\": \"mean\", \"result\": true}}}}, \"process_id\": \"reduce_dimension\"}, \"saveresult1\": {\"arguments\": {\"data\": {\"from_node\": \"reducedimension1\"}, \"format\": \"JSON\", \"options\": {}}, \"process_id\": \"save_result\", \"result\": true}}}, \"status\": \"finished\", \"title\": \"Mean-S5-CH4-aoi\", \"updated\": \"2024-02-12T23:46:15Z\", \"usage\": {\"cpu\": {\"unit\": \"cpu-seconds\", \"value\": 87.33157557899999}, \"duration\": {\"unit\": \"seconds\", \"value\": 89}, \"max_executor_memory\": {\"unit\": \"gb\", \"value\": 0.7286529541015625}, \"memory\": {\"unit\": \"mb-seconds\", \"value\": 180109.23046875}, \"network_received\": {\"unit\": \"b\", \"value\": 256044.0}, \"sentinelhub\": {\"unit\": \"sentinelhub_processing_unit\", \"value\": 5.166666820645332}}}}</script>\n",
       "    </openeo-job>\n",
       "    "
      ],
      "text/plain": [
       "<BatchJob job_id='j-240212870c1b45d2a7a1018805c6a54e'>"
      ]
     },
     "execution_count": 11,
     "metadata": {},
     "output_type": "execute_result"
    }
   ],
   "source": [
    "job.start_and_wait()"
   ]
  },
  {
   "cell_type": "markdown",
   "id": "49f00b95",
   "metadata": {},
   "source": [
    "Note that execute_batch() can both create and start the job for you but it is not suitable for long-running jobs, because you will need to keep your client running all the time.\n",
    "To reconnect to a job at a later time, do"
   ]
  },
  {
   "cell_type": "code",
   "execution_count": 12,
   "id": "1cba1b71",
   "metadata": {
    "tags": []
   },
   "outputs": [],
   "source": [
    "job = connection.job(job_id)"
   ]
  },
  {
   "cell_type": "markdown",
   "id": "51db6580",
   "metadata": {},
   "source": [
    "Useful commands for exploring your jobs:"
   ]
  },
  {
   "cell_type": "code",
   "execution_count": 13,
   "id": "6f87a16a",
   "metadata": {
    "tags": []
   },
   "outputs": [
    {
     "data": {
      "text/plain": [
       "{'costs': 3.0,\n",
       " 'created': '2024-02-12T23:43:32Z',\n",
       " 'id': 'j-240212870c1b45d2a7a1018805c6a54e',\n",
       " 'process': {'process_graph': {'loadcollection1': {'arguments': {'bands': ['CH4'],\n",
       "     'id': 'SENTINEL_5P_L2',\n",
       "     'spatial_extent': {'crs': 'EPSG:4326',\n",
       "      'east': 3.7,\n",
       "      'north': 51.68,\n",
       "      'south': 51.18,\n",
       "      'west': 3.2},\n",
       "     'temporal_extent': ['2022-05-01', '2022-06-01']},\n",
       "    'process_id': 'load_collection'},\n",
       "   'reducedimension1': {'arguments': {'data': {'from_node': 'loadcollection1'},\n",
       "     'dimension': 't',\n",
       "     'reducer': {'process_graph': {'mean1': {'arguments': {'data': {'from_parameter': 'data'}},\n",
       "        'process_id': 'mean',\n",
       "        'result': True}}}},\n",
       "    'process_id': 'reduce_dimension'},\n",
       "   'saveresult1': {'arguments': {'data': {'from_node': 'reducedimension1'},\n",
       "     'format': 'JSON',\n",
       "     'options': {}},\n",
       "    'process_id': 'save_result',\n",
       "    'result': True}}},\n",
       " 'status': 'finished',\n",
       " 'title': 'Mean-S5-CH4-aoi',\n",
       " 'updated': '2024-02-12T23:46:15Z',\n",
       " 'usage': {'cpu': {'unit': 'cpu-seconds', 'value': 87.33157557899999},\n",
       "  'duration': {'unit': 'seconds', 'value': 89},\n",
       "  'max_executor_memory': {'unit': 'gb', 'value': 0.7286529541015625},\n",
       "  'memory': {'unit': 'mb-seconds', 'value': 180109.23046875},\n",
       "  'network_received': {'unit': 'b', 'value': 256044.0},\n",
       "  'sentinelhub': {'unit': 'sentinelhub_processing_unit',\n",
       "   'value': 5.166666820645332}}}"
      ]
     },
     "execution_count": 13,
     "metadata": {},
     "output_type": "execute_result"
    }
   ],
   "source": [
    "# list your batch jobs\n",
    "connection.list_jobs()\n",
    "# check the status of the job\n",
    "job.status()\n",
    "# check the logs\n",
    "job.logs()\n",
    "# cancel a job\n",
    "job.stop()\n",
    "# see job details, including the cost ( see monthly quotas https://documentation.dataspace.copernicus.eu/Quotas.html) and a visual representation of how the job was constructed\n",
    "job \n",
    "# job meta data\n",
    "job.describe()"
   ]
  },
  {
   "cell_type": "markdown",
   "id": "3150bf48",
   "metadata": {},
   "source": [
    "Download the results"
   ]
  },
  {
   "cell_type": "code",
   "execution_count": 14,
   "id": "6eab69a2",
   "metadata": {
    "tags": []
   },
   "outputs": [
    {
     "data": {
      "text/plain": [
       "PosixPath('output/results.json')"
      ]
     },
     "execution_count": 14,
     "metadata": {},
     "output_type": "execute_result"
    }
   ],
   "source": [
    "PATH=\"output\"\n",
    "results = job.get_results()\n",
    "results #to get the properties of the results\n",
    "#results.download_files(PATH) #to download all files (including json with job metadata)\n",
    "results.download_file(\"output/results.json\") #to download a specific file"
   ]
  },
  {
   "cell_type": "markdown",
   "id": "5d5ae593",
   "metadata": {},
   "source": [
    "## Combine locations and compute mean per area of interest for a given timestamp\n",
    "\n",
    "We are going to use the function aggregate_spatial(). It takes a list of areas of interest and compute the statistics per area (not pixel-wise as before!) for each time stamp. The function takes three arguments:\n",
    "1. data cube (the raw data the needs to be pre-loaded by servers to run the computations). One can drop spatial_extent from the definition of the data cube. However, if you know that all of your areas of interest (=rectangles surrounding the plumes) are located in some bounding box (e.g., you only want to study the plumes over the EU), then specifying that bounding box in spatial extent will speed up the computations.\n",
    "2. set of areas of interest\n",
    "3. reducer - a function, that is going to be applied to each area of interest at a given timestamp. In our case, a timestamp corresponds to a day and we are going to be computing the means. I.e, for rectangle A on Day B we compute mean_{all pixels in A}(value at pixel)."
   ]
  },
  {
   "cell_type": "markdown",
   "id": "4af360bc",
   "metadata": {},
   "source": [
    "**1. Define the datacube**"
   ]
  },
  {
   "cell_type": "code",
   "execution_count": 15,
   "id": "a1d0cc92",
   "metadata": {},
   "outputs": [],
   "source": [
    "s5_CH4 = connection.load_collection(\n",
    "    \"SENTINEL_5P_L2\",\n",
    "    #spatial_extent=optional_bounding_box_for_all_plume_rectangles,\n",
    "    temporal_extent = period,\n",
    "    bands=[\"CH4\"] #as before, server-side computations for S5 accept only one band at a time\n",
    ")"
   ]
  },
  {
   "cell_type": "code",
   "execution_count": 16,
   "id": "876c701a",
   "metadata": {},
   "outputs": [],
   "source": [
    "s3_all_bands = connection.load_collection(\n",
    "    \"SENTINEL3_SLSTR\",\n",
    "    #spatial_extent=optional_bounding_box_for_all_plume_rectangles,\n",
    "    temporal_extent = period,\n",
    "    bands=[\"S5\", \"S6\"] #as before, server-side computations for S3 accept only several bands at a time\n",
    ")"
   ]
  },
  {
   "cell_type": "markdown",
   "id": "8facd914",
   "metadata": {},
   "source": [
    "**2. Pass the set of areas of interest**\n",
    "\n",
    "We are going to be using the aggregate_spatial function in OpenEO to compute the statistics for several areas at one.\n",
    "\n",
    "The information about the areas of interest (in our case, 0.5 x 0.5 deg polygons centered at the plume coordinates), need to be passed using the GeoJSON format. You can use the template below and just change the coordinates. Note:\n",
    "- Usually, one gives coordinates in the format (lat, lon) but in GeoJSON the order is reversed, so you need to write (lon, lat)\n",
    "- A rectangle in GeoJSON has 5 vertices: the first and the last should be the same (you need to close the polygon). It is important that the format of the first and last vertex is exactly the same.\n",
    "- The vertices need to be entered in counter-clockwise order starting from the South-Eastern vertex and have the form \n",
    "\"coordinates\":[[[max,min],[min,min],[min,max],[max,max],[max,min]]]\n",
    "\n",
    "For example, consider the plume from coal site with coordinates [36.75,\t109.76] (this is the 1st plume in [all TROPOMI detected plumes for 2021. (Schuit et al. 2023)](https://zenodo.org/records/8087134)). The coordinates of the rectangle are\n",
    "\n",
    "\"coordinates\":[[[110.01,36.5],[109.51,36.5],[109.51,37.0 ],[110.01,37.0],[110.01,36.5]]]"
   ]
  },
  {
   "cell_type": "code",
   "execution_count": 17,
   "id": "f8bff22f",
   "metadata": {},
   "outputs": [],
   "source": [
    "# List of areas of interest used as an argument in aggregate_spatial. The coordinates correspond to the 0.5 x 0.5 deg rectangles \n",
    "# around the first two plumes from coal sites (plume [36.75, 109.76] and plume [37.53, 110.75]) in the dataset.\n",
    "features = {\"type\": \"FeatureCollection\", \"features\": [\n",
    "    {\n",
    "        \"type\": \"Feature\", \"properties\": {},\n",
    "        \"geometry\": {\"type\": \"Polygon\", \"coordinates\": [[\n",
    "            [110.01, 36.5],[109.51, 36.5],[109.51, 37.0],[110.01, 37.0],[110.01, 36.5]\n",
    "        ]]}\n",
    "    },\n",
    "    {\n",
    "        \"type\": \"Feature\", \"properties\": {},\n",
    "        \"geometry\": {\"type\": \"Polygon\", \"coordinates\": [[\n",
    "            [111.0, 37.28],[110.5, 37.28],[110.5, 37.78],[111.0, 37.78],[111.0, 37.28]\n",
    "        ]]}\n",
    "    }\n",
    "]}"
   ]
  },
  {
   "cell_type": "markdown",
   "id": "d0b53921",
   "metadata": {},
   "source": [
    "**3. Add reducer and initiate the job**"
   ]
  },
  {
   "cell_type": "code",
   "execution_count": 18,
   "id": "2f8b4f70",
   "metadata": {},
   "outputs": [
    {
     "name": "stdout",
     "output_type": "stream",
     "text": [
      "0:00:00 Job 'j-240212264b5145b784aea23bd501dc23': send 'start'\n",
      "0:00:13 Job 'j-240212264b5145b784aea23bd501dc23': queued (progress N/A)\n",
      "0:00:19 Job 'j-240212264b5145b784aea23bd501dc23': queued (progress N/A)\n",
      "0:00:35 Job 'j-240212264b5145b784aea23bd501dc23': queued (progress N/A)\n",
      "0:00:43 Job 'j-240212264b5145b784aea23bd501dc23': queued (progress N/A)\n",
      "0:00:53 Job 'j-240212264b5145b784aea23bd501dc23': queued (progress N/A)\n",
      "0:01:06 Job 'j-240212264b5145b784aea23bd501dc23': queued (progress N/A)\n",
      "0:01:22 Job 'j-240212264b5145b784aea23bd501dc23': running (progress N/A)\n",
      "0:01:41 Job 'j-240212264b5145b784aea23bd501dc23': running (progress N/A)\n",
      "0:02:06 Job 'j-240212264b5145b784aea23bd501dc23': running (progress N/A)\n",
      "0:02:42 Job 'j-240212264b5145b784aea23bd501dc23': finished (progress N/A)\n"
     ]
    },
    {
     "data": {
      "text/html": [
       "\n",
       "    <script>\n",
       "    if (!window.customElements || !window.customElements.get('openeo-job')) {\n",
       "        var el = document.createElement('script');\n",
       "        el.src = \"https://cdn.jsdelivr.net/npm/@openeo/vue-components@2/assets/openeo.min.js\";\n",
       "        document.head.appendChild(el);\n",
       "\n",
       "        var font = document.createElement('font');\n",
       "        font.as = \"font\";\n",
       "        font.type = \"font/woff2\";\n",
       "        font.crossOrigin = true;\n",
       "        font.href = \"https://use.fontawesome.com/releases/v5.13.0/webfonts/fa-solid-900.woff2\"\n",
       "        document.head.appendChild(font);\n",
       "    }\n",
       "    </script>\n",
       "    <openeo-job>\n",
       "        <script type=\"application/json\">{\"currency\": \"credits\", \"job\": {\"costs\": 3.0, \"created\": \"2024-02-12T23:47:01Z\", \"id\": \"j-240212264b5145b784aea23bd501dc23\", \"process\": {\"process_graph\": {\"aggregatespatial1\": {\"arguments\": {\"data\": {\"from_node\": \"loadcollection1\"}, \"geometries\": {\"features\": [{\"geometry\": {\"coordinates\": [[[110.01, 36.5], [109.51, 36.5], [109.51, 37.0], [110.01, 37.0], [110.01, 36.5]]], \"type\": \"Polygon\"}, \"properties\": {}, \"type\": \"Feature\"}, {\"geometry\": {\"coordinates\": [[[111.0, 37.28], [110.5, 37.28], [110.5, 37.78], [111.0, 37.78], [111.0, 37.28]]], \"type\": \"Polygon\"}, \"properties\": {}, \"type\": \"Feature\"}], \"type\": \"FeatureCollection\"}, \"reducer\": {\"process_graph\": {\"mean1\": {\"arguments\": {\"data\": {\"from_parameter\": \"data\"}}, \"process_id\": \"mean\", \"result\": true}}}}, \"process_id\": \"aggregate_spatial\"}, \"loadcollection1\": {\"arguments\": {\"bands\": [\"CH4\"], \"id\": \"SENTINEL_5P_L2\", \"spatial_extent\": null, \"temporal_extent\": [\"2022-05-01\", \"2022-06-01\"]}, \"process_id\": \"load_collection\"}, \"saveresult1\": {\"arguments\": {\"data\": {\"from_node\": \"aggregatespatial1\"}, \"format\": \"JSON\", \"options\": {}}, \"process_id\": \"save_result\", \"result\": true}}}, \"status\": \"finished\", \"title\": \"s5_CH4_aggregation\", \"updated\": \"2024-02-12T23:49:13Z\", \"usage\": {\"cpu\": {\"unit\": \"cpu-seconds\", \"value\": 184.10156363200002}, \"duration\": {\"unit\": \"seconds\", \"value\": 97}, \"max_executor_memory\": {\"unit\": \"gb\", \"value\": 1.6180839538574219}, \"memory\": {\"unit\": \"mb-seconds\", \"value\": 440820.2890625}, \"network_received\": {\"unit\": \"b\", \"value\": 12802779.0}, \"sentinelhub\": {\"unit\": \"sentinelhub_processing_unit\", \"value\": 5.166666820645332}}}}</script>\n",
       "    </openeo-job>\n",
       "    "
      ],
      "text/plain": [
       "<BatchJob job_id='j-240212264b5145b784aea23bd501dc23'>"
      ]
     },
     "execution_count": 18,
     "metadata": {},
     "output_type": "execute_result"
    }
   ],
   "source": [
    "s5_CH4_aggregation = s5_CH4.aggregate_spatial(\n",
    "    geometries=features,\n",
    "    reducer=\"mean\",\n",
    ")\n",
    "s5_CH4_aggregation = s5_CH4_aggregation.save_result(format=\"JSON\")\n",
    "job=s5_CH4_aggregation.create_job(title=\"s5_CH4_aggregation\")\n",
    "job.start_and_wait()"
   ]
  },
  {
   "cell_type": "code",
   "execution_count": 19,
   "id": "f95bbe9f",
   "metadata": {},
   "outputs": [
    {
     "data": {
      "text/html": [
       "\n",
       "    <script>\n",
       "    if (!window.customElements || !window.customElements.get('openeo-job')) {\n",
       "        var el = document.createElement('script');\n",
       "        el.src = \"https://cdn.jsdelivr.net/npm/@openeo/vue-components@2/assets/openeo.min.js\";\n",
       "        document.head.appendChild(el);\n",
       "\n",
       "        var font = document.createElement('font');\n",
       "        font.as = \"font\";\n",
       "        font.type = \"font/woff2\";\n",
       "        font.crossOrigin = true;\n",
       "        font.href = \"https://use.fontawesome.com/releases/v5.13.0/webfonts/fa-solid-900.woff2\"\n",
       "        document.head.appendChild(font);\n",
       "    }\n",
       "    </script>\n",
       "    <openeo-job>\n",
       "        <script type=\"application/json\">{\"currency\": \"credits\", \"job\": {\"costs\": 3.0, \"created\": \"2024-02-12T23:47:01Z\", \"id\": \"j-240212264b5145b784aea23bd501dc23\", \"process\": {\"process_graph\": {\"aggregatespatial1\": {\"arguments\": {\"data\": {\"from_node\": \"loadcollection1\"}, \"geometries\": {\"features\": [{\"geometry\": {\"coordinates\": [[[110.01, 36.5], [109.51, 36.5], [109.51, 37.0], [110.01, 37.0], [110.01, 36.5]]], \"type\": \"Polygon\"}, \"properties\": {}, \"type\": \"Feature\"}, {\"geometry\": {\"coordinates\": [[[111.0, 37.28], [110.5, 37.28], [110.5, 37.78], [111.0, 37.78], [111.0, 37.28]]], \"type\": \"Polygon\"}, \"properties\": {}, \"type\": \"Feature\"}], \"type\": \"FeatureCollection\"}, \"reducer\": {\"process_graph\": {\"mean1\": {\"arguments\": {\"data\": {\"from_parameter\": \"data\"}}, \"process_id\": \"mean\", \"result\": true}}}}, \"process_id\": \"aggregate_spatial\"}, \"loadcollection1\": {\"arguments\": {\"bands\": [\"CH4\"], \"id\": \"SENTINEL_5P_L2\", \"spatial_extent\": null, \"temporal_extent\": [\"2022-05-01\", \"2022-06-01\"]}, \"process_id\": \"load_collection\"}, \"saveresult1\": {\"arguments\": {\"data\": {\"from_node\": \"aggregatespatial1\"}, \"format\": \"JSON\", \"options\": {}}, \"process_id\": \"save_result\", \"result\": true}}}, \"status\": \"finished\", \"title\": \"s5_CH4_aggregation\", \"updated\": \"2024-02-12T23:49:13Z\", \"usage\": {\"cpu\": {\"unit\": \"cpu-seconds\", \"value\": 184.10156363200002}, \"duration\": {\"unit\": \"seconds\", \"value\": 97}, \"max_executor_memory\": {\"unit\": \"gb\", \"value\": 1.6180839538574219}, \"memory\": {\"unit\": \"mb-seconds\", \"value\": 440820.2890625}, \"network_received\": {\"unit\": \"b\", \"value\": 12802779.0}, \"sentinelhub\": {\"unit\": \"sentinelhub_processing_unit\", \"value\": 5.166666820645332}}}}</script>\n",
       "    </openeo-job>\n",
       "    "
      ],
      "text/plain": [
       "<BatchJob job_id='j-240212264b5145b784aea23bd501dc23'>"
      ]
     },
     "execution_count": 19,
     "metadata": {},
     "output_type": "execute_result"
    }
   ],
   "source": [
    "job"
   ]
  },
  {
   "cell_type": "code",
   "execution_count": 20,
   "id": "c47b7d53",
   "metadata": {},
   "outputs": [
    {
     "data": {
      "text/plain": [
       "PosixPath('s5_CH4_aggregation.json')"
      ]
     },
     "execution_count": 20,
     "metadata": {},
     "output_type": "execute_result"
    }
   ],
   "source": [
    "results = job.get_results()\n",
    "results.download_file(\"output/s5_CH4_aggregation.json\")"
   ]
  },
  {
   "cell_type": "code",
   "execution_count": 21,
   "id": "1789167a",
   "metadata": {},
   "outputs": [
    {
     "name": "stdout",
     "output_type": "stream",
     "text": [
      "0:00:00 Job 'j-24021281012d4a91a03d70317b1c6be1': send 'start'\n",
      "0:00:17 Job 'j-24021281012d4a91a03d70317b1c6be1': created (progress N/A)\n",
      "0:00:23 Job 'j-24021281012d4a91a03d70317b1c6be1': running (progress N/A)\n",
      "0:00:31 Job 'j-24021281012d4a91a03d70317b1c6be1': running (progress N/A)\n",
      "0:00:41 Job 'j-24021281012d4a91a03d70317b1c6be1': running (progress N/A)\n",
      "0:00:56 Job 'j-24021281012d4a91a03d70317b1c6be1': running (progress N/A)\n",
      "0:01:10 Job 'j-24021281012d4a91a03d70317b1c6be1': running (progress N/A)\n",
      "0:01:25 Job 'j-24021281012d4a91a03d70317b1c6be1': running (progress N/A)\n",
      "0:01:45 Job 'j-24021281012d4a91a03d70317b1c6be1': running (progress N/A)\n",
      "0:02:10 Job 'j-24021281012d4a91a03d70317b1c6be1': running (progress N/A)\n",
      "0:02:40 Job 'j-24021281012d4a91a03d70317b1c6be1': finished (progress N/A)\n"
     ]
    },
    {
     "data": {
      "text/html": [
       "\n",
       "    <script>\n",
       "    if (!window.customElements || !window.customElements.get('openeo-job')) {\n",
       "        var el = document.createElement('script');\n",
       "        el.src = \"https://cdn.jsdelivr.net/npm/@openeo/vue-components@2/assets/openeo.min.js\";\n",
       "        document.head.appendChild(el);\n",
       "\n",
       "        var font = document.createElement('font');\n",
       "        font.as = \"font\";\n",
       "        font.type = \"font/woff2\";\n",
       "        font.crossOrigin = true;\n",
       "        font.href = \"https://use.fontawesome.com/releases/v5.13.0/webfonts/fa-solid-900.woff2\"\n",
       "        document.head.appendChild(font);\n",
       "    }\n",
       "    </script>\n",
       "    <openeo-job>\n",
       "        <script type=\"application/json\">{\"currency\": \"credits\", \"job\": {\"costs\": 7.0, \"created\": \"2024-02-12T23:50:56Z\", \"id\": \"j-24021281012d4a91a03d70317b1c6be1\", \"process\": {\"process_graph\": {\"aggregatespatial1\": {\"arguments\": {\"data\": {\"from_node\": \"loadcollection1\"}, \"geometries\": {\"features\": [{\"geometry\": {\"coordinates\": [[[110.01, 36.5], [109.51, 36.5], [109.51, 37.0], [110.01, 37.0], [110.01, 36.5]]], \"type\": \"Polygon\"}, \"properties\": {}, \"type\": \"Feature\"}, {\"geometry\": {\"coordinates\": [[[111.0, 37.28], [110.5, 37.28], [110.5, 37.78], [111.0, 37.78], [111.0, 37.28]]], \"type\": \"Polygon\"}, \"properties\": {}, \"type\": \"Feature\"}], \"type\": \"FeatureCollection\"}, \"reducer\": {\"process_graph\": {\"mean1\": {\"arguments\": {\"data\": {\"from_parameter\": \"data\"}}, \"process_id\": \"mean\", \"result\": true}}}}, \"process_id\": \"aggregate_spatial\"}, \"loadcollection1\": {\"arguments\": {\"bands\": [\"S5\", \"S6\"], \"id\": \"SENTINEL3_SLSTR\", \"spatial_extent\": null, \"temporal_extent\": [\"2022-05-01\", \"2022-06-01\"]}, \"process_id\": \"load_collection\"}, \"saveresult1\": {\"arguments\": {\"data\": {\"from_node\": \"aggregatespatial1\"}, \"format\": \"JSON\", \"options\": {}}, \"process_id\": \"save_result\", \"result\": true}}}, \"status\": \"finished\", \"title\": \"s3_aggregation\", \"updated\": \"2024-02-12T23:53:11Z\", \"usage\": {\"cpu\": {\"unit\": \"cpu-seconds\", \"value\": 192.011232363}, \"duration\": {\"unit\": \"seconds\", \"value\": 93}, \"max_executor_memory\": {\"unit\": \"gb\", \"value\": 1.6449813842773438}, \"memory\": {\"unit\": \"mb-seconds\", \"value\": 556102.400390625}, \"network_received\": {\"unit\": \"b\", \"value\": 3180786.0}, \"sentinelhub\": {\"unit\": \"sentinelhub_processing_unit\", \"value\": 26.666667461395264}}}}</script>\n",
       "    </openeo-job>\n",
       "    "
      ],
      "text/plain": [
       "<BatchJob job_id='j-24021281012d4a91a03d70317b1c6be1'>"
      ]
     },
     "execution_count": 21,
     "metadata": {},
     "output_type": "execute_result"
    }
   ],
   "source": [
    "s3_aggregation = s3_all_bands.aggregate_spatial(\n",
    "    geometries=features,\n",
    "    reducer=\"mean\",\n",
    ")\n",
    "s3_aggregation = s3_aggregation.save_result(format=\"JSON\")\n",
    "job=s3_aggregation.create_job(title=\"s3_aggregation\")\n",
    "job.start_and_wait()"
   ]
  },
  {
   "cell_type": "code",
   "execution_count": 22,
   "id": "0fcfedd4",
   "metadata": {},
   "outputs": [
    {
     "data": {
      "text/plain": [
       "PosixPath('output/s3_aggregation.json')"
      ]
     },
     "execution_count": 22,
     "metadata": {},
     "output_type": "execute_result"
    }
   ],
   "source": [
    "results = job.get_results()\n",
    "results.download_file(\"output/s3_aggregation.json\")"
   ]
  },
  {
   "cell_type": "markdown",
   "id": "14fbaee4",
   "metadata": {},
   "source": [
    "## From JSON to timeseries dataframe\n",
    "\n",
    "The openEO Python Client Library has a helper function that converts a JSON into pandas dataframe. From there, you can compute column-wise statistics (min, max, mean, sd and median)"
   ]
  },
  {
   "cell_type": "code",
   "execution_count": 1,
   "id": "dd8f513f",
   "metadata": {
    "tags": []
   },
   "outputs": [
    {
     "name": "stdout",
     "output_type": "stream",
     "text": [
      "24\n"
     ]
    },
    {
     "data": {
      "text/html": [
       "<div>\n",
       "<style scoped>\n",
       "    .dataframe tbody tr th:only-of-type {\n",
       "        vertical-align: middle;\n",
       "    }\n",
       "\n",
       "    .dataframe tbody tr th {\n",
       "        vertical-align: top;\n",
       "    }\n",
       "\n",
       "    .dataframe thead th {\n",
       "        text-align: right;\n",
       "    }\n",
       "</style>\n",
       "<table border=\"1\" class=\"dataframe\">\n",
       "  <thead>\n",
       "    <tr style=\"text-align: right;\">\n",
       "      <th>polygon</th>\n",
       "      <th>0</th>\n",
       "      <th>1</th>\n",
       "    </tr>\n",
       "    <tr>\n",
       "      <th>date</th>\n",
       "      <th></th>\n",
       "      <th></th>\n",
       "    </tr>\n",
       "  </thead>\n",
       "  <tbody>\n",
       "    <tr>\n",
       "      <th>2022-05-01 00:00:00+00:00</th>\n",
       "      <td>1871.712693</td>\n",
       "      <td>1891.123617</td>\n",
       "    </tr>\n",
       "    <tr>\n",
       "      <th>2022-05-02 00:00:00+00:00</th>\n",
       "      <td>NaN</td>\n",
       "      <td>1894.057792</td>\n",
       "    </tr>\n",
       "    <tr>\n",
       "      <th>2022-05-03 00:00:00+00:00</th>\n",
       "      <td>1878.450416</td>\n",
       "      <td>1892.246428</td>\n",
       "    </tr>\n",
       "    <tr>\n",
       "      <th>2022-05-04 00:00:00+00:00</th>\n",
       "      <td>1886.297213</td>\n",
       "      <td>1873.674883</td>\n",
       "    </tr>\n",
       "    <tr>\n",
       "      <th>2022-05-05 00:00:00+00:00</th>\n",
       "      <td>1881.929169</td>\n",
       "      <td>NaN</td>\n",
       "    </tr>\n",
       "  </tbody>\n",
       "</table>\n",
       "</div>"
      ],
      "text/plain": [
       "polygon                              0            1\n",
       "date                                               \n",
       "2022-05-01 00:00:00+00:00  1871.712693  1891.123617\n",
       "2022-05-02 00:00:00+00:00          NaN  1894.057792\n",
       "2022-05-03 00:00:00+00:00  1878.450416  1892.246428\n",
       "2022-05-04 00:00:00+00:00  1886.297213  1873.674883\n",
       "2022-05-05 00:00:00+00:00  1881.929169          NaN"
      ]
     },
     "execution_count": 1,
     "metadata": {},
     "output_type": "execute_result"
    }
   ],
   "source": [
    "import json\n",
    "import pandas as pd\n",
    "from openeo.rest.conversions import timeseries_json_to_pandas\n",
    "\n",
    "with open(\"output/s5_CH4_aggregation.json\") as f:\n",
    "    data = json.load(f)\n",
    "\n",
    "df_s5 = timeseries_json_to_pandas(data)\n",
    "df_s5.index = pd.to_datetime(df_s5.index)\n",
    "\n",
    "print(len(df_s5))\n",
    "df_s5.head()"
   ]
  },
  {
   "cell_type": "code",
   "execution_count": 2,
   "id": "24ca5961-073e-477c-8294-5151709f9487",
   "metadata": {
    "tags": []
   },
   "outputs": [
    {
     "name": "stdout",
     "output_type": "stream",
     "text": [
      "28\n"
     ]
    },
    {
     "data": {
      "text/html": [
       "<div>\n",
       "<style scoped>\n",
       "    .dataframe tbody tr th:only-of-type {\n",
       "        vertical-align: middle;\n",
       "    }\n",
       "\n",
       "    .dataframe tbody tr th {\n",
       "        vertical-align: top;\n",
       "    }\n",
       "\n",
       "    .dataframe thead tr th {\n",
       "        text-align: left;\n",
       "    }\n",
       "\n",
       "    .dataframe thead tr:last-of-type th {\n",
       "        text-align: right;\n",
       "    }\n",
       "</style>\n",
       "<table border=\"1\" class=\"dataframe\">\n",
       "  <thead>\n",
       "    <tr>\n",
       "      <th>polygon</th>\n",
       "      <th colspan=\"2\" halign=\"left\">0</th>\n",
       "      <th colspan=\"2\" halign=\"left\">1</th>\n",
       "    </tr>\n",
       "    <tr>\n",
       "      <th>band</th>\n",
       "      <th>0</th>\n",
       "      <th>1</th>\n",
       "      <th>0</th>\n",
       "      <th>1</th>\n",
       "    </tr>\n",
       "    <tr>\n",
       "      <th>date</th>\n",
       "      <th></th>\n",
       "      <th></th>\n",
       "      <th></th>\n",
       "      <th></th>\n",
       "    </tr>\n",
       "  </thead>\n",
       "  <tbody>\n",
       "    <tr>\n",
       "      <th>2022-05-02 00:00:00+00:00</th>\n",
       "      <td>-0.000054</td>\n",
       "      <td>0.002344</td>\n",
       "      <td>-0.000025</td>\n",
       "      <td>0.001993</td>\n",
       "    </tr>\n",
       "    <tr>\n",
       "      <th>2022-05-03 00:00:00+00:00</th>\n",
       "      <td>-0.000064</td>\n",
       "      <td>0.003103</td>\n",
       "      <td>0.000264</td>\n",
       "      <td>0.003348</td>\n",
       "    </tr>\n",
       "    <tr>\n",
       "      <th>2022-05-04 00:00:00+00:00</th>\n",
       "      <td>0.000245</td>\n",
       "      <td>0.002510</td>\n",
       "      <td>0.000540</td>\n",
       "      <td>0.003280</td>\n",
       "    </tr>\n",
       "    <tr>\n",
       "      <th>2022-05-05 00:00:00+00:00</th>\n",
       "      <td>0.000207</td>\n",
       "      <td>0.002211</td>\n",
       "      <td>0.000460</td>\n",
       "      <td>0.001994</td>\n",
       "    </tr>\n",
       "    <tr>\n",
       "      <th>2022-05-06 00:00:00+00:00</th>\n",
       "      <td>0.000865</td>\n",
       "      <td>0.004442</td>\n",
       "      <td>0.000087</td>\n",
       "      <td>0.003695</td>\n",
       "    </tr>\n",
       "  </tbody>\n",
       "</table>\n",
       "</div>"
      ],
      "text/plain": [
       "polygon                           0                   1          \n",
       "band                              0         1         0         1\n",
       "date                                                             \n",
       "2022-05-02 00:00:00+00:00 -0.000054  0.002344 -0.000025  0.001993\n",
       "2022-05-03 00:00:00+00:00 -0.000064  0.003103  0.000264  0.003348\n",
       "2022-05-04 00:00:00+00:00  0.000245  0.002510  0.000540  0.003280\n",
       "2022-05-05 00:00:00+00:00  0.000207  0.002211  0.000460  0.001994\n",
       "2022-05-06 00:00:00+00:00  0.000865  0.004442  0.000087  0.003695"
      ]
     },
     "execution_count": 2,
     "metadata": {},
     "output_type": "execute_result"
    }
   ],
   "source": [
    "with open(\"output/s3_aggregation.json\") as f:\n",
    "    data = json.load(f)\n",
    "\n",
    "df_s3 = timeseries_json_to_pandas(data)\n",
    "df_s3.index = pd.to_datetime(df_s3.index)\n",
    "\n",
    "print(len(df_s3))\n",
    "df_s3.head()"
   ]
  },
  {
   "cell_type": "markdown",
   "id": "5920fac5",
   "metadata": {},
   "source": [
    "## Divide and conquer"
   ]
  },
  {
   "cell_type": "markdown",
   "id": "b908dc41",
   "metadata": {},
   "source": [
    "Note that the csv file contains the locations of 1913 plumes that come from oil, gas or coal locations. This is quite a bit of loading per user, and Copernicus has user quotas, which are pretty cryptic, so I cannot guarantee that a batch job of all computations for all plumes would not run out of quota. Instead, you are encouraged to divide and conquer: either with your friends and/or by creating several user profiles on Copernicus. Some tips:\n",
    "- you can re-connect to a job at another time, by another script/notebook or even with another openEO client within 7 days;\n",
    "- Copernicus servers can process up to 2 batch jobs per user simultaneously;\n",
    "- Copernicus has certain usage quotas. To get a sense of where you are at the moment, you can check you status using [Sentinel Hub Services Dashboard](https://shapps.dataspace.copernicus.eu/dashboard/#/). Also, running the 'job' command after a job is finished will tell you have many credits were used.\n",
    "\n",
    "**Minimal requirement for passing assignment 3:** the SVM needs to be performed on at least 50 plumes; one student should load the data for at least 20 plumes."
   ]
  },
  {
   "cell_type": "markdown",
   "id": "b9411811",
   "metadata": {},
   "source": [
    "## Increase batch resources\n",
    "\n",
    "In principle, you can also increase the computational resources available for your batch jobs, as shown in [these instructions](https://documentation.dataspace.copernicus.eu/APIs/openEO/job_config.html). Some warnings:\n",
    "- I do not know how far these can be pushed, but you could use the options for server settings when you try to access Copernicus JupyterLab [here](https://dataspace.copernicus.eu/analyse/jupyterlab)\n",
    "- My understanding is that a substantial portion of the total job execution time is the queue waiting time"
   ]
  }
 ],
 "metadata": {
  "kernelspec": {
   "display_name": "Python 3",
   "language": "python",
   "name": "python3"
  },
  "language_info": {
   "codemirror_mode": {
    "name": "ipython",
    "version": 3
   },
   "file_extension": ".py",
   "mimetype": "text/x-python",
   "name": "python",
   "nbconvert_exporter": "python",
   "pygments_lexer": "ipython3",
   "version": "3.10.12"
  }
 },
 "nbformat": 4,
 "nbformat_minor": 5
}
