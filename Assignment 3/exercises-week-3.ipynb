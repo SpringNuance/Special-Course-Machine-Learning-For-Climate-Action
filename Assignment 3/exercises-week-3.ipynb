{
 "cells": [
  {
   "cell_type": "markdown",
   "id": "f6025b5d-0d19-4331-b242-adec33e939e4",
   "metadata": {
    "tags": []
   },
   "source": [
    "# **Exercise session 3: Convolutional neural network (CNN) and support vector machine (SVM) to detect $CH_4$ emissions from satellite data**"
   ]
  },
  {
   "cell_type": "markdown",
   "id": "5cefeb3a-9dde-482e-b9ce-46942eda92e8",
   "metadata": {},
   "source": [
    "**Reference:** Schuit, Berend J., et al. \"Automated detection and monitoring of methane super-emitters using satellite data.\" Atmospheric Chemistry and Physics Discussions (2023): 1-47.e\n",
    "\n",
    "**Data:** \n",
    "- Sentinel 5P, bands CH4, CO, SO2 and NO2\n",
    "- Sentinel 3, bands S5 and S6\n",
    "- [all TROPOMI detected plumes for 2021. (Schuit et al. 2023)](https://zenodo.org/records/8087134)\n",
    "\n",
    "**Useful tutorials:**\n",
    "- [SVM for Multiclass Classification](https://www.kaggle.com/code/pranathichunduru/svm-for-multiclass-classification)"
   ]
  },
  {
   "cell_type": "markdown",
   "id": "0495d954",
   "metadata": {},
   "source": [
    "This exercise is designed to be completed on Aalto JupyterHub. Please ensure that your notebook includes all necessary installation commands for any additional libraries your code requires. These commands should be clearly written and integrated within your notebook. To submit, go to Nbgrader/Assignment List and click submit next to the exercise. \n",
    "All data loaded from Copernicus Dataspace, should be saved to /coursedata/users/$USER folder.\n",
    "\n",
    "The exercise consists of two parts:\n",
    "- In Part I (Ex. 3.1 - 3.2) you will discuss and compare the approaches to designing automated emissions monitoring algorithms in Finch et al. (2022), Schuit et al. (2023) and your own in Assignment 2\n",
    "- In Part II (Ex. 3.3 - 3.8) you will use the TROPOMI detected plumes for 2021 (Schuit et al. 2023) to construct a multiclass SVM algorithm to distinguish between oil, gas and coal emissions.\n",
    "\n",
    "The deadline is March 1 at 10:00. We will be grading the submissions as they arrive, so if you submit before the deadline, you will most likely get feedback earlier."
   ]
  },
  {
   "cell_type": "code",
   "execution_count": null,
   "id": "5eb66d3c",
   "metadata": {},
   "outputs": [],
   "source": [
    "# Import necessary modules. If any additional modules need to be installed to run it on Aalto JupyterHub, include all necessary installation commands."
   ]
  },
  {
   "cell_type": "markdown",
   "id": "34d5ad94",
   "metadata": {},
   "source": [
    "## Exercise 3.1 Convolutional Neural Networks for detecting gas plumes (2 pt)\n",
    "\n",
    "Compare the approaches takes in Finch et al. (2022), Schuit et al. (2023) and your own in Assignment 2. What are the strength and weaknesses of each approach? Consider both data preparation and model design."
   ]
  },
  {
   "cell_type": "markdown",
   "id": "0c3299b5",
   "metadata": {},
   "source": [
    "**Data Preparation**\n",
    "\n",
    "1. Schuit et al. Approach\n",
    "- Strengths: Comprehensive data utilization ensures a diverse variety of input and data balancing for robust training.\n",
    "- Weaknesses: There is high complexity in data processing, which might increase preparation time. The processing metod can bear risk of biases in data selection or normalization.\n",
    "\n",
    "2. Finch et al. Approach\n",
    "\n",
    "- Strengths: Individual image normalization improves model efficiency; balanced dataset helps minimize classification biases.\n",
    "- Weaknesses: There could be room for misinterpretation due to background noise; and the proposed methods are limited by the specific characteristics of NO2 plumes.\n",
    "\n",
    "3. Assignment 2 Approach\n",
    "\n",
    "- Strengths: Pixel value normalization enables faster convergence; there are distinct datasets for training, validation, and testing processes.\n",
    "- Weaknesses: Smaller dataset size of only around hundred images may not allow the trained model to generalize over unseen images; basic preprocessing might not account for complex plumes pattern\n",
    "\n",
    "**Model Design**\n",
    "\n",
    "1. Schuit et al. Approach\n",
    "\n",
    "- Strengths: Two-step method (CNN and SVC) can improve accuracy; The designed architecture for methane plume detection is shown to improve specificity.\n",
    "- Weaknesses: Complexity may require more computational resources; models that are too specific might limit its application to other plume patterns.\n",
    "\n",
    "2. Finch et al. Approach\n",
    "\n",
    "- Strengths: Efficient CNN architecture suitable for NO2 plume detection; dropout application reduces overfitting risk.\n",
    "- Weaknesses: The model does not quantify emissions, limiting its application scope. There is also dependence on human judgment for plume identification.\n",
    "\n",
    "3. Assignment 2 Approach\n",
    "\n",
    "- Strengths: Model simplicity makes it relatively easy to understand and implement; suitable for smaller datasets and initial model design exploration.\n",
    "- Weaknesses: Limited model complexity may not recognize more subtle patterns; there is risk of overfitting as the model is not regularized except early stopping"
   ]
  },
  {
   "cell_type": "markdown",
   "id": "db131903",
   "metadata": {},
   "source": [
    "## Exercise 3.2 Trustworthy monitoring of emissions (2 pt)\n",
    "\n",
    "One design requirement for introducing an automated monitoring system of emissions is that this system is trustworthy. The EC High-Level Expert Group on AI have developed the [Ethics Guidelines for Trustworthy Artificial Intelligence](https://digital-strategy.ec.europa.eu/en/library/ethics-guidelines-trustworthy-ai) that outline 7 key requirements that AI system needs to satisfy in order to be deemed trustworthy. Discuss how well the approaches in Finch et al. (2022), Schuit et al. (2023) and Assignment 2 satisfy those requirements. You can discuss all three approaches more generally or have a deeper focused discussion about one of them.\n",
    "\n",
    "(Optional) If you interested to learn more, here are some references:\n",
    "- [Deliverables of the High-Level Expert Group on AI](https://digital-strategy.ec.europa.eu/en/policies/expert-group-ai)\n",
    "- Review papers on bias in ML: \n",
    "    - Mehrabi, Ninareh, et al. \"A survey on bias and fairness in machine learning.\" ACM computing surveys (CSUR) 54.6 (2021): 1-35.\n",
    "    - Chakraborty, Joymallya, Suvodeep Majumder, and Tim Menzies. \"Bias in machine learning software: Why? how? what to do?.\" Proceedings of the 29th ACM Joint Meeting on European Software Engineering Conference and Symposium on the Foundations of Software Engineering. 2021."
   ]
  },
  {
   "cell_type": "markdown",
   "id": "6042bb57",
   "metadata": {},
   "source": [
    "**Seven key requirements that Ai systems needs to satisfy to be trustworthy**\n",
    "(page 16 of the paper)\n",
    "\n",
    "1. Human agency and oversight\n",
    "\n",
    "Including fundamental rights, human agency and human oversight\n",
    "\n",
    "2. Technical robustness and safety\n",
    "\n",
    "Including resilience to attack and security, fall back plan and general safety, accuracy, reliability and reproducibility\n",
    "\n",
    "3. Privacy and data governance\n",
    "Including respect for privacy, quality and integrity of data, and access to data\n",
    "\n",
    "4. Transparency\n",
    "\n",
    "Including traceability, explainability and communication\n",
    "\n",
    "5. Diversity, non-discrimination and fairness\n",
    "Including the avoidance of unfair bias, accessibility and universal design, and stakeholder participation\n",
    "\n",
    "6. Societal and environmental wellbeing\n",
    "Including sustainability and environmental friendliness, social impact, society and democracy\n",
    "\n",
    "7. Accountability\n",
    "Including auditability, minimisation and reporting of negative impact, trade-offs and redress.\n",
    "\n",
    "From these seven point, we can discuss the aspects of trustworthy AI that the three approaches satisfy\n",
    "\n",
    "**Schuit et al. Approach**\n",
    "\n",
    "- Satisfied requirements: \n",
    "\n",
    "Technical Robustness and Safety: Their advanced model likely demonstrates high levels of accuracy and reliability.\n",
    "\n",
    "Transparency: There is detailed documentation of methodology, which can helps the method become transparent.\n",
    "\n",
    "- Unsatisfied requirements: \n",
    "\n",
    "Diversity, Non-discrimination, and Fairness: The study do not address the impact of its AI system on diverse demographic groups. However, lack of discussion does not really imply the lack of requirement.\n",
    "\n",
    "Societal and Environmental Well-being: While focused on environmental monitoring, the social impact might not be thoroughly documented.\n",
    "\n",
    "**Finch et al. Approach**\n",
    "\n",
    "- Satisfied requirements: \n",
    "\n",
    "Privacy and Data Governance: The use of satellite data likely takes into account the data protection and integrity.\n",
    "\n",
    "Accountability: The research implies some accountability in terms of scientific rigor and ethical considerations.\n",
    "\n",
    "- Unsatisfied requirements: \n",
    "\n",
    "Human Agency and Oversight: The effect of human oversight in the decision-making process by the AI system is still unclear.\n",
    "\n",
    "Societal and Environmental Well-being: Direct impacts on social well-being is not one of the focuses of the study.\n",
    "\n",
    "**Assignment 2 Approach**\n",
    "\n",
    "- Satisfied requirements: \n",
    "\n",
    "Transparency: The approach includes clear documentation of the CNN model.\n",
    "\n",
    "Accountability: There is typically a framework for accountability through assignment grading, but I'm not sure on this.\n",
    "\n",
    "- Unsatisfied requirements: \n",
    "\n",
    "Technical Robustness and Safety: Given the basic CNN model, it might lack the robustness and safety features of more advanced systems in the two previous papers\n",
    "\n",
    "Diversity, Non-discrimination, and Fairness: The approach do not address issues of bias and fairness in the AI model."
   ]
  },
  {
   "cell_type": "markdown",
   "id": "7d9e84dc",
   "metadata": {},
   "source": [
    "## Exercise 3.3 Batch jobs and server-side computations using OpenEO (1 pt)\n",
    "\n",
    "So far you have been using openEO for synchronous execution of your requests: you submitted a request and the result came as a direct response to your request. This is not feasible for heavier work. Instead, one should submit the requests as batch jobs. Familiarise yourself with the Batch-job-combine-tasks.ipynb file.\n",
    "\n",
    "Furthermore, instead of downloading large amounts of raw data, one can process the data directly on server side. You can check all available processes by running 'connection.list_processes()'. For more details, see the [EO Cookbook](https://openeo.org/documentation/1.0/cookbook/#temporal-mean-reduce-dimension). Note that they give two alternatives on how to compute the temporal mean and we recommend to use the 'reduce_dimension' function.\n",
    "\n",
    "Task: fix an area of interest and a time period and load the min, max, mean and standard deviation of CH4. Perform this task as a batch job using server-side processes. You should save the output in the JSON format. Note that the output is computed per pixel."
   ]
  },
  {
   "cell_type": "code",
   "execution_count": 1,
   "id": "e3c7b445-7916-46b9-b616-5a4c4f761b66",
   "metadata": {
    "tags": []
   },
   "outputs": [],
   "source": [
    "import pathlib\n",
    "import rasterio\n",
    "import matplotlib.pyplot as plt\n",
    "import openeo\n",
    "import pandas as pd\n",
    "import numpy as np\n",
    "import xarray as xr\n",
    "import os\n",
    "import joblib\n",
    "import json\n",
    "from openeo.rest.conversions import timeseries_json_to_pandas\n",
    "\n",
    "from sklearn.model_selection import train_test_split\n",
    "from sklearn import svm\n",
    "from sklearn.ensemble import RandomForestClassifier\n",
    "from sklearn.metrics import classification_report, accuracy_score\n"
   ]
  },
  {
   "cell_type": "code",
   "execution_count": 2,
   "id": "3ba5b708-20df-41a8-baef-4c8cd3c8c9af",
   "metadata": {
    "tags": []
   },
   "outputs": [
    {
     "data": {
      "text/html": [
       "Visit <a href=\"https://identity.dataspace.copernicus.eu/auth/realms/CDSE/device?user_code=EJWM-TTAY\" title=\"Authenticate at https://identity.dataspace.copernicus.eu/auth/realms/CDSE/device?user_code=EJWM-TTAY\" target=\"_blank\" rel=\"noopener noreferrer\">https://identity.dataspace.copernicus.eu/auth/realms/CDSE/device?user_code=EJWM-TTAY</a> <a href=\"#\" onclick=\"navigator.clipboard.writeText('https://identity.dataspace.copernicus.eu/auth/realms/CDSE/device?user_code=EJWM-TTAY');return false;\" title=\"Copy authentication URL to clipboard\">&#128203;</a> to authenticate."
      ]
     },
     "metadata": {},
     "output_type": "display_data"
    },
    {
     "data": {
      "text/html": [
       "<code>[###################################--]</code> ✅ Authorized successfully"
      ]
     },
     "metadata": {},
     "output_type": "display_data"
    },
    {
     "name": "stdout",
     "output_type": "stream",
     "text": [
      "Authenticated using device code flow.\n"
     ]
    },
    {
     "data": {
      "text/plain": [
       "<Connection to 'https://openeo.dataspace.copernicus.eu/openeo/1.2/' with OidcBearerAuth>"
      ]
     },
     "execution_count": 2,
     "metadata": {},
     "output_type": "execute_result"
    }
   ],
   "source": [
    "connection = openeo.connect(url=\"openeo.dataspace.copernicus.eu\")\n",
    "connection.authenticate_oidc()"
   ]
  },
  {
   "cell_type": "code",
   "execution_count": 3,
   "id": "b29f5768-c276-4cf9-9685-a308cd88df58",
   "metadata": {
    "tags": []
   },
   "outputs": [
    {
     "name": "stdout",
     "output_type": "stream",
     "text": [
      "SENTINEL3_OLCI_L1B\n",
      "SENTINEL3_SLSTR\n",
      "SENTINEL_5P_L2\n",
      "SENTINEL2_L1C\n",
      "SENTINEL2_L2A\n",
      "SENTINEL1_GRD\n",
      "COPERNICUS_30\n",
      "LANDSAT8_L2\n"
     ]
    }
   ],
   "source": [
    "# print(connection.list_collections())\n",
    "for collection in connection.list_collections():\n",
    "    print(collection['id'])"
   ]
  },
  {
   "cell_type": "code",
   "execution_count": 6,
   "id": "36b4cd2c-e4ae-4dbc-aa82-d44a2f452efb",
   "metadata": {
    "tags": []
   },
   "outputs": [],
   "source": [
    "download_path = \"/coursedata/users/nguyenb5\"\n",
    "\n",
    "period=(\"2022-05-01\", \"2022-06-01\")\n",
    "\n",
    "aoi={\n",
    "        \"west\": 3.20,\n",
    "        \"south\": 51.18,\n",
    "        \"east\": 3.70,\n",
    "        \"north\": 51.68,\n",
    "        \"crs\": \"EPSG:4326\",\n",
    "    }\n",
    "\n",
    "# Server-side computations with Sentinel 5 data process one band at a time\n",
    "s5_CH4 = connection.load_collection(\n",
    "    \"SENTINEL_5P_L2\",\n",
    "    spatial_extent=aoi,\n",
    "    temporal_extent = period,\n",
    "    bands=[\"CH4\"]\n",
    ")"
   ]
  },
  {
   "cell_type": "code",
   "execution_count": 19,
   "id": "8569d34c-c7f3-4946-ba02-0d15504972ec",
   "metadata": {
    "tags": []
   },
   "outputs": [
    {
     "name": "stdout",
     "output_type": "stream",
     "text": [
      "0:00:00 Job 'j-240212de5e4944fc8ffa7f5133e789f5': send 'start'\n",
      "0:00:17 Job 'j-240212de5e4944fc8ffa7f5133e789f5': queued (progress N/A)\n",
      "0:00:22 Job 'j-240212de5e4944fc8ffa7f5133e789f5': queued (progress N/A)\n",
      "0:00:29 Job 'j-240212de5e4944fc8ffa7f5133e789f5': queued (progress N/A)\n",
      "0:00:45 Job 'j-240212de5e4944fc8ffa7f5133e789f5': queued (progress N/A)\n",
      "0:00:55 Job 'j-240212de5e4944fc8ffa7f5133e789f5': queued (progress N/A)\n",
      "0:01:11 Job 'j-240212de5e4944fc8ffa7f5133e789f5': queued (progress N/A)\n",
      "0:01:27 Job 'j-240212de5e4944fc8ffa7f5133e789f5': running (progress N/A)\n",
      "0:01:47 Job 'j-240212de5e4944fc8ffa7f5133e789f5': running (progress N/A)\n",
      "0:02:14 Job 'j-240212de5e4944fc8ffa7f5133e789f5': running (progress N/A)\n",
      "0:02:46 Job 'j-240212de5e4944fc8ffa7f5133e789f5': finished (progress N/A)\n"
     ]
    },
    {
     "data": {
      "text/plain": [
       "PosixPath('/coursedata/users/nguyenb5/assignment3_Task3/CH4_min.nc')"
      ]
     },
     "execution_count": 19,
     "metadata": {},
     "output_type": "execute_result"
    }
   ],
   "source": [
    "ch4_data_min = ch4_data.reduce_dimension(\n",
    "    reducer=\"min\", \n",
    "    dimension=\"t\"\n",
    ")\n",
    "\n",
    "ch4_data_min = ch4_data_min.save_result(format=\"netCDF\") # We can also choose JSON format\n",
    "job = ch4_data_min.create_job(title=\"CH4 min\")\n",
    "job.start_and_wait()\n",
    "result = job.get_results()\n",
    "result.download_file(f\"{download_path}/assignment3_Task3/CH4_min.nc\") # if JSON chosen then extension is .json"
   ]
  },
  {
   "cell_type": "code",
   "execution_count": 20,
   "id": "b835bc34-4766-42ca-a4fb-b6bd3b097f8a",
   "metadata": {
    "tags": []
   },
   "outputs": [
    {
     "name": "stdout",
     "output_type": "stream",
     "text": [
      "0:00:00 Job 'j-24021275e68c475e893b33572a1546eb': send 'start'\n",
      "0:00:28 Job 'j-24021275e68c475e893b33572a1546eb': created (progress N/A)\n",
      "0:00:33 Job 'j-24021275e68c475e893b33572a1546eb': created (progress N/A)\n",
      "0:00:40 Job 'j-24021275e68c475e893b33572a1546eb': created (progress N/A)\n",
      "0:00:48 Job 'j-24021275e68c475e893b33572a1546eb': created (progress N/A)\n",
      "0:00:59 Job 'j-24021275e68c475e893b33572a1546eb': created (progress N/A)\n",
      "0:01:12 Job 'j-24021275e68c475e893b33572a1546eb': created (progress N/A)\n",
      "0:01:27 Job 'j-24021275e68c475e893b33572a1546eb': running (progress N/A)\n",
      "0:01:48 Job 'j-24021275e68c475e893b33572a1546eb': running (progress N/A)\n",
      "0:02:14 Job 'j-24021275e68c475e893b33572a1546eb': running (progress N/A)\n",
      "0:02:47 Job 'j-24021275e68c475e893b33572a1546eb': finished (progress N/A)\n"
     ]
    },
    {
     "data": {
      "text/plain": [
       "PosixPath('/coursedata/users/nguyenb5/assignment3_Task3/CH4_max.nc')"
      ]
     },
     "execution_count": 20,
     "metadata": {},
     "output_type": "execute_result"
    }
   ],
   "source": [
    "ch4_data_max = ch4_data.reduce_dimension(\n",
    "    reducer=\"max\", \n",
    "    dimension=\"t\"\n",
    ")\n",
    "\n",
    "ch4_data_max = ch4_data_max.save_result(format=\"netCDF\") # We can also choose JSON format\n",
    "job = ch4_data_max.create_job(title=\"CH4 max\")\n",
    "job.start_and_wait()\n",
    "result = job.get_results()\n",
    "result.download_file(f\"{download_path}/assignment3_Task3/CH4_max.nc\") # if JSON chosen then extension is .json\n"
   ]
  },
  {
   "cell_type": "code",
   "execution_count": 21,
   "id": "cd48c0f8-f208-4c3a-8228-3301df3b37c0",
   "metadata": {
    "tags": []
   },
   "outputs": [
    {
     "name": "stdout",
     "output_type": "stream",
     "text": [
      "0:00:00 Job 'j-24021223522843b9a7e44f29d3907444': send 'start'\n",
      "0:00:15 Job 'j-24021223522843b9a7e44f29d3907444': created (progress N/A)\n",
      "0:00:21 Job 'j-24021223522843b9a7e44f29d3907444': created (progress N/A)\n",
      "0:00:28 Job 'j-24021223522843b9a7e44f29d3907444': running (progress N/A)\n",
      "0:00:38 Job 'j-24021223522843b9a7e44f29d3907444': running (progress N/A)\n",
      "0:00:50 Job 'j-24021223522843b9a7e44f29d3907444': running (progress N/A)\n",
      "0:01:03 Job 'j-24021223522843b9a7e44f29d3907444': running (progress N/A)\n",
      "0:01:19 Job 'j-24021223522843b9a7e44f29d3907444': running (progress N/A)\n",
      "0:01:40 Job 'j-24021223522843b9a7e44f29d3907444': running (progress N/A)\n",
      "0:02:06 Job 'j-24021223522843b9a7e44f29d3907444': running (progress N/A)\n",
      "0:02:37 Job 'j-24021223522843b9a7e44f29d3907444': running (progress N/A)\n",
      "0:03:15 Job 'j-24021223522843b9a7e44f29d3907444': finished (progress N/A)\n"
     ]
    },
    {
     "data": {
      "text/plain": [
       "PosixPath('/coursedata/users/nguyenb5/assignment3_Task3/CH4_mean.nc')"
      ]
     },
     "execution_count": 21,
     "metadata": {},
     "output_type": "execute_result"
    }
   ],
   "source": [
    "ch4_data_mean = ch4_data.reduce_dimension(\n",
    "    reducer=\"mean\", \n",
    "    dimension=\"t\"\n",
    ")\n",
    "\n",
    "ch4_data_mean = ch4_data_mean.save_result(format=\"netCDF\") # We can also choose JSON format\n",
    "job = ch4_data_mean.create_job(title=\"CH4 mean\")\n",
    "job.start_and_wait()\n",
    "result = job.get_results()\n",
    "result.download_file(f\"{download_path}/assignment3_Task3/CH4_mean.nc\") # if JSON chosen then extension is .json"
   ]
  },
  {
   "cell_type": "code",
   "execution_count": 23,
   "id": "5ade6f6d-c440-4c71-ac24-cfdda5fb400f",
   "metadata": {
    "tags": []
   },
   "outputs": [
    {
     "name": "stdout",
     "output_type": "stream",
     "text": [
      "0:00:00 Job 'j-240212aba8704a71b03a5610d2db6f30': send 'start'\n",
      "0:00:14 Job 'j-240212aba8704a71b03a5610d2db6f30': created (progress N/A)\n",
      "0:00:19 Job 'j-240212aba8704a71b03a5610d2db6f30': running (progress N/A)\n",
      "0:00:26 Job 'j-240212aba8704a71b03a5610d2db6f30': running (progress N/A)\n",
      "0:00:35 Job 'j-240212aba8704a71b03a5610d2db6f30': running (progress N/A)\n",
      "0:00:45 Job 'j-240212aba8704a71b03a5610d2db6f30': running (progress N/A)\n",
      "0:00:59 Job 'j-240212aba8704a71b03a5610d2db6f30': running (progress N/A)\n",
      "0:01:14 Job 'j-240212aba8704a71b03a5610d2db6f30': running (progress N/A)\n",
      "0:01:34 Job 'j-240212aba8704a71b03a5610d2db6f30': running (progress N/A)\n",
      "0:01:58 Job 'j-240212aba8704a71b03a5610d2db6f30': running (progress N/A)\n",
      "0:02:31 Job 'j-240212aba8704a71b03a5610d2db6f30': finished (progress N/A)\n"
     ]
    },
    {
     "data": {
      "text/plain": [
       "PosixPath('/coursedata/users/nguyenb5/assignment3_Task3/CH4_sd.nc')"
      ]
     },
     "execution_count": 23,
     "metadata": {},
     "output_type": "execute_result"
    }
   ],
   "source": [
    "ch4_data_std = ch4_data.reduce_dimension(\n",
    "    reducer=\"sd\", \n",
    "    dimension=\"t\"\n",
    ")\n",
    "\n",
    "ch4_data_std = ch4_data_std.save_result(format=\"netCDF\") # We can also choose JSON format\n",
    "job = ch4_data_std.create_job(title=\"CH4 std\")\n",
    "job.start_and_wait()\n",
    "result = job.get_results()\n",
    "result.download_file(f\"{download_path}/assignment3_Task3/CH4_sd.nc\") # if JSON chosen then extension is .json"
   ]
  },
  {
   "cell_type": "code",
   "execution_count": 24,
   "id": "f99b5e30-9421-4b7c-9b9d-5ef459403611",
   "metadata": {
    "tags": []
   },
   "outputs": [
    {
     "name": "stdout",
     "output_type": "stream",
     "text": [
      "0:00:00 Job 'j-240212c052bf4a7da46756ea13321eb3': send 'start'\n",
      "0:00:23 Job 'j-240212c052bf4a7da46756ea13321eb3': running (progress N/A)\n",
      "0:00:29 Job 'j-240212c052bf4a7da46756ea13321eb3': running (progress N/A)\n",
      "0:00:36 Job 'j-240212c052bf4a7da46756ea13321eb3': running (progress N/A)\n",
      "0:00:45 Job 'j-240212c052bf4a7da46756ea13321eb3': running (progress N/A)\n",
      "0:00:55 Job 'j-240212c052bf4a7da46756ea13321eb3': running (progress N/A)\n",
      "0:01:09 Job 'j-240212c052bf4a7da46756ea13321eb3': running (progress N/A)\n",
      "0:01:25 Job 'j-240212c052bf4a7da46756ea13321eb3': running (progress N/A)\n",
      "0:01:44 Job 'j-240212c052bf4a7da46756ea13321eb3': running (progress N/A)\n",
      "0:02:10 Job 'j-240212c052bf4a7da46756ea13321eb3': running (progress N/A)\n",
      "0:02:43 Job 'j-240212c052bf4a7da46756ea13321eb3': finished (progress N/A)\n"
     ]
    },
    {
     "data": {
      "text/plain": [
       "PosixPath('/coursedata/users/nguyenb5/assignment3_Task3/CH4_sd.json')"
      ]
     },
     "execution_count": 24,
     "metadata": {},
     "output_type": "execute_result"
    }
   ],
   "source": [
    "ch4_data_std = ch4_data.reduce_dimension(\n",
    "    reducer=\"sd\", \n",
    "    dimension=\"t\"\n",
    ")\n",
    "\n",
    "ch4_data_std = ch4_data_std.save_result(format=\"JSON\") # We can also choose JSON format\n",
    "job = ch4_data_std.create_job(title=\"CH4 std\")\n",
    "job.start_and_wait()\n",
    "result = job.get_results()\n",
    "result.download_file(f\"{download_path}/assignment3_Task3/CH4_sd.json\") # if JSON chosen then extension is .json"
   ]
  },
  {
   "cell_type": "code",
   "execution_count": null,
   "id": "0722f23e-817a-4196-b635-b0de0ce44025",
   "metadata": {
    "tags": []
   },
   "outputs": [],
   "source": [
    "#fig, axes = plt.subplots(figsize=(6, 4), nrows=2, ncols=2, dpi=90)\n",
    "# with open(f\"{download_path}/assignment3_Task3/CH4_mean.json\", 'r') as file:\n",
    "#    results_min = file.read()\n",
    "#    results_min_dict = json.loads(results_min)\n",
    "        \n",
    "#def print_keys(data, indent=0):\n",
    "#    if isinstance(data, dict):\n",
    "#        for key in data:\n",
    "#            print(' ' * indent + key)\n",
    "#            print_keys(data[key], indent + 2)\n",
    "#    elif isinstance(data, list) and len(data) > 0:\n",
    "#        print(' ' * indent + '[List of items]')\n",
    "#        print_keys(data[0], indent + 2)  # Only print the keys of the first item if it's a list\n",
    "\n",
    "# Now, use the function to print the keys of the JSON data\n",
    "print_keys(results_min_dict)\n",
    "\n",
    "# print(results_min)"
   ]
  },
  {
   "cell_type": "code",
   "execution_count": 25,
   "id": "afb6d0ef",
   "metadata": {
    "tags": []
   },
   "outputs": [
    {
     "name": "stdout",
     "output_type": "stream",
     "text": [
      "<xarray.Dataset>\n",
      "Dimensions:  (x: 185, y: 289)\n",
      "Coordinates:\n",
      "  * x        (x) float64 3.23 3.284 3.339 3.394 ... 13.11 13.16 13.22 13.27\n",
      "  * y        (y) float64 61.19 61.15 61.12 61.08 ... 51.29 51.26 51.22 51.19\n",
      "Data variables:\n",
      "    crs      |S1 ...\n",
      "    CH4      (y, x) float32 ...\n",
      "Attributes:\n",
      "    Conventions:  CF-1.9\n",
      "    institution:  openEO platform - Geotrellis backend: 0.24.0a1\n",
      "    description:  \n",
      "    title:        \n"
     ]
    }
   ],
   "source": [
    "#fig, axes = plt.subplots(figsize=(6, 4), nrows=2, ncols=2, dpi=90)\n",
    "\n",
    "ds_min = xr.open_dataset(f\"{download_path}/assignment3_Task3/CH4_min.nc\")\n",
    "ds_max = xr.open_dataset(f\"{download_path}/assignment3_Task3/CH4_max.nc\")\n",
    "ds_mean = xr.open_dataset(f\"{download_path}/assignment3_Task3/CH4_mean.nc\")\n",
    "ds_std = xr.open_dataset(f\"{download_path}/assignment3_Task3/CH4_sd.nc\")\n",
    "\n",
    "print(ds_min)"
   ]
  },
  {
   "cell_type": "code",
   "execution_count": 28,
   "id": "38078372-e9b9-40d0-b97e-41df3d7c0f9d",
   "metadata": {
    "tags": []
   },
   "outputs": [
    {
     "data": {
      "image/png": "[encoded data removed]",
      "text/plain": [
       "<Figure size 1200x1000 with 8 Axes>"
      ]
     },
     "metadata": {},
     "output_type": "display_data"
    }
   ],
   "source": [
    "\n",
    "fig, axes = plt.subplots(nrows=2, ncols=2, figsize=(12, 10))\n",
    "\n",
    "\n",
    "ds_min.CH4.plot(ax=axes[0, 0], cmap='viridis', add_colorbar=True)\n",
    "axes[0, 0].set_title('CH4 Min')\n",
    "\n",
    "ds_max.CH4.plot(ax=axes[0, 1], cmap='viridis', add_colorbar=True)\n",
    "axes[0, 1].set_title('CH4 Max')\n",
    "\n",
    "ds_mean.CH4.plot(ax=axes[1, 0], cmap='viridis', add_colorbar=True)\n",
    "axes[1, 0].set_title('CH4 Mean')\n",
    "\n",
    "ds_std.CH4.plot(ax=axes[1, 1], cmap='viridis', add_colorbar=True)\n",
    "axes[1, 1].set_title('CH4 SD')\n",
    "\n",
    "plt.tight_layout()\n",
    "plt.show()"
   ]
  },
  {
   "cell_type": "markdown",
   "id": "186fcc46",
   "metadata": {},
   "source": [
    "## Exercise 3.4 Data preparation (2 pt)\n",
    "\n",
    "Load the coordinates and labels of the CH4 plumes coming from gas infrastructure, oil infrastruture and coal mines from [all TROPOMI detected plumes for 2021. (Schuit et al. 2023)](https://zenodo.org/records/8087134).\n",
    "\n",
    "**In total, there are 1913 plumes from gas infrastructure, oil infrastruture and coal mines. You can choose >=50 plumes (approximately equally distributed between the three categories). Feel free to divide and conquer (see the file Batch-job-combine-tasks.ipynb) for suggestions. If you split the task with other students, each should download the data for at least 20 plumes.**\n",
    "\n",
    "For each plume, compute a 0.5 deg x 0.5 deg rectangle around the plume. We will assume that if a point source is a super-emitter, then it's emissions are noticeable almost every day. We are going to generate features based on the observation of CH4, CO, SO2 and NO2 from Sentinel 5P data and S5 and S6 from Sentinel 3 SLSTR data observed during Jan 2021 over each rectangle. Reasons for choosing these features:  \n",
    "- CO, SO2 and NO2 are co-emitted in oil&gas industry and coal mines. See, for example, [Fioletov et al. (2016)](https://doi.org/10.5194/acp-16-11497-2016) and [Trenchev et al. (2023)](https://doi.org/10.3390/rs15061590)\n",
    "- Methane has a \"spectral fingerprint\" - a unique way of absorbing infrared light, which can be used to identify emitters using satellites, which were not originally intended for tracking methane. An additional benefit of this approach is that such sattelites usually have higher resolution, so it is easier to pinpoint the point sources. See: [publication about NASA's EMIT mission](https://www.nasa.gov/centers-and-facilities/jpl/methane-super-emitters-mapped-by-nasas-new-earth-space-mission/) and [Pandey et al. (2023)](https://doi.org/10.1016/j.rse.2023.113716).\n",
    "\n",
    "You need to:\n",
    "1. Using batch jobs and server-side processes (aggregate_spatial, see details in Batch-job-combine-tasks.ipynb), compute a time-series with mean observations over each rectangle for Jan 2021.\n",
    "2. Locally, compute [min, max, mean, sd and median] over Jan 2021 for the mean-over-rectangle for CH4, CO, SO2 and NO2 from Sentinel 5P and S5 and S6 from Sentinel 3 SLSTR data.\n",
    "\n",
    "In the end, each plume should have 5x6 features: [min_CH4_Jan_2021,...,median_S6_Jan_2021].\n",
    " \n",
    "Notes:\n",
    "- Sentinel 3 has significantly higher resolution than Sentinel 5P. Hence, your image for Sentinel 3 will contain significantly more pixels than the one for Sentinel 5P for the same spatial and temporal extents\n",
    "- If you use job=datacube.create_job() and then job.start() then the batch jobs are performed asynchronously, meaning you can shut down the device and retrieve the results later (within 7 days). To give you a sense of approx. time: Sentinel 5P computations need to be done individually per band but for Sentinel 3 the bands can be combined. You can run at most 2 simultaneous batch jobs on Copernicus servers. Hence, in total, you can complete all batch jobs in 3 attempts. When I computed the example in Batch-job-combine-tasks.ipynb for two rectangles for CH4, the job took about 2 mins to complete but the actual running time was 74 seconds (rest is queueing)\n"
   ]
  },
  {
   "cell_type": "code",
   "execution_count": 4,
   "id": "6e97f2ce",
   "metadata": {
    "tags": []
   },
   "outputs": [
    {
     "name": "stdout",
     "output_type": "stream",
     "text": [
      "Number of data points: 2944\n"
     ]
    },
    {
     "data": {
      "text/html": [
       "<div>\n",
       "<style scoped>\n",
       "    .dataframe tbody tr th:only-of-type {\n",
       "        vertical-align: middle;\n",
       "    }\n",
       "\n",
       "    .dataframe tbody tr th {\n",
       "        vertical-align: top;\n",
       "    }\n",
       "\n",
       "    .dataframe thead th {\n",
       "        text-align: right;\n",
       "    }\n",
       "</style>\n",
       "<table border=\"1\" class=\"dataframe\">\n",
       "  <thead>\n",
       "    <tr style=\"text-align: right;\">\n",
       "      <th></th>\n",
       "      <th>date</th>\n",
       "      <th>time_UTC</th>\n",
       "      <th>lat</th>\n",
       "      <th>lon</th>\n",
       "      <th>source_rate_t/h</th>\n",
       "      <th>uncertainty_t/h</th>\n",
       "      <th>estimated_source_type</th>\n",
       "      <th>west</th>\n",
       "      <th>east</th>\n",
       "      <th>south</th>\n",
       "      <th>north</th>\n",
       "    </tr>\n",
       "  </thead>\n",
       "  <tbody>\n",
       "    <tr>\n",
       "      <th>0</th>\n",
       "      <td>20210101</td>\n",
       "      <td>06:00:45</td>\n",
       "      <td>36.75</td>\n",
       "      <td>109.76</td>\n",
       "      <td>32</td>\n",
       "      <td>16</td>\n",
       "      <td>Coal</td>\n",
       "      <td>109.26</td>\n",
       "      <td>110.26</td>\n",
       "      <td>36.25</td>\n",
       "      <td>37.25</td>\n",
       "    </tr>\n",
       "    <tr>\n",
       "      <th>1</th>\n",
       "      <td>20210101</td>\n",
       "      <td>06:00:55</td>\n",
       "      <td>37.53</td>\n",
       "      <td>110.75</td>\n",
       "      <td>39</td>\n",
       "      <td>22</td>\n",
       "      <td>Coal</td>\n",
       "      <td>110.25</td>\n",
       "      <td>111.25</td>\n",
       "      <td>37.03</td>\n",
       "      <td>38.03</td>\n",
       "    </tr>\n",
       "    <tr>\n",
       "      <th>2</th>\n",
       "      <td>20210101</td>\n",
       "      <td>07:37:49</td>\n",
       "      <td>20.89</td>\n",
       "      <td>85.22</td>\n",
       "      <td>4</td>\n",
       "      <td>2</td>\n",
       "      <td>Coal</td>\n",
       "      <td>84.72</td>\n",
       "      <td>85.72</td>\n",
       "      <td>20.39</td>\n",
       "      <td>21.39</td>\n",
       "    </tr>\n",
       "    <tr>\n",
       "      <th>3</th>\n",
       "      <td>20210101</td>\n",
       "      <td>07:38:15</td>\n",
       "      <td>23.30</td>\n",
       "      <td>90.79</td>\n",
       "      <td>51</td>\n",
       "      <td>15</td>\n",
       "      <td>Landfill/Urban</td>\n",
       "      <td>90.29</td>\n",
       "      <td>91.29</td>\n",
       "      <td>22.80</td>\n",
       "      <td>23.80</td>\n",
       "    </tr>\n",
       "    <tr>\n",
       "      <th>4</th>\n",
       "      <td>20210101</td>\n",
       "      <td>07:38:27</td>\n",
       "      <td>23.56</td>\n",
       "      <td>86.44</td>\n",
       "      <td>25</td>\n",
       "      <td>12</td>\n",
       "      <td>Coal</td>\n",
       "      <td>85.94</td>\n",
       "      <td>86.94</td>\n",
       "      <td>23.06</td>\n",
       "      <td>24.06</td>\n",
       "    </tr>\n",
       "  </tbody>\n",
       "</table>\n",
       "</div>"
      ],
      "text/plain": [
       "       date  time_UTC    lat     lon  source_rate_t/h  uncertainty_t/h  \\\n",
       "0  20210101  06:00:45  36.75  109.76               32               16   \n",
       "1  20210101  06:00:55  37.53  110.75               39               22   \n",
       "2  20210101  07:37:49  20.89   85.22                4                2   \n",
       "3  20210101  07:38:15  23.30   90.79               51               15   \n",
       "4  20210101  07:38:27  23.56   86.44               25               12   \n",
       "\n",
       "  estimated_source_type    west    east  south  north  \n",
       "0                  Coal  109.26  110.26  36.25  37.25  \n",
       "1                  Coal  110.25  111.25  37.03  38.03  \n",
       "2                  Coal   84.72   85.72  20.39  21.39  \n",
       "3        Landfill/Urban   90.29   91.29  22.80  23.80  \n",
       "4                  Coal   85.94   86.94  23.06  24.06  "
      ]
     },
     "execution_count": 4,
     "metadata": {},
     "output_type": "execute_result"
    }
   ],
   "source": [
    "# Load the coordinates and labels of the CH4 plumes coming from gas infrastructure, \n",
    "# oil infrastruture and coal mines from [all TROPOMI detected plumes for 2021. (Schuit et al. 2023)]\n",
    "# (https://zenodo.org/records/8087134). \n",
    "download_path = \"/coursedata/users/nguyenb5\"\n",
    "\n",
    "CH4_plumes = pd.read_csv(f\"{download_path}/assignment3_Task4/Schuit_etal2023_TROPOMI_all_plume_detections_2021.csv\")\n",
    "\n",
    "# Filter out rows where estimated_source_type is \"unclassified\"\n",
    "CH4_plumes = CH4_plumes[CH4_plumes['estimated_source_type'] != 'Unclassified']\n",
    "\n",
    "# For each plume, compute the spatial extent of an area 1 deg x 1 deg around the plume\n",
    "CH4_plumes['west'] = CH4_plumes['lon'] - 0.5\n",
    "CH4_plumes['east'] = CH4_plumes['lon'] + 0.5\n",
    "CH4_plumes['south'] = CH4_plumes['lat'] - 0.5\n",
    "CH4_plumes['north'] = CH4_plumes['lat'] + 0.5\n",
    "\n",
    "print(\"Number of data points:\", len(CH4_plumes))\n",
    "\n",
    "CH4_plumes.head()"
   ]
  },
  {
   "cell_type": "code",
   "execution_count": 14,
   "id": "b5e07681-54ca-458c-bedf-c4cbec0abd3e",
   "metadata": {
    "tags": []
   },
   "outputs": [
    {
     "name": "stdout",
     "output_type": "stream",
     "text": [
      "200\n",
      "200\n",
      "200\n",
      "200\n"
     ]
    }
   ],
   "source": [
    "# Filter the data for each category and select the first 20 rows\n",
    "gas_plumes = CH4_plumes[CH4_plumes['estimated_source_type'] == 'Gas'].head(200)\n",
    "oil_plumes = CH4_plumes[CH4_plumes['estimated_source_type'] == 'Oil'].head(200)\n",
    "coal_plumes = CH4_plumes[CH4_plumes['estimated_source_type'] == 'Coal'].head(200)\n",
    "# We are exempt to use landfill/urban plumes. Classifying gas, oil and coal are enough\n",
    "landfill_urban_plumes = CH4_plumes[CH4_plumes['estimated_source_type'] == 'Landfill/Urban'].head(200)\n",
    "\n",
    "print(len(gas_plumes))\n",
    "print(len(oil_plumes))\n",
    "print(len(coal_plumes))\n",
    "print(len(landfill_urban_plumes))"
   ]
  },
  {
   "cell_type": "code",
   "execution_count": 44,
   "id": "72a48791-122a-4847-af20-ec3d64ca4181",
   "metadata": {
    "tags": []
   },
   "outputs": [
    {
     "name": "stdout",
     "output_type": "stream",
     "text": [
      "SENTINEL3_OLCI_L1B\n",
      "SENTINEL3_SLSTR\n",
      "SENTINEL_5P_L2\n",
      "SENTINEL2_L1C\n",
      "SENTINEL2_L2A\n",
      "SENTINEL1_GRD\n",
      "COPERNICUS_30\n",
      "LANDSAT8_L2\n"
     ]
    }
   ],
   "source": [
    "# print(connection.list_collections())\n",
    "for collection in connection.list_collections():\n",
    "    print(collection['id'])"
   ]
  },
  {
   "cell_type": "markdown",
   "id": "3bc0453b-a81d-4ea5-9c6a-9b588277fab9",
   "metadata": {
    "tags": []
   },
   "source": [
    "Disclaimer:\n",
    "Due to the extremely long time of data preparation, I have reduced the number of datapoints to 80, each class has 20 datapoints and the class Unclassified is not considered"
   ]
  },
  {
   "cell_type": "code",
   "execution_count": 2,
   "id": "dfe5cf7d-51b6-4714-a834-0c4863c199ad",
   "metadata": {
    "tags": []
   },
   "outputs": [
    {
     "data": {
      "text/html": [
       "Visit <a href=\"https://identity.dataspace.copernicus.eu/auth/realms/CDSE/device?user_code=WEHL-BZDQ\" title=\"Authenticate at https://identity.dataspace.copernicus.eu/auth/realms/CDSE/device?user_code=WEHL-BZDQ\" target=\"_blank\" rel=\"noopener noreferrer\">https://identity.dataspace.copernicus.eu/auth/realms/CDSE/device?user_code=WEHL-BZDQ</a> <a href=\"#\" onclick=\"navigator.clipboard.writeText('https://identity.dataspace.copernicus.eu/auth/realms/CDSE/device?user_code=WEHL-BZDQ');return false;\" title=\"Copy authentication URL to clipboard\">&#128203;</a> to authenticate."
      ]
     },
     "metadata": {},
     "output_type": "display_data"
    },
    {
     "data": {
      "text/html": [
       "<code>[####################################-]</code> ✅ Authorized successfully"
      ]
     },
     "metadata": {},
     "output_type": "display_data"
    },
    {
     "name": "stdout",
     "output_type": "stream",
     "text": [
      "Authenticated using device code flow.\n"
     ]
    },
    {
     "data": {
      "text/plain": [
       "<Connection to 'https://openeo.dataspace.copernicus.eu/openeo/1.2/' with OidcBearerAuth>"
      ]
     },
     "execution_count": 2,
     "metadata": {},
     "output_type": "execute_result"
    }
   ],
   "source": [
    "connection = openeo.connect(url=\"openeo.dataspace.copernicus.eu\")\n",
    "connection.authenticate_oidc()"
   ]
  },
  {
   "cell_type": "markdown",
   "id": "893572e9-3c73-464f-8434-35d87dc63b78",
   "metadata": {},
   "source": [
    "**1. Define the datacube**"
   ]
  },
  {
   "cell_type": "code",
   "execution_count": 8,
   "id": "7b65a40d-7258-46b4-8355-bf89d54eabd3",
   "metadata": {
    "tags": []
   },
   "outputs": [],
   "source": [
    "period=(\"2021-01-01\", \"2021-01-31\")\n",
    "\n",
    "s5_CH4 = connection.load_collection(\n",
    "    \"SENTINEL_5P_L2\",\n",
    "    #spatial_extent=optional_bounding_box_for_all_plume_rectangles,\n",
    "    temporal_extent = period,\n",
    "    bands=[\"CH4\"] #as before, server-side computations for S5 accept only one band at a time\n",
    ")\n",
    "\n",
    "s5_CO = connection.load_collection(\n",
    "    \"SENTINEL_5P_L2\",\n",
    "    #spatial_extent=optional_bounding_box_for_all_plume_rectangles,\n",
    "    temporal_extent = period,\n",
    "    bands=[\"CO\"] #as before, server-side computations for S5 accept only one band at a time\n",
    ")\n",
    "\n",
    "s5_SO2 = connection.load_collection(\n",
    "    \"SENTINEL_5P_L2\",\n",
    "    #spatial_extent=optional_bounding_box_for_all_plume_rectangles,\n",
    "    temporal_extent = period,\n",
    "    bands=[\"SO2\"] #as before, server-side computations for S5 accept only one band at a time\n",
    ")\n",
    "\n",
    "\n",
    "s5_NO2 = connection.load_collection(\n",
    "    \"SENTINEL_5P_L2\",\n",
    "    #spatial_extent=optional_bounding_box_for_all_plume_rectangles,\n",
    "    temporal_extent = period,\n",
    "    bands=[\"NO2\"] #as before, server-side computations for S5 accept only one band at a time\n",
    ")\n",
    "\n",
    "s3_all_bands = connection.load_collection(\n",
    "    \"SENTINEL3_SLSTR\",\n",
    "    #spatial_extent=optional_bounding_box_for_all_plume_rectangles,\n",
    "    temporal_extent = period,\n",
    "    bands=[\"S5\", \"S6\"] #as before, server-side computations for S3 accept only several bands at a time\n",
    ")\n",
    "    "
   ]
  },
  {
   "cell_type": "code",
   "execution_count": 15,
   "id": "3eacd612-87f5-4823-aaca-70dadd59a094",
   "metadata": {
    "tags": []
   },
   "outputs": [],
   "source": [
    "CH4_plumes_list = [gas_plumes, oil_plumes, coal_plumes, landfill_urban_plumes]\n",
    "plume_names = [\"gas\", \"oil\", \"coal\", \"landfill_urban\"]\n",
    "               \n",
    "for i, plume_data in enumerate(CH4_plumes_list):\n",
    "    plumes_geojson = {\n",
    "        \"type\": \"FeatureCollection\",\n",
    "        \"features\": []\n",
    "    }\n",
    "    \n",
    "    for index, row in plume_data.iterrows():\n",
    "\n",
    "        west = row['lon'] - 0.25\n",
    "        east = row['lon'] + 0.25\n",
    "        south = row['lat'] - 0.25\n",
    "        north = row['lat'] + 0.25\n",
    "\n",
    "        # Construct the rectangle's coordinates in counter-clockwise order starting from the South-East vertex\n",
    "        coordinates = [[[east, south], [west, south], [west, north], [east, north], [east, south]]]\n",
    "        # print(coordinates)\n",
    "        # Create a GeoJSON feature for the current area of interest\n",
    "        feature = {\n",
    "            \"type\": \"Feature\",\n",
    "            \"properties\": {},  # You can add properties if needed\n",
    "            \"geometry\": {\n",
    "                \"type\": \"Polygon\",\n",
    "                \"coordinates\": coordinates\n",
    "            }\n",
    "        }\n",
    "\n",
    "        plumes_geojson['features'].append(feature)\n",
    "\n",
    "    with open(f\"{download_path}/assignment3_Task4/{plume_names[i]}_geojson.json\", 'w') as file:\n",
    "        json.dump(plumes_geojson, file, indent=4)"
   ]
  },
  {
   "cell_type": "markdown",
   "id": "2b14cf81-c38e-4b23-bd43-71329a873bb7",
   "metadata": {},
   "source": [
    "**3. Add reducer and initiate the job**"
   ]
  },
  {
   "cell_type": "markdown",
   "id": "375cf2c1-1deb-49a4-8c19-52f06de67d62",
   "metadata": {
    "tags": []
   },
   "source": [
    "### Divide and conquer between 5 accounts\n",
    "### Each account can run 2 concurrent jobs"
   ]
  },
  {
   "cell_type": "markdown",
   "id": "22b57c80-c5a5-4113-8549-297c88d7a421",
   "metadata": {},
   "source": [
    "From now, I run the 15 ipynb files in this same directory to gather data for gas, coal and oil, each having 200 plumes. In total, 600 plumes data are obtainted. Now, we can extract the results and turn them into Pandas dataframe"
   ]
  },
  {
   "cell_type": "code",
   "execution_count": 3,
   "id": "7db5c12c-1f02-4031-8edd-ecd786a93eb2",
   "metadata": {
    "tags": []
   },
   "outputs": [],
   "source": [
    "def calculate_statistics(df):\n",
    "    stats =  np.array([\n",
    "        df.min(axis=1, skipna=True),\n",
    "        df.max(axis=1, skipna=True),\n",
    "        df.mean(axis=1, skipna=True),\n",
    "        df.std(axis=1, skipna=True),\n",
    "        df.median(axis=1, skipna=True)\n",
    "    ]).T\n",
    "    return stats\n",
    "\n",
    "feature_matrices = {\n",
    "    \"gas\": np.zeros((200, 5, 6)),\n",
    "    \"oil\": np.zeros((200, 5, 6)),\n",
    "    \"coal\": np.zeros((200, 5, 6))\n",
    "}\n",
    "\n",
    "# Order of datacubes for indexing 0, 1, 2, 3, 4, 5\n",
    "datacube_order = [\"s5_CH4\", \"s5_CO\", \"s5_SO2\", \"s5_NO2\", \"S5\", \"S6\"]\n",
    "\n",
    "download_path = \"/coursedata/users/nguyenb5\"\n",
    "\n",
    "for plume_type in [\"gas\", \"coal\", \"oil\"]:\n",
    "    for datacube_name in [\"s5_CH4\", \"s5_CO\", \"s5_SO2\", \"s5_NO2\", \"s3_all_bands\"]:\n",
    "        with open(f\"{download_path}/assignment3_Task4/{datacube_name}_{plume_type}.json\") as file:\n",
    "            data = json.load(file)\n",
    "        \n",
    "        df = timeseries_json_to_pandas(data)\n",
    "        df.index = pd.to_datetime(df.index)\n",
    "        \n",
    "        if datacube_name == \"s3_all_bands\":\n",
    "            df_band_S5 = df.xs(key=0, level='band', axis=1)\n",
    "            df_band_S6 = df.xs(key=1, level='band', axis=1)\n",
    "               \n",
    "            df_band_S5 = df_band_S5.map(lambda x: np.nan if isinstance(x, list) and x[0] is None else x)\n",
    "            df_band_S6 = df_band_S6.map(lambda x: np.nan if isinstance(x, list) and x[0] is None else x)\n",
    "            \n",
    "            \n",
    "            df_band_S5 = df_band_S5.map(lambda x: x[0] if isinstance(x, list) and isinstance(x[0], np.float) else x)\n",
    "            df_band_S6 = df_band_S6.map(lambda x: x[0] if isinstance(x, list) and isinstance(x[0], np.float) else x)\n",
    "            \n",
    "            df_band_S5 = df_band_S5.T\n",
    "            df_band_S6 = df_band_S6.T\n",
    "            \n",
    "            stats_S5 = calculate_statistics(df_band_S5)\n",
    "            stats_S6 = calculate_statistics(df_band_S6)\n",
    "\n",
    "            feature_matrices[plume_type][:, :, 4] = stats_S5 \n",
    "            feature_matrices[plume_type][:, :, 5] = stats_S6  \n",
    "        else:\n",
    "            df = df.map(lambda x: np.nan if isinstance(x, list) and x[0] is None else x)\n",
    "            df = df.map(lambda x: x[0] if isinstance(x, list) and isinstance(x[0], float) else x)\n",
    "            df = df.T\n",
    "            stats = calculate_statistics(df)\n",
    "            index = datacube_order.index(datacube_name)\n",
    "            feature_matrices[plume_type][:, :, index] = stats\n"
   ]
  },
  {
   "cell_type": "markdown",
   "id": "7c7c2e82",
   "metadata": {},
   "source": [
    "## Exercise 3.5 SVM (4 pt)\n",
    "\n",
    "Build an SVM model using the data you prepared in Exercise 3.4"
   ]
  },
  {
   "cell_type": "code",
   "execution_count": 10,
   "id": "53751feb",
   "metadata": {
    "tags": []
   },
   "outputs": [
    {
     "name": "stdout",
     "output_type": "stream",
     "text": [
      "Training Accuracy: 0.567\n",
      "Testing Accuracy: 0.633\n",
      "\n",
      "Classification report (Training set):\n",
      "              precision    recall  f1-score   support\n",
      "\n",
      "           0       0.48      0.63      0.55       160\n",
      "           1       0.56      0.53      0.54       160\n",
      "           2       0.72      0.54      0.62       160\n",
      "\n",
      "    accuracy                           0.57       480\n",
      "   macro avg       0.59      0.57      0.57       480\n",
      "weighted avg       0.59      0.57      0.57       480\n",
      "\n",
      "\n",
      "Classification report (Testing set):\n",
      "              precision    recall  f1-score   support\n",
      "\n",
      "           0       0.53      0.68      0.59        40\n",
      "           1       0.54      0.50      0.52        40\n",
      "           2       0.91      0.72      0.81        40\n",
      "\n",
      "    accuracy                           0.63       120\n",
      "   macro avg       0.66      0.63      0.64       120\n",
      "weighted avg       0.66      0.63      0.64       120\n",
      "\n"
     ]
    }
   ],
   "source": [
    "def replace_nans_with_mean(feature_matrices):\n",
    "    for key in feature_matrices:\n",
    "        mean_val = np.nanmean(feature_matrices[key])\n",
    "        feature_matrices[key] = np.nan_to_num(feature_matrices[key], nan=mean_val)\n",
    "    return feature_matrices\n",
    "\n",
    "feature_matrices_noNAN = replace_nans_with_mean(feature_matrices)\n",
    "\n",
    "flattened_features = {key: value.reshape(value.shape[0], -1) for key, value in feature_matrices_noNAN.items()}\n",
    "\n",
    "# Assign labels to each class\n",
    "labels = {\n",
    "    \"gas\": np.full(flattened_features[\"gas\"].shape[0], 0),\n",
    "    \"oil\": np.full(flattened_features[\"oil\"].shape[0], 1),\n",
    "    \"coal\": np.full(flattened_features[\"coal\"].shape[0], 2)\n",
    "}\n",
    "\n",
    "\n",
    "X = np.concatenate((flattened_features[\"gas\"], flattened_features[\"oil\"], flattened_features[\"coal\"]), axis=0)\n",
    "y = np.concatenate((labels[\"gas\"], labels[\"oil\"], labels[\"coal\"]), axis=0)\n",
    "\n",
    "indices = np.arange(X.shape[0])\n",
    "np.random.shuffle(indices)\n",
    "X = X[indices]\n",
    "y = y[indices]\n",
    "\n",
    "# Split the data into training (80%), and testing (20%) sets\n",
    "X_train, X_test, y_train, y_test = train_test_split(X, y, test_size=0.2, stratify=y, random_state=42)  \n",
    "\n",
    "\n",
    "model = svm.SVC(kernel='linear')  \n",
    "model.fit(X_train, y_train)\n",
    "\n",
    "y_train_pred = model.predict(X_train)\n",
    "train_accuracy = accuracy_score(y_train, y_train_pred)\n",
    "print(f\"Training Accuracy: {round(train_accuracy, 3)}\")\n",
    "\n",
    "# Evaluate the model\n",
    "y_test_pred = model.predict(X_test)\n",
    "test_accuracy = accuracy_score(y_test, y_test_pred)\n",
    "print(f\"Testing Accuracy: {round(test_accuracy, 3)}\")\n",
    "\n",
    "print(\"\\nClassification report (Training set):\")\n",
    "print(classification_report(y_train, y_train_pred, zero_division=0))\n",
    "\n",
    "print(\"\\nClassification report (Testing set):\")\n",
    "print(classification_report(y_test, y_test_pred, zero_division=0))"
   ]
  },
  {
   "cell_type": "markdown",
   "id": "95016722-d714-4cbd-aab1-5d620c65b794",
   "metadata": {},
   "source": [
    "It appears that the classification model is performing not well enough as expected, only better than random guess a little bit (33.3%). \n",
    "\n",
    "This is possibly because there are many NaN in the collected data from the plumes. Additionally, there are also regions that do not have any emission value, and have to be replaced with the mean value. This really makes the model hard to classify since there is much fewer data than expected. \n",
    "\n",
    "Another reason could be that the dataset do not have enough plumes, as each class has 200 datapoints. The result could be better if each class has 300-400 datapoints. \n",
    "\n",
    "The final reason is that SVM can be quite weak in classifiying nonlinear data, especially when its kernel is linear type, which is basically hyperplanes that separates the datapoints"
   ]
  },
  {
   "cell_type": "markdown",
   "id": "5f9f654f",
   "metadata": {},
   "source": [
    "## Exercise 3.6 Discuss the approach you took in Exercises 3.4 and 3.5. (2 pt)\n",
    "\n",
    "Some points to consider:\n",
    "- Strength and weaknesses? \n",
    "- Suggestions for improvement? \n",
    "- Implications for policy-makers? \n",
    "- Possible further research questions?\n",
    "- Ethical considerations?"
   ]
  },
  {
   "cell_type": "markdown",
   "id": "f783a6c4",
   "metadata": {},
   "source": [
    "1. Strengths and Weaknesses\n",
    "\n",
    "- Strengths: To find out the methane emissions from various sources, the strategy includes advanced satellite imagery and data processing tools that we discuss previously using Sentinel 3 and 5. The model makes use of the spatial and spectral properties of the emissions to accurately categorize the sources of methane emissions through SVM classification model.\n",
    "\n",
    "- Weaknesses: Because the model depends on satellite data, there may be restrictions on the amount of cloud cover, the resolution, and the availability of data. Variability in emission patterns and the existence of mixed sources nearby could affect how accurately emission sources are classified. \n",
    "\n",
    "2. Suggestions for Improvement\n",
    "\n",
    "Advanced machine learning models like deep learning could work better in feature extraction and classification, such as deep neural networks, though we should not always depend on Deep Learning for all possible problems. Additionally, we need to tune the hyperparameters of the ML model to improve its accuracy in order to be used in real-world applications.\n",
    "\n",
    "3. Implications for Policymakers\n",
    "\n",
    "Policymakers can use results from this research to identify high-emission zones and make decisions to reudce these emissions. The classification of emissions by source type like gas, coal and oil also helps policy-makers in making regulations and interventions specific to each industry sector.\n",
    "\n",
    "4. Possible Further Research Questions\n",
    "\n",
    "- Question 1: Investigating the temporal variability in emissions from identified sources could give us patterns related to operational practices of industrial complex like coal miners and oil plants.\n",
    "\n",
    "- Question 2: Studying the effect of meteorological conditions on the variability of emissions could improve the accuracy of emission estimations.\n",
    "\n",
    "5. Ethical Considerations\n",
    "\n",
    "The use of satellite data for environmental monitoring must not violate privacy concerns. Additionally, there's a responsibility to ensure that the model's findings are used ethically, focusing solely on environmental protection without unfairly targeting specific regions or industries."
   ]
  },
  {
   "cell_type": "markdown",
   "id": "9d873875",
   "metadata": {},
   "source": [
    "## (Optional) Exercise 3.7 Use any other (supervised or unsupervised) classification algorithm on data you prepared in Exercise 3.4 (3 pt)"
   ]
  },
  {
   "cell_type": "code",
   "execution_count": 16,
   "id": "d20341d1",
   "metadata": {
    "tags": []
   },
   "outputs": [
    {
     "name": "stdout",
     "output_type": "stream",
     "text": [
      "Training Accuracy: 1.0\n",
      "Testing Accuracy: 0.892\n",
      "\n",
      "Classification report (Training set):\n",
      "              precision    recall  f1-score   support\n",
      "\n",
      "           0       1.00      1.00      1.00       160\n",
      "           1       1.00      1.00      1.00       160\n",
      "           2       1.00      1.00      1.00       160\n",
      "\n",
      "    accuracy                           1.00       480\n",
      "   macro avg       1.00      1.00      1.00       480\n",
      "weighted avg       1.00      1.00      1.00       480\n",
      "\n",
      "\n",
      "Classification report (Testing set):\n",
      "              precision    recall  f1-score   support\n",
      "\n",
      "           0       0.89      0.85      0.87        40\n",
      "           1       0.87      0.85      0.86        40\n",
      "           2       0.91      0.97      0.94        40\n",
      "\n",
      "    accuracy                           0.89       120\n",
      "   macro avg       0.89      0.89      0.89       120\n",
      "weighted avg       0.89      0.89      0.89       120\n",
      "\n"
     ]
    }
   ],
   "source": [
    "X_train, X_test, y_train, y_test = train_test_split(X, y, test_size=0.2, stratify=y, random_state=42)\n",
    "\n",
    "rf_classifier = RandomForestClassifier(n_estimators=2000, random_state=42)\n",
    "rf_classifier.fit(X_train, y_train)\n",
    "\n",
    "y_train_pred = rf_classifier.predict(X_train)\n",
    "train_accuracy = accuracy_score(y_train, y_train_pred)\n",
    "print(f\"Training Accuracy: {round(train_accuracy, 3)}\")\n",
    "\n",
    "# Evaluate the model\n",
    "y_test_pred = rf_classifier.predict(X_test)\n",
    "test_accuracy = accuracy_score(y_test, y_test_pred)\n",
    "print(f\"Testing Accuracy: {round(test_accuracy, 3)}\")\n",
    "\n",
    "print(\"\\nClassification report (Training set):\")\n",
    "print(classification_report(y_train, y_train_pred, zero_division=0))\n",
    "\n",
    "print(\"\\nClassification report (Testing set):\")\n",
    "print(classification_report(y_test, y_test_pred, zero_division=0))"
   ]
  },
  {
   "cell_type": "markdown",
   "id": "afa98fcd",
   "metadata": {},
   "source": [
    "Why did you choose this algorithm? Compare to the approach and results in Exercise 3.5."
   ]
  },
  {
   "cell_type": "markdown",
   "id": "8ff46f1d",
   "metadata": {},
   "source": [
    "I choose Random Forest because it is much more robust and can usually perform well in diverse dataset in larger dimensions. Random Forest can also handle nonlinear data very well, and its training is also not computationally demanding like XGBOOST. Additionally, unlike SVM, which might require careful tuning of parameters (like the kernel choice and regularization strength), Random Forest tends to perform well with default parameters. \n",
    "\n",
    "Compared to SVM classifier in exercise 3.5, we can see that Random Forest outperformed SVM with a testing accuracy of 0.892 as opposed to 0.633 for SVM. This suggests that Random Forest performs better when extrapolating training data to unknown data, probably because it can better represent decision boundaries using a collection of decision trees.\n",
    "\n",
    "Random Forest did not experience overfitting to the same extent as we thought, even though it achieved perfect training accuracy (1.0). Part of the reason for this robustness is that Random Forest reduces the variance of the model without raising bias by averaging several deep decision trees, each of which was trained on a sample of data."
   ]
  },
  {
   "cell_type": "markdown",
   "id": "8082ef9d",
   "metadata": {},
   "source": [
    "## (Optional) Exercise 3.8 Test the model from Exercise 3.5 against a different time period (3 pt)\n",
    "\n",
    "Assume that the location of super-emitters remains relatively stable over time. As in Exercise 3.4 load the data for the point sources but now for a different time period (say, Jan of another year or another month in 2021). Test how well your model from Exercise 3.5 performs on this new data. Discuss"
   ]
  },
  {
   "cell_type": "markdown",
   "id": "faa3f18f",
   "metadata": {},
   "source": []
  }
 ],
 "metadata": {
  "kernelspec": {
   "display_name": "Python 3",
   "language": "python",
   "name": "python3"
  },
  "language_info": {
   "codemirror_mode": {
    "name": "ipython",
    "version": 3
   },
   "file_extension": ".py",
   "mimetype": "text/x-python",
   "name": "python",
   "nbconvert_exporter": "python",
   "pygments_lexer": "ipython3",
   "version": "3.10.12"
  }
 },
 "nbformat": 4,
 "nbformat_minor": 5
}
