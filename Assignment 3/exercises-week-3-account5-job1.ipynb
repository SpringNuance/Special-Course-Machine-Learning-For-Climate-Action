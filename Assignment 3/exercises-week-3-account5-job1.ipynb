{
 "cells": [
  {
   "cell_type": "markdown",
   "id": "f6025b5d-0d19-4331-b242-adec33e939e4",
   "metadata": {
    "tags": []
   },
   "source": [
    "# **Exercise session 3: Convolutional neural network (CNN) and support vector machine (SVM) to detect $CH_4$ emissions from satellite data**"
   ]
  },
  {
   "cell_type": "markdown",
   "id": "7d9e84dc",
   "metadata": {},
   "source": [
    "## Exercise 3.3 Batch jobs and server-side computations using OpenEO (1 pt)\n",
    "\n",
    "So far you have been using openEO for synchronous execution of your requests: you submitted a request and the result came as a direct response to your request. This is not feasible for heavier work. Instead, one should submit the requests as batch jobs. Familiarise yourself with the Batch-job-combine-tasks.ipynb file.\n",
    "\n",
    "Furthermore, instead of downloading large amounts of raw data, one can process the data directly on server side. You can check all available processes by running 'connection.list_processes()'. For more details, see the [EO Cookbook](https://openeo.org/documentation/1.0/cookbook/#temporal-mean-reduce-dimension). Note that they give two alternatives on how to compute the temporal mean and we recommend to use the 'reduce_dimension' function.\n",
    "\n",
    "Task: fix an area of interest and a time period and load the min, max, mean and standard deviation of CH4. Perform this task as a batch job using server-side processes. You should save the output in the JSON format. Note that the output is computed per pixel."
   ]
  },
  {
   "cell_type": "code",
   "execution_count": null,
   "id": "e3c7b445-7916-46b9-b616-5a4c4f761b66",
   "metadata": {
    "tags": []
   },
   "outputs": [],
   "source": [
    "import pathlib\n",
    "import rasterio\n",
    "import matplotlib.pyplot as plt\n",
    "import openeo\n",
    "import pandas as pd\n",
    "import xarray as xr\n",
    "import os\n",
    "import joblib\n",
    "import json"
   ]
  },
  {
   "cell_type": "code",
   "execution_count": null,
   "id": "3ba5b708-20df-41a8-baef-4c8cd3c8c9af",
   "metadata": {
    "tags": []
   },
   "outputs": [],
   "source": [
    "connection = openeo.connect(url=\"openeo.dataspace.copernicus.eu\")\n",
    "connection.authenticate_oidc()"
   ]
  },
  {
   "cell_type": "code",
   "execution_count": null,
   "id": "b29f5768-c276-4cf9-9685-a308cd88df58",
   "metadata": {
    "tags": []
   },
   "outputs": [],
   "source": [
    "# print(connection.list_collections())\n",
    "for collection in connection.list_collections():\n",
    "    print(collection['id'])"
   ]
  },
  {
   "cell_type": "code",
   "execution_count": null,
   "id": "6e97f2ce",
   "metadata": {
    "tags": []
   },
   "outputs": [],
   "source": [
    "# Load the coordinates and labels of the CH4 plumes coming from gas infrastructure, \n",
    "# oil infrastruture and coal mines from [all TROPOMI detected plumes for 2021. (Schuit et al. 2023)]\n",
    "# (https://zenodo.org/records/8087134). \n",
    "download_path = \"coursedata/users/nguyenb5\"\n",
    "\n",
    "CH4_plumes = pd.read_csv(f\"Schuit_etal2023_TROPOMI_all_plume_detections_2021.csv\")\n",
    "\n",
    "# Filter out rows where estimated_source_type is \"unclassified\"\n",
    "CH4_plumes = CH4_plumes[CH4_plumes['estimated_source_type'] != 'Unclassified']\n",
    "\n",
    "# For each plume, compute the spatial extent of an area 1 deg x 1 deg around the plume\n",
    "CH4_plumes['west'] = CH4_plumes['lon'] - 0.5\n",
    "CH4_plumes['east'] = CH4_plumes['lon'] + 0.5\n",
    "CH4_plumes['south'] = CH4_plumes['lat'] - 0.5\n",
    "CH4_plumes['north'] = CH4_plumes['lat'] + 0.5\n",
    "\n",
    "print(\"Number of data points:\", len(CH4_plumes))\n",
    "\n",
    "CH4_plumes.head()"
   ]
  },
  {
   "cell_type": "code",
   "execution_count": null,
   "id": "b5e07681-54ca-458c-bedf-c4cbec0abd3e",
   "metadata": {
    "tags": []
   },
   "outputs": [],
   "source": [
    "# Filter the data for each category and select the first 20 rows\n",
    "gas_plumes = CH4_plumes[CH4_plumes['estimated_source_type'] == 'Gas'].head(20)\n",
    "oil_plumes = CH4_plumes[CH4_plumes['estimated_source_type'] == 'Oil'].head(20)\n",
    "coal_plumes = CH4_plumes[CH4_plumes['estimated_source_type'] == 'Coal'].head(20)\n",
    "# We are exempt to use landfill/urban plumes. Classifying gas, oil and coal are enough\n",
    "landfill_urban_plumes = CH4_plumes[CH4_plumes['estimated_source_type'] == 'Landfill/Urban'].head(20)"
   ]
  },
  {
   "cell_type": "markdown",
   "id": "893572e9-3c73-464f-8434-35d87dc63b78",
   "metadata": {},
   "source": [
    "**1. Define the datacube**"
   ]
  },
  {
   "cell_type": "code",
   "execution_count": null,
   "id": "7b65a40d-7258-46b4-8355-bf89d54eabd3",
   "metadata": {
    "tags": []
   },
   "outputs": [],
   "source": [
    "period=(\"2021-01-01\", \"2021-01-31\")\n",
    "\n",
    "s5_CH4 = connection.load_collection(\n",
    "    \"SENTINEL_5P_L2\",\n",
    "    #spatial_extent=optional_bounding_box_for_all_plume_rectangles,\n",
    "    temporal_extent = period,\n",
    "    bands=[\"CH4\"] #as before, server-side computations for S5 accept only one band at a time\n",
    ")\n",
    "\n",
    "s5_CO = connection.load_collection(\n",
    "    \"SENTINEL_5P_L2\",\n",
    "    #spatial_extent=optional_bounding_box_for_all_plume_rectangles,\n",
    "    temporal_extent = period,\n",
    "    bands=[\"CO\"] #as before, server-side computations for S5 accept only one band at a time\n",
    ")\n",
    "\n",
    "s5_SO2 = connection.load_collection(\n",
    "    \"SENTINEL_5P_L2\",\n",
    "    #spatial_extent=optional_bounding_box_for_all_plume_rectangles,\n",
    "    temporal_extent = period,\n",
    "    bands=[\"SO2\"] #as before, server-side computations for S5 accept only one band at a time\n",
    ")\n",
    "\n",
    "\n",
    "s5_NO2 = connection.load_collection(\n",
    "    \"SENTINEL_5P_L2\",\n",
    "    #spatial_extent=optional_bounding_box_for_all_plume_rectangles,\n",
    "    temporal_extent = period,\n",
    "    bands=[\"NO2\"] #as before, server-side computations for S5 accept only one band at a time\n",
    ")\n",
    "\n",
    "s3_all_bands = connection.load_collection(\n",
    "    \"SENTINEL3_SLSTR\",\n",
    "    #spatial_extent=optional_bounding_box_for_all_plume_rectangles,\n",
    "    temporal_extent = period,\n",
    "    bands=[\"S5\", \"S6\"] #as before, server-side computations for S3 accept only several bands at a time\n",
    ")\n",
    "    "
   ]
  },
  {
   "cell_type": "markdown",
   "id": "2b14cf81-c38e-4b23-bd43-71329a873bb7",
   "metadata": {},
   "source": [
    "**3. Add reducer and initiate the job**"
   ]
  },
  {
   "cell_type": "markdown",
   "id": "375cf2c1-1deb-49a4-8c19-52f06de67d62",
   "metadata": {
    "tags": []
   },
   "source": [
    "### Divide and conquer between 5 accounts\n",
    "### Each account can run 2 concurrent jobs"
   ]
  },
  {
   "cell_type": "markdown",
   "id": "98781a0c-4ed5-4316-97f6-25488595ea17",
   "metadata": {},
   "source": [
    "#### Account 4: Cube s3_all_bands"
   ]
  },
  {
   "cell_type": "code",
   "execution_count": null,
   "id": "c604efbb-6cfa-4608-aa5e-9644686c2e40",
   "metadata": {
    "tags": []
   },
   "outputs": [],
   "source": [
    "datacube_name = \"s3_all_bands\"\n",
    "datacube = s3_all_bands\n",
    "plume_type = \"gas\"\n",
    "\n",
    "print(f\"Starting aggregating {datacube_name}_{plume_type}.json\")\n",
    "\n",
    "with open(f\"{download_path}/assignment3_Task4/{plume_type}_geojson.json\", 'r') as file:\n",
    "    plumetype_geojson = json.load(file)\n",
    "    \n",
    "aggregation = datacube.aggregate_spatial(\n",
    "    geometries=plumetype_geojson,\n",
    "    reducer=\"mean\",\n",
    ")\n",
    "aggregation = aggregation.save_result(format=\"JSON\")\n",
    "job=aggregation.create_job(title=\"aggregation\")\n",
    "job.start_and_wait()\n",
    "results = job.get_results()\n",
    "results.download_file(f\"{download_path}/assignment3_Task4/{datacube_name}_{plume_type}.json\")\n",
    "print(f\"Finish aggregating {datacube_name}_{plume_type}.json\")"
   ]
  },
  {
   "cell_type": "code",
   "execution_count": null,
   "id": "62eb10c7",
   "metadata": {},
   "outputs": [],
   "source": [
    "datacube_name = \"s3_all_bands\"\n",
    "datacube = s3_all_bands\n",
    "plume_type = \"coal\"\n",
    "\n",
    "print(f\"Starting aggregating {datacube_name}_{plume_type}.json\")\n",
    "\n",
    "with open(f\"{download_path}/assignment3_Task4/{plume_type}_geojson.json\", 'r') as file:\n",
    "    plumetype_geojson = json.load(file)\n",
    "    \n",
    "aggregation = datacube.aggregate_spatial(\n",
    "    geometries=plumetype_geojson,\n",
    "    reducer=\"mean\",\n",
    ")\n",
    "aggregation = aggregation.save_result(format=\"JSON\")\n",
    "job=aggregation.create_job(title=\"aggregation\")\n",
    "job.start_and_wait()\n",
    "results = job.get_results()\n",
    "results.download_file(f\"{download_path}/assignment3_Task4/{datacube_name}_{plume_type}.json\")\n",
    "print(f\"Finish aggregating {datacube_name}_{plume_type}.json\")"
   ]
  },
  {
   "cell_type": "code",
   "execution_count": null,
   "id": "b6451596",
   "metadata": {},
   "outputs": [],
   "source": [
    "datacube_name = \"s3_all_bands\"\n",
    "datacube = s3_all_bands\n",
    "plume_type = \"oil\"\n",
    "\n",
    "print(f\"Starting aggregating {datacube_name}_{plume_type}.json\")\n",
    "\n",
    "with open(f\"{download_path}/assignment3_Task4/{plume_type}_geojson.json\", 'r') as file:\n",
    "    plumetype_geojson = json.load(file)\n",
    "    \n",
    "aggregation = datacube.aggregate_spatial(\n",
    "    geometries=plumetype_geojson,\n",
    "    reducer=\"mean\",\n",
    ")\n",
    "aggregation = aggregation.save_result(format=\"JSON\")\n",
    "job=aggregation.create_job(title=\"aggregation\")\n",
    "job.start_and_wait()\n",
    "results = job.get_results()\n",
    "results.download_file(f\"{download_path}/assignment3_Task4/{datacube_name}_{plume_type}.json\")\n",
    "print(f\"Finish aggregating {datacube_name}_{plume_type}.json\")"
   ]
  }
 ],
 "metadata": {
  "kernelspec": {
   "display_name": "Python 3",
   "language": "python",
   "name": "python3"
  },
  "language_info": {
   "codemirror_mode": {
    "name": "ipython",
    "version": 3
   },
   "file_extension": ".py",
   "mimetype": "text/x-python",
   "name": "python",
   "nbconvert_exporter": "python",
   "pygments_lexer": "ipython3",
   "version": "3.12.2"
  }
 },
 "nbformat": 4,
 "nbformat_minor": 5
}
