{
 "cells": [
  {
   "cell_type": "markdown",
   "id": "f6025b5d-0d19-4331-b242-adec33e939e4",
   "metadata": {
    "tags": []
   },
   "source": [
    "# **Exercise session 3: Convolutional neural network (CNN) and support vector machine (SVM) to detect $CH_4$ emissions from satellite data**"
   ]
  },
  {
   "cell_type": "markdown",
   "id": "7d9e84dc",
   "metadata": {
    "tags": []
   },
   "source": [
    "## Exercise 3.3 Batch jobs and server-side computations using OpenEO (1 pt)\n",
    "\n",
    "So far you have been using openEO for synchronous execution of your requests: you submitted a request and the result came as a direct response to your request. This is not feasible for heavier work. Instead, one should submit the requests as batch jobs. Familiarise yourself with the Batch-job-combine-tasks.ipynb file.\n",
    "\n",
    "Furthermore, instead of downloading large amounts of raw data, one can process the data directly on server side. You can check all available processes by running 'connection.list_processes()'. For more details, see the [EO Cookbook](https://openeo.org/documentation/1.0/cookbook/#temporal-mean-reduce-dimension). Note that they give two alternatives on how to compute the temporal mean and we recommend to use the 'reduce_dimension' function.\n",
    "\n",
    "Task: fix an area of interest and a time period and load the min, max, mean and standard deviation of CH4. Perform this task as a batch job using server-side processes. You should save the output in the JSON format. Note that the output is computed per pixel."
   ]
  },
  {
   "cell_type": "code",
   "execution_count": 1,
   "id": "e3c7b445-7916-46b9-b616-5a4c4f761b66",
   "metadata": {
    "tags": []
   },
   "outputs": [],
   "source": [
    "import pathlib\n",
    "import rasterio\n",
    "import matplotlib.pyplot as plt\n",
    "import openeo\n",
    "import pandas as pd\n",
    "import xarray as xr\n",
    "import os\n",
    "import joblib\n",
    "import json"
   ]
  },
  {
   "cell_type": "code",
   "execution_count": 2,
   "id": "3ba5b708-20df-41a8-baef-4c8cd3c8c9af",
   "metadata": {
    "tags": []
   },
   "outputs": [
    {
     "data": {
      "text/html": [
       "Visit <a href=\"https://identity.dataspace.copernicus.eu/auth/realms/CDSE/device?user_code=CUTU-MTTF\" title=\"Authenticate at https://identity.dataspace.copernicus.eu/auth/realms/CDSE/device?user_code=CUTU-MTTF\" target=\"_blank\" rel=\"noopener noreferrer\">https://identity.dataspace.copernicus.eu/auth/realms/CDSE/device?user_code=CUTU-MTTF</a> <a href=\"#\" onclick=\"navigator.clipboard.writeText('https://identity.dataspace.copernicus.eu/auth/realms/CDSE/device?user_code=CUTU-MTTF');return false;\" title=\"Copy authentication URL to clipboard\">&#128203;</a> to authenticate."
      ]
     },
     "metadata": {},
     "output_type": "display_data"
    },
    {
     "data": {
      "text/html": [
       "<code>[####################################-]</code> ✅ Authorized successfully"
      ]
     },
     "metadata": {},
     "output_type": "display_data"
    },
    {
     "data": {
      "text/plain": [
       "<Connection to 'https://openeo.dataspace.copernicus.eu/openeo/1.2/' with OidcBearerAuth>"
      ]
     },
     "execution_count": 2,
     "metadata": {},
     "output_type": "execute_result"
    }
   ],
   "source": [
    "connection = openeo.connect(url=\"openeo.dataspace.copernicus.eu\")\n",
    "connection.authenticate_oidc_device()"
   ]
  },
  {
   "cell_type": "code",
   "execution_count": 3,
   "id": "b29f5768-c276-4cf9-9685-a308cd88df58",
   "metadata": {
    "tags": []
   },
   "outputs": [
    {
     "name": "stdout",
     "output_type": "stream",
     "text": [
      "SENTINEL3_OLCI_L1B\n",
      "SENTINEL3_SLSTR\n",
      "SENTINEL_5P_L2\n",
      "SENTINEL2_L1C\n",
      "SENTINEL2_L2A\n",
      "SENTINEL1_GRD\n",
      "COPERNICUS_30\n",
      "LANDSAT8_L2\n"
     ]
    }
   ],
   "source": [
    "# print(connection.list_collections())\n",
    "for collection in connection.list_collections():\n",
    "    print(collection['id'])"
   ]
  },
  {
   "cell_type": "code",
   "execution_count": 4,
   "id": "6e97f2ce",
   "metadata": {
    "tags": []
   },
   "outputs": [
    {
     "name": "stdout",
     "output_type": "stream",
     "text": [
      "Number of data points: 2944\n"
     ]
    },
    {
     "data": {
      "text/html": [
       "<div>\n",
       "<style scoped>\n",
       "    .dataframe tbody tr th:only-of-type {\n",
       "        vertical-align: middle;\n",
       "    }\n",
       "\n",
       "    .dataframe tbody tr th {\n",
       "        vertical-align: top;\n",
       "    }\n",
       "\n",
       "    .dataframe thead th {\n",
       "        text-align: right;\n",
       "    }\n",
       "</style>\n",
       "<table border=\"1\" class=\"dataframe\">\n",
       "  <thead>\n",
       "    <tr style=\"text-align: right;\">\n",
       "      <th></th>\n",
       "      <th>date</th>\n",
       "      <th>time_UTC</th>\n",
       "      <th>lat</th>\n",
       "      <th>lon</th>\n",
       "      <th>source_rate_t/h</th>\n",
       "      <th>uncertainty_t/h</th>\n",
       "      <th>estimated_source_type</th>\n",
       "      <th>west</th>\n",
       "      <th>east</th>\n",
       "      <th>south</th>\n",
       "      <th>north</th>\n",
       "    </tr>\n",
       "  </thead>\n",
       "  <tbody>\n",
       "    <tr>\n",
       "      <th>0</th>\n",
       "      <td>20210101</td>\n",
       "      <td>06:00:45</td>\n",
       "      <td>36.75</td>\n",
       "      <td>109.76</td>\n",
       "      <td>32</td>\n",
       "      <td>16</td>\n",
       "      <td>Coal</td>\n",
       "      <td>109.26</td>\n",
       "      <td>110.26</td>\n",
       "      <td>36.25</td>\n",
       "      <td>37.25</td>\n",
       "    </tr>\n",
       "    <tr>\n",
       "      <th>1</th>\n",
       "      <td>20210101</td>\n",
       "      <td>06:00:55</td>\n",
       "      <td>37.53</td>\n",
       "      <td>110.75</td>\n",
       "      <td>39</td>\n",
       "      <td>22</td>\n",
       "      <td>Coal</td>\n",
       "      <td>110.25</td>\n",
       "      <td>111.25</td>\n",
       "      <td>37.03</td>\n",
       "      <td>38.03</td>\n",
       "    </tr>\n",
       "    <tr>\n",
       "      <th>2</th>\n",
       "      <td>20210101</td>\n",
       "      <td>07:37:49</td>\n",
       "      <td>20.89</td>\n",
       "      <td>85.22</td>\n",
       "      <td>4</td>\n",
       "      <td>2</td>\n",
       "      <td>Coal</td>\n",
       "      <td>84.72</td>\n",
       "      <td>85.72</td>\n",
       "      <td>20.39</td>\n",
       "      <td>21.39</td>\n",
       "    </tr>\n",
       "    <tr>\n",
       "      <th>3</th>\n",
       "      <td>20210101</td>\n",
       "      <td>07:38:15</td>\n",
       "      <td>23.30</td>\n",
       "      <td>90.79</td>\n",
       "      <td>51</td>\n",
       "      <td>15</td>\n",
       "      <td>Landfill/Urban</td>\n",
       "      <td>90.29</td>\n",
       "      <td>91.29</td>\n",
       "      <td>22.80</td>\n",
       "      <td>23.80</td>\n",
       "    </tr>\n",
       "    <tr>\n",
       "      <th>4</th>\n",
       "      <td>20210101</td>\n",
       "      <td>07:38:27</td>\n",
       "      <td>23.56</td>\n",
       "      <td>86.44</td>\n",
       "      <td>25</td>\n",
       "      <td>12</td>\n",
       "      <td>Coal</td>\n",
       "      <td>85.94</td>\n",
       "      <td>86.94</td>\n",
       "      <td>23.06</td>\n",
       "      <td>24.06</td>\n",
       "    </tr>\n",
       "  </tbody>\n",
       "</table>\n",
       "</div>"
      ],
      "text/plain": [
       "       date  time_UTC    lat     lon  source_rate_t/h  uncertainty_t/h  \\\n",
       "0  20210101  06:00:45  36.75  109.76               32               16   \n",
       "1  20210101  06:00:55  37.53  110.75               39               22   \n",
       "2  20210101  07:37:49  20.89   85.22                4                2   \n",
       "3  20210101  07:38:15  23.30   90.79               51               15   \n",
       "4  20210101  07:38:27  23.56   86.44               25               12   \n",
       "\n",
       "  estimated_source_type    west    east  south  north  \n",
       "0                  Coal  109.26  110.26  36.25  37.25  \n",
       "1                  Coal  110.25  111.25  37.03  38.03  \n",
       "2                  Coal   84.72   85.72  20.39  21.39  \n",
       "3        Landfill/Urban   90.29   91.29  22.80  23.80  \n",
       "4                  Coal   85.94   86.94  23.06  24.06  "
      ]
     },
     "execution_count": 4,
     "metadata": {},
     "output_type": "execute_result"
    }
   ],
   "source": [
    "# Load the coordinates and labels of the CH4 plumes coming from gas infrastructure, \n",
    "# oil infrastruture and coal mines from [all TROPOMI detected plumes for 2021. (Schuit et al. 2023)]\n",
    "# (https://zenodo.org/records/8087134). \n",
    "download_path = \"/coursedata/users/nguyenb5\"\n",
    "\n",
    "CH4_plumes = pd.read_csv(f\"{download_path}/assignment3_Task4/Schuit_etal2023_TROPOMI_all_plume_detections_2021.csv\")\n",
    "\n",
    "# Filter out rows where estimated_source_type is \"unclassified\"\n",
    "CH4_plumes = CH4_plumes[CH4_plumes['estimated_source_type'] != 'Unclassified']\n",
    "\n",
    "# For each plume, compute the spatial extent of an area 1 deg x 1 deg around the plume\n",
    "CH4_plumes['west'] = CH4_plumes['lon'] - 0.5\n",
    "CH4_plumes['east'] = CH4_plumes['lon'] + 0.5\n",
    "CH4_plumes['south'] = CH4_plumes['lat'] - 0.5\n",
    "CH4_plumes['north'] = CH4_plumes['lat'] + 0.5\n",
    "\n",
    "print(\"Number of data points:\", len(CH4_plumes))\n",
    "\n",
    "CH4_plumes.head()"
   ]
  },
  {
   "cell_type": "markdown",
   "id": "893572e9-3c73-464f-8434-35d87dc63b78",
   "metadata": {},
   "source": [
    "**1. Define the datacube**"
   ]
  },
  {
   "cell_type": "code",
   "execution_count": 5,
   "id": "7b65a40d-7258-46b4-8355-bf89d54eabd3",
   "metadata": {
    "tags": []
   },
   "outputs": [],
   "source": [
    "period=(\"2021-01-01\", \"2021-01-31\")\n",
    "\n",
    "s5_CH4 = connection.load_collection(\n",
    "    \"SENTINEL_5P_L2\",\n",
    "    #spatial_extent=optional_bounding_box_for_all_plume_rectangles,\n",
    "    temporal_extent = period,\n",
    "    bands=[\"CH4\"] #as before, server-side computations for S5 accept only one band at a time\n",
    ")\n",
    "\n",
    "s5_CO = connection.load_collection(\n",
    "    \"SENTINEL_5P_L2\",\n",
    "    #spatial_extent=optional_bounding_box_for_all_plume_rectangles,\n",
    "    temporal_extent = period,\n",
    "    bands=[\"CO\"] #as before, server-side computations for S5 accept only one band at a time\n",
    ")\n",
    "\n",
    "s5_SO2 = connection.load_collection(\n",
    "    \"SENTINEL_5P_L2\",\n",
    "    #spatial_extent=optional_bounding_box_for_all_plume_rectangles,\n",
    "    temporal_extent = period,\n",
    "    bands=[\"SO2\"] #as before, server-side computations for S5 accept only one band at a time\n",
    ")\n",
    "\n",
    "\n",
    "s5_NO2 = connection.load_collection(\n",
    "    \"SENTINEL_5P_L2\",\n",
    "    #spatial_extent=optional_bounding_box_for_all_plume_rectangles,\n",
    "    temporal_extent = period,\n",
    "    bands=[\"NO2\"] #as before, server-side computations for S5 accept only one band at a time\n",
    ")\n",
    "\n",
    "s3_all_bands = connection.load_collection(\n",
    "    \"SENTINEL3_SLSTR\",\n",
    "    #spatial_extent=optional_bounding_box_for_all_plume_rectangles,\n",
    "    temporal_extent = period,\n",
    "    bands=[\"S5\", \"S6\"] #as before, server-side computations for S3 accept only several bands at a time\n",
    ")\n",
    "    "
   ]
  },
  {
   "cell_type": "markdown",
   "id": "2b14cf81-c38e-4b23-bd43-71329a873bb7",
   "metadata": {},
   "source": [
    "**3. Add reducer and initiate the job**"
   ]
  },
  {
   "cell_type": "markdown",
   "id": "375cf2c1-1deb-49a4-8c19-52f06de67d62",
   "metadata": {
    "tags": []
   },
   "source": [
    "### Divide and conquer between 5 accounts\n",
    "### Each account can run 2 concurrent jobs"
   ]
  },
  {
   "cell_type": "code",
   "execution_count": 6,
   "id": "e7bc7fae-4f98-4665-a928-bc46de3ad01b",
   "metadata": {
    "tags": []
   },
   "outputs": [
    {
     "data": {
      "text/html": [
       "\n",
       "    <script>\n",
       "    if (!window.customElements || !window.customElements.get('openeo-data-table')) {\n",
       "        var el = document.createElement('script');\n",
       "        el.src = \"https://cdn.jsdelivr.net/npm/@openeo/vue-components@2/assets/openeo.min.js\";\n",
       "        document.head.appendChild(el);\n",
       "\n",
       "        var font = document.createElement('font');\n",
       "        font.as = \"font\";\n",
       "        font.type = \"font/woff2\";\n",
       "        font.crossOrigin = true;\n",
       "        font.href = \"https://use.fontawesome.com/releases/v5.13.0/webfonts/fa-solid-900.woff2\"\n",
       "        document.head.appendChild(font);\n",
       "    }\n",
       "    </script>\n",
       "    <openeo-data-table>\n",
       "        <script type=\"application/json\">{\"columns\": {\"id\": {\"name\": \"ID\", \"primaryKey\": true}, \"title\": {\"name\": \"Title\"}, \"status\": {\"name\": \"Status\"}, \"created\": {\"name\": \"Submitted\", \"format\": \"Timestamp\", \"sort\": \"desc\"}, \"updated\": {\"name\": \"Last update\", \"format\": \"Timestamp\"}}, \"data\": [{\"costs\": 216.0, \"created\": \"2024-02-13T13:35:26Z\", \"id\": \"j-2402139f772a422486eb37089ba1e71a\", \"status\": \"finished\", \"title\": \"aggregation\", \"updated\": \"2024-02-13T14:02:24Z\"}, {\"costs\": 161.0, \"created\": \"2024-02-13T13:35:14Z\", \"id\": \"j-240213618d3f4eea9a2712e132ae91ad\", \"status\": \"finished\", \"title\": \"aggregation\", \"updated\": \"2024-02-13T14:00:01Z\"}, {\"costs\": 39.0, \"created\": \"2024-02-13T13:24:28Z\", \"id\": \"j-240213406436400ab2ef3f7536661a96\", \"status\": \"finished\", \"title\": \"aggregation\", \"updated\": \"2024-02-13T13:33:15Z\"}, {\"costs\": 35.0, \"created\": \"2024-02-13T13:24:44Z\", \"id\": \"j-2402130921fc44acbf4f1610f89769ab\", \"status\": \"finished\", \"title\": \"aggregation\", \"updated\": \"2024-02-13T13:33:19Z\"}]}</script>\n",
       "    </openeo-data-table>\n",
       "    "
      ],
      "text/plain": [
       "[{'costs': 216.0,\n",
       "  'created': '2024-02-13T13:35:26Z',\n",
       "  'id': 'j-2402139f772a422486eb37089ba1e71a',\n",
       "  'status': 'finished',\n",
       "  'title': 'aggregation',\n",
       "  'updated': '2024-02-13T14:02:24Z'},\n",
       " {'costs': 161.0,\n",
       "  'created': '2024-02-13T13:35:14Z',\n",
       "  'id': 'j-240213618d3f4eea9a2712e132ae91ad',\n",
       "  'status': 'finished',\n",
       "  'title': 'aggregation',\n",
       "  'updated': '2024-02-13T14:00:01Z'},\n",
       " {'costs': 39.0,\n",
       "  'created': '2024-02-13T13:24:28Z',\n",
       "  'id': 'j-240213406436400ab2ef3f7536661a96',\n",
       "  'status': 'finished',\n",
       "  'title': 'aggregation',\n",
       "  'updated': '2024-02-13T13:33:15Z'},\n",
       " {'costs': 35.0,\n",
       "  'created': '2024-02-13T13:24:44Z',\n",
       "  'id': 'j-2402130921fc44acbf4f1610f89769ab',\n",
       "  'status': 'finished',\n",
       "  'title': 'aggregation',\n",
       "  'updated': '2024-02-13T13:33:19Z'}]"
      ]
     },
     "execution_count": 6,
     "metadata": {},
     "output_type": "execute_result"
    }
   ],
   "source": [
    "connection.list_jobs()\n",
    "# You can manually edit and delete jobs by this link \n",
    "# https://editor.openeo.org/?server=openeo.dataspace.copernicus.eu"
   ]
  },
  {
   "cell_type": "markdown",
   "id": "98781a0c-4ed5-4316-97f6-25488595ea17",
   "metadata": {},
   "source": [
    "#### Account 5: Cube s3_all_bands"
   ]
  },
  {
   "cell_type": "code",
   "execution_count": null,
   "id": "c604efbb-6cfa-4608-aa5e-9644686c2e40",
   "metadata": {
    "tags": []
   },
   "outputs": [],
   "source": [
    "datacube_name = \"s3_all_bands\"\n",
    "datacube = s3_all_bands\n",
    "plume_type = \"gas\"\n",
    "\n",
    "print(f\"Starting aggregating {datacube_name}_{plume_type}.json\")\n",
    "\n",
    "with open(f\"{download_path}/assignment3_Task4/{plume_type}_geojson.json\", 'r') as file:\n",
    "    plumetype_geojson = json.load(file)\n",
    "\n",
    "aggregation = datacube.aggregate_spatial(\n",
    "    geometries=plumetype_geojson,\n",
    "    reducer=\"mean\",\n",
    ")\n",
    "aggregation = aggregation.save_result(format=\"JSON\")\n",
    "job=aggregation.create_job(title=\"aggregation\")\n",
    "job.start_and_wait()\n",
    "results = job.get_results()\n",
    "results.download_file(f\"{download_path}/assignment3_Task4/{datacube_name}_{plume_type}.json\")\n",
    "print(f\"Finish aggregating {datacube_name}_{plume_type}.json\")"
   ]
  },
  {
   "cell_type": "code",
   "execution_count": null,
   "id": "62eb10c7",
   "metadata": {},
   "outputs": [],
   "source": [
    "datacube_name = \"s3_all_bands\"\n",
    "datacube = s3_all_bands\n",
    "plume_type = \"coal\"\n",
    "\n",
    "print(f\"Starting aggregating {datacube_name}_{plume_type}.json\")\n",
    "\n",
    "with open(f\"{download_path}/assignment3_Task4/{plume_type}_geojson.json\", 'r') as file:\n",
    "    plumetype_geojson = json.load(file)\n",
    "    \n",
    "aggregation = datacube.aggregate_spatial(\n",
    "    geometries=plumetype_geojson,\n",
    "    reducer=\"mean\",\n",
    ")\n",
    "aggregation = aggregation.save_result(format=\"JSON\")\n",
    "job=aggregation.create_job(title=\"aggregation\")\n",
    "job.start_and_wait()\n",
    "results = job.get_results()\n",
    "results.download_file(f\"{download_path}/assignment3_Task4/{datacube_name}_{plume_type}.json\")\n",
    "print(f\"Finish aggregating {datacube_name}_{plume_type}.json\")"
   ]
  },
  {
   "cell_type": "code",
   "execution_count": 7,
   "id": "b6451596",
   "metadata": {},
   "outputs": [
    {
     "name": "stdout",
     "output_type": "stream",
     "text": [
      "Starting aggregating s3_all_bands_oil.json\n",
      "Number of area of interests for oil_geojson.json: 200\n",
      "0:00:00 Job 'j-2402138ea4b5462c9ee02d796fef8824': send 'start'\n",
      "0:00:16 Job 'j-2402138ea4b5462c9ee02d796fef8824': created (progress N/A)\n",
      "0:00:21 Job 'j-2402138ea4b5462c9ee02d796fef8824': created (progress N/A)\n",
      "0:00:28 Job 'j-2402138ea4b5462c9ee02d796fef8824': created (progress N/A)\n",
      "0:00:37 Job 'j-2402138ea4b5462c9ee02d796fef8824': running (progress N/A)\n",
      "0:00:51 Job 'j-2402138ea4b5462c9ee02d796fef8824': running (progress N/A)\n",
      "0:01:04 Job 'j-2402138ea4b5462c9ee02d796fef8824': running (progress N/A)\n",
      "0:01:20 Job 'j-2402138ea4b5462c9ee02d796fef8824': running (progress N/A)\n",
      "0:01:39 Job 'j-2402138ea4b5462c9ee02d796fef8824': running (progress N/A)\n",
      "0:02:06 Job 'j-2402138ea4b5462c9ee02d796fef8824': running (progress N/A)\n",
      "0:02:36 Job 'j-2402138ea4b5462c9ee02d796fef8824': running (progress N/A)\n",
      "0:03:14 Job 'j-2402138ea4b5462c9ee02d796fef8824': running (progress N/A)\n",
      "0:04:01 Job 'j-2402138ea4b5462c9ee02d796fef8824': running (progress N/A)\n",
      "0:05:02 Job 'j-2402138ea4b5462c9ee02d796fef8824': running (progress N/A)\n",
      "0:06:04 Job 'j-2402138ea4b5462c9ee02d796fef8824': running (progress N/A)\n",
      "0:07:32 Job 'j-2402138ea4b5462c9ee02d796fef8824': running (progress N/A)\n",
      "0:08:33 Job 'j-2402138ea4b5462c9ee02d796fef8824': running (progress N/A)\n",
      "0:09:34 Job 'j-2402138ea4b5462c9ee02d796fef8824': running (progress N/A)\n",
      "0:10:35 Job 'j-2402138ea4b5462c9ee02d796fef8824': running (progress N/A)\n",
      "0:11:40 Job 'j-2402138ea4b5462c9ee02d796fef8824': finished (progress N/A)\n",
      "Finish aggregating s3_all_bands_oil.json\n"
     ]
    }
   ],
   "source": [
    "datacube_name = \"s3_all_bands\"\n",
    "datacube = s3_all_bands\n",
    "plume_type = \"oil\"\n",
    "\n",
    "print(f\"Starting aggregating {datacube_name}_{plume_type}.json\")\n",
    "\n",
    "with open(f\"{download_path}/assignment3_Task4/{plume_type}_geojson.json\", 'r') as file:\n",
    "    plumetype_geojson = json.load(file)\n",
    "\n",
    "print(f\"Number of area of interests for {plume_type}_geojson.json: {len(plumetype_geojson['features'])}\")\n",
    "\n",
    "aggregation = datacube.aggregate_spatial(\n",
    "    geometries=plumetype_geojson,\n",
    "    reducer=\"mean\",\n",
    ")\n",
    "aggregation = aggregation.save_result(format=\"JSON\")\n",
    "job=aggregation.create_job(title=\"aggregation\")\n",
    "job.start_and_wait()\n",
    "results = job.get_results()\n",
    "results.download_file(f\"{download_path}/assignment3_Task4/{datacube_name}_{plume_type}.json\")\n",
    "print(f\"Finish aggregating {datacube_name}_{plume_type}.json\")"
   ]
  }
 ],
 "metadata": {
  "kernelspec": {
   "display_name": "Python 3",
   "language": "python",
   "name": "python3"
  },
  "language_info": {
   "codemirror_mode": {
    "name": "ipython",
    "version": 3
   },
   "file_extension": ".py",
   "mimetype": "text/x-python",
   "name": "python",
   "nbconvert_exporter": "python",
   "pygments_lexer": "ipython3",
   "version": "3.10.12"
  }
 },
 "nbformat": 4,
 "nbformat_minor": 5
}
