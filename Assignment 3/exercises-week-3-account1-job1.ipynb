{
 "cells": [
  {
   "cell_type": "markdown",
   "id": "f6025b5d-0d19-4331-b242-adec33e939e4",
   "metadata": {
    "tags": []
   },
   "source": [
    "# **Exercise session 3: Convolutional neural network (CNN) and support vector machine (SVM) to detect $CH_4$ emissions from satellite data**"
   ]
  },
  {
   "cell_type": "markdown",
   "id": "7d9e84dc",
   "metadata": {},
   "source": [
    "## Exercise 3.3 Batch jobs and server-side computations using OpenEO (1 pt)\n",
    "\n",
    "So far you have been using openEO for synchronous execution of your requests: you submitted a request and the result came as a direct response to your request. This is not feasible for heavier work. Instead, one should submit the requests as batch jobs. Familiarise yourself with the Batch-job-combine-tasks.ipynb file.\n",
    "\n",
    "Furthermore, instead of downloading large amounts of raw data, one can process the data directly on server side. You can check all available processes by running 'connection.list_processes()'. For more details, see the [EO Cookbook](https://openeo.org/documentation/1.0/cookbook/#temporal-mean-reduce-dimension). Note that they give two alternatives on how to compute the temporal mean and we recommend to use the 'reduce_dimension' function.\n",
    "\n",
    "Task: fix an area of interest and a time period and load the min, max, mean and standard deviation of CH4. Perform this task as a batch job using server-side processes. You should save the output in the JSON format. Note that the output is computed per pixel."
   ]
  },
  {
   "cell_type": "code",
   "execution_count": 2,
   "id": "e3c7b445-7916-46b9-b616-5a4c4f761b66",
   "metadata": {
    "tags": []
   },
   "outputs": [],
   "source": [
    "import pathlib\n",
    "import rasterio\n",
    "import matplotlib.pyplot as plt\n",
    "import openeo\n",
    "import pandas as pd\n",
    "import xarray as xr\n",
    "import os\n",
    "import joblib\n",
    "import json"
   ]
  },
  {
   "cell_type": "code",
   "execution_count": 15,
   "id": "3ba5b708-20df-41a8-baef-4c8cd3c8c9af",
   "metadata": {
    "tags": []
   },
   "outputs": [
    {
     "data": {
      "text/html": [
       "Visit <a href=\"https://identity.dataspace.copernicus.eu/auth/realms/CDSE/device?user_code=PFLC-BKHT\" title=\"Authenticate at https://identity.dataspace.copernicus.eu/auth/realms/CDSE/device?user_code=PFLC-BKHT\" target=\"_blank\" rel=\"noopener noreferrer\">https://identity.dataspace.copernicus.eu/auth/realms/CDSE/device?user_code=PFLC-BKHT</a> <a href=\"#\" onclick=\"navigator.clipboard.writeText('https://identity.dataspace.copernicus.eu/auth/realms/CDSE/device?user_code=PFLC-BKHT');return false;\" title=\"Copy authentication URL to clipboard\">&#128203;</a> to authenticate."
      ]
     },
     "metadata": {},
     "output_type": "display_data"
    },
    {
     "data": {
      "text/html": [
       "<code>[-------------------------------------]</code> ❌ Timed out"
      ]
     },
     "metadata": {},
     "output_type": "display_data"
    },
    {
     "ename": "OidcDeviceCodePollTimeout",
     "evalue": "Timeout (300.0s) while polling for access token.",
     "output_type": "error",
     "traceback": [
      "\u001b[1;31m---------------------------------------------------------------------------\u001b[0m",
      "\u001b[1;31mOidcDeviceCodePollTimeout\u001b[0m                 Traceback (most recent call last)",
      "Cell \u001b[1;32mIn[15], line 2\u001b[0m\n\u001b[0;32m      1\u001b[0m connection \u001b[38;5;241m=\u001b[39m openeo\u001b[38;5;241m.\u001b[39mconnect(url\u001b[38;5;241m=\u001b[39m\u001b[38;5;124m\"\u001b[39m\u001b[38;5;124mopeneo.dataspace.copernicus.eu\u001b[39m\u001b[38;5;124m\"\u001b[39m)\n\u001b[1;32m----> 2\u001b[0m \u001b[43mconnection\u001b[49m\u001b[38;5;241;43m.\u001b[39;49m\u001b[43mauthenticate_oidc_device\u001b[49m\u001b[43m(\u001b[49m\u001b[43m)\u001b[49m\n",
      "File \u001b[1;32mc:\\Users\\springnuance\\AppData\\Local\\Programs\\Python\\Python312\\Lib\\site-packages\\openeo\\rest\\connection.py:658\u001b[0m, in \u001b[0;36mConnection.authenticate_oidc_device\u001b[1;34m(self, client_id, client_secret, provider_id, store_refresh_token, use_pkce, max_poll_time, **kwargs)\u001b[0m\n\u001b[0;32m    651\u001b[0m provider_id, client_info \u001b[38;5;241m=\u001b[39m \u001b[38;5;28mself\u001b[39m\u001b[38;5;241m.\u001b[39m_get_oidc_provider_and_client_info(\n\u001b[0;32m    652\u001b[0m     provider_id\u001b[38;5;241m=\u001b[39mprovider_id, client_id\u001b[38;5;241m=\u001b[39mclient_id, client_secret\u001b[38;5;241m=\u001b[39mclient_secret,\n\u001b[0;32m    653\u001b[0m     default_client_grant_check\u001b[38;5;241m=\u001b[39m(\u001b[38;5;28;01mlambda\u001b[39;00m grants: _g\u001b[38;5;241m.\u001b[39mDEVICE_CODE \u001b[38;5;129;01min\u001b[39;00m grants \u001b[38;5;129;01mor\u001b[39;00m _g\u001b[38;5;241m.\u001b[39mDEVICE_CODE_PKCE \u001b[38;5;129;01min\u001b[39;00m grants),\n\u001b[0;32m    654\u001b[0m )\n\u001b[0;32m    655\u001b[0m authenticator \u001b[38;5;241m=\u001b[39m OidcDeviceAuthenticator(\n\u001b[0;32m    656\u001b[0m     client_info\u001b[38;5;241m=\u001b[39mclient_info, use_pkce\u001b[38;5;241m=\u001b[39muse_pkce, max_poll_time\u001b[38;5;241m=\u001b[39mmax_poll_time, \u001b[38;5;241m*\u001b[39m\u001b[38;5;241m*\u001b[39mkwargs\n\u001b[0;32m    657\u001b[0m )\n\u001b[1;32m--> 658\u001b[0m \u001b[38;5;28;01mreturn\u001b[39;00m \u001b[38;5;28;43mself\u001b[39;49m\u001b[38;5;241;43m.\u001b[39;49m\u001b[43m_authenticate_oidc\u001b[49m\u001b[43m(\u001b[49m\u001b[43mauthenticator\u001b[49m\u001b[43m,\u001b[49m\u001b[43m \u001b[49m\u001b[43mprovider_id\u001b[49m\u001b[38;5;241;43m=\u001b[39;49m\u001b[43mprovider_id\u001b[49m\u001b[43m,\u001b[49m\u001b[43m \u001b[49m\u001b[43mstore_refresh_token\u001b[49m\u001b[38;5;241;43m=\u001b[39;49m\u001b[43mstore_refresh_token\u001b[49m\u001b[43m)\u001b[49m\n",
      "File \u001b[1;32mc:\\Users\\springnuance\\AppData\\Local\\Programs\\Python\\Python312\\Lib\\site-packages\\openeo\\rest\\connection.py:472\u001b[0m, in \u001b[0;36mConnection._authenticate_oidc\u001b[1;34m(self, authenticator, provider_id, store_refresh_token, fallback_refresh_token_to_store, oidc_auth_renewer)\u001b[0m\n\u001b[0;32m    460\u001b[0m \u001b[38;5;28;01mdef\u001b[39;00m \u001b[38;5;21m_authenticate_oidc\u001b[39m(\n\u001b[0;32m    461\u001b[0m     \u001b[38;5;28mself\u001b[39m,\n\u001b[0;32m    462\u001b[0m     authenticator: OidcAuthenticator,\n\u001b[1;32m   (...)\u001b[0m\n\u001b[0;32m    467\u001b[0m     oidc_auth_renewer: Optional[OidcAuthenticator] \u001b[38;5;241m=\u001b[39m \u001b[38;5;28;01mNone\u001b[39;00m,\n\u001b[0;32m    468\u001b[0m ) \u001b[38;5;241m-\u001b[39m\u001b[38;5;241m>\u001b[39m Connection:\n\u001b[0;32m    469\u001b[0m \u001b[38;5;250m    \u001b[39m\u001b[38;5;124;03m\"\"\"\u001b[39;00m\n\u001b[0;32m    470\u001b[0m \u001b[38;5;124;03m    Authenticate through OIDC and set up bearer token (based on OIDC access_token) for further requests.\u001b[39;00m\n\u001b[0;32m    471\u001b[0m \u001b[38;5;124;03m    \"\"\"\u001b[39;00m\n\u001b[1;32m--> 472\u001b[0m     tokens \u001b[38;5;241m=\u001b[39m \u001b[43mauthenticator\u001b[49m\u001b[38;5;241;43m.\u001b[39;49m\u001b[43mget_tokens\u001b[49m\u001b[43m(\u001b[49m\u001b[43mrequest_refresh_token\u001b[49m\u001b[38;5;241;43m=\u001b[39;49m\u001b[43mstore_refresh_token\u001b[49m\u001b[43m)\u001b[49m\n\u001b[0;32m    473\u001b[0m     _log\u001b[38;5;241m.\u001b[39minfo(\u001b[38;5;124m\"\u001b[39m\u001b[38;5;124mObtained tokens: \u001b[39m\u001b[38;5;132;01m{t}\u001b[39;00m\u001b[38;5;124m\"\u001b[39m\u001b[38;5;241m.\u001b[39mformat(t\u001b[38;5;241m=\u001b[39m[k \u001b[38;5;28;01mfor\u001b[39;00m k, v \u001b[38;5;129;01min\u001b[39;00m tokens\u001b[38;5;241m.\u001b[39m_asdict()\u001b[38;5;241m.\u001b[39mitems() \u001b[38;5;28;01mif\u001b[39;00m v]))\n\u001b[0;32m    474\u001b[0m     \u001b[38;5;28;01mif\u001b[39;00m store_refresh_token:\n",
      "File \u001b[1;32mc:\\Users\\springnuance\\AppData\\Local\\Programs\\Python\\Python312\\Lib\\site-packages\\openeo\\rest\\auth\\oidc.py:911\u001b[0m, in \u001b[0;36mOidcDeviceAuthenticator.get_tokens\u001b[1;34m(self, request_refresh_token)\u001b[0m\n\u001b[0;32m    908\u001b[0m         next_poll \u001b[38;5;241m=\u001b[39m elapsed() \u001b[38;5;241m+\u001b[39m poll_interval\n\u001b[0;32m    910\u001b[0m poll_ui\u001b[38;5;241m.\u001b[39mshow_progress(status\u001b[38;5;241m=\u001b[39m\u001b[38;5;124m\"\u001b[39m\u001b[38;5;124mTimed out\u001b[39m\u001b[38;5;124m\"\u001b[39m)\n\u001b[1;32m--> 911\u001b[0m \u001b[38;5;28;01mraise\u001b[39;00m OidcDeviceCodePollTimeout(\u001b[38;5;124mf\u001b[39m\u001b[38;5;124m\"\u001b[39m\u001b[38;5;124mTimeout (\u001b[39m\u001b[38;5;132;01m{\u001b[39;00m\u001b[38;5;28mself\u001b[39m\u001b[38;5;241m.\u001b[39m_max_poll_time\u001b[38;5;132;01m:\u001b[39;00m\u001b[38;5;124m.1f\u001b[39m\u001b[38;5;132;01m}\u001b[39;00m\u001b[38;5;124ms) while polling for access token.\u001b[39m\u001b[38;5;124m\"\u001b[39m)\n",
      "\u001b[1;31mOidcDeviceCodePollTimeout\u001b[0m: Timeout (300.0s) while polling for access token."
     ]
    }
   ],
   "source": [
    "connection = openeo.connect(url=\"openeo.dataspace.copernicus.eu\")\n",
    "connection.authenticate_oidc_device()"
   ]
  },
  {
   "cell_type": "code",
   "execution_count": 11,
   "id": "b29f5768-c276-4cf9-9685-a308cd88df58",
   "metadata": {
    "tags": []
   },
   "outputs": [
    {
     "name": "stdout",
     "output_type": "stream",
     "text": [
      "SENTINEL3_OLCI_L1B\n",
      "SENTINEL3_SLSTR\n",
      "SENTINEL_5P_L2\n",
      "SENTINEL2_L1C\n",
      "SENTINEL2_L2A\n",
      "SENTINEL1_GRD\n",
      "COPERNICUS_30\n",
      "LANDSAT8_L2\n"
     ]
    }
   ],
   "source": [
    "# print(connection.list_collections())\n",
    "for collection in connection.list_collections():\n",
    "    print(collection['id'])"
   ]
  },
  {
   "cell_type": "code",
   "execution_count": 15,
   "id": "6e97f2ce",
   "metadata": {
    "tags": []
   },
   "outputs": [
    {
     "name": "stdout",
     "output_type": "stream",
     "text": [
      "Number of data points: 2944\n"
     ]
    },
    {
     "data": {
      "text/html": [
       "<div>\n",
       "<style scoped>\n",
       "    .dataframe tbody tr th:only-of-type {\n",
       "        vertical-align: middle;\n",
       "    }\n",
       "\n",
       "    .dataframe tbody tr th {\n",
       "        vertical-align: top;\n",
       "    }\n",
       "\n",
       "    .dataframe thead th {\n",
       "        text-align: right;\n",
       "    }\n",
       "</style>\n",
       "<table border=\"1\" class=\"dataframe\">\n",
       "  <thead>\n",
       "    <tr style=\"text-align: right;\">\n",
       "      <th></th>\n",
       "      <th>date</th>\n",
       "      <th>time_UTC</th>\n",
       "      <th>lat</th>\n",
       "      <th>lon</th>\n",
       "      <th>source_rate_t/h</th>\n",
       "      <th>uncertainty_t/h</th>\n",
       "      <th>estimated_source_type</th>\n",
       "      <th>west</th>\n",
       "      <th>east</th>\n",
       "      <th>south</th>\n",
       "      <th>north</th>\n",
       "    </tr>\n",
       "  </thead>\n",
       "  <tbody>\n",
       "    <tr>\n",
       "      <th>0</th>\n",
       "      <td>20210101</td>\n",
       "      <td>06:00:45</td>\n",
       "      <td>36.75</td>\n",
       "      <td>109.76</td>\n",
       "      <td>32</td>\n",
       "      <td>16</td>\n",
       "      <td>Coal</td>\n",
       "      <td>109.26</td>\n",
       "      <td>110.26</td>\n",
       "      <td>36.25</td>\n",
       "      <td>37.25</td>\n",
       "    </tr>\n",
       "    <tr>\n",
       "      <th>1</th>\n",
       "      <td>20210101</td>\n",
       "      <td>06:00:55</td>\n",
       "      <td>37.53</td>\n",
       "      <td>110.75</td>\n",
       "      <td>39</td>\n",
       "      <td>22</td>\n",
       "      <td>Coal</td>\n",
       "      <td>110.25</td>\n",
       "      <td>111.25</td>\n",
       "      <td>37.03</td>\n",
       "      <td>38.03</td>\n",
       "    </tr>\n",
       "    <tr>\n",
       "      <th>2</th>\n",
       "      <td>20210101</td>\n",
       "      <td>07:37:49</td>\n",
       "      <td>20.89</td>\n",
       "      <td>85.22</td>\n",
       "      <td>4</td>\n",
       "      <td>2</td>\n",
       "      <td>Coal</td>\n",
       "      <td>84.72</td>\n",
       "      <td>85.72</td>\n",
       "      <td>20.39</td>\n",
       "      <td>21.39</td>\n",
       "    </tr>\n",
       "    <tr>\n",
       "      <th>3</th>\n",
       "      <td>20210101</td>\n",
       "      <td>07:38:15</td>\n",
       "      <td>23.30</td>\n",
       "      <td>90.79</td>\n",
       "      <td>51</td>\n",
       "      <td>15</td>\n",
       "      <td>Landfill/Urban</td>\n",
       "      <td>90.29</td>\n",
       "      <td>91.29</td>\n",
       "      <td>22.80</td>\n",
       "      <td>23.80</td>\n",
       "    </tr>\n",
       "    <tr>\n",
       "      <th>4</th>\n",
       "      <td>20210101</td>\n",
       "      <td>07:38:27</td>\n",
       "      <td>23.56</td>\n",
       "      <td>86.44</td>\n",
       "      <td>25</td>\n",
       "      <td>12</td>\n",
       "      <td>Coal</td>\n",
       "      <td>85.94</td>\n",
       "      <td>86.94</td>\n",
       "      <td>23.06</td>\n",
       "      <td>24.06</td>\n",
       "    </tr>\n",
       "  </tbody>\n",
       "</table>\n",
       "</div>"
      ],
      "text/plain": [
       "       date  time_UTC    lat     lon  source_rate_t/h  uncertainty_t/h  \\\n",
       "0  20210101  06:00:45  36.75  109.76               32               16   \n",
       "1  20210101  06:00:55  37.53  110.75               39               22   \n",
       "2  20210101  07:37:49  20.89   85.22                4                2   \n",
       "3  20210101  07:38:15  23.30   90.79               51               15   \n",
       "4  20210101  07:38:27  23.56   86.44               25               12   \n",
       "\n",
       "  estimated_source_type    west    east  south  north  \n",
       "0                  Coal  109.26  110.26  36.25  37.25  \n",
       "1                  Coal  110.25  111.25  37.03  38.03  \n",
       "2                  Coal   84.72   85.72  20.39  21.39  \n",
       "3        Landfill/Urban   90.29   91.29  22.80  23.80  \n",
       "4                  Coal   85.94   86.94  23.06  24.06  "
      ]
     },
     "execution_count": 15,
     "metadata": {},
     "output_type": "execute_result"
    }
   ],
   "source": [
    "# Load the coordinates and labels of the CH4 plumes coming from gas infrastructure, \n",
    "# oil infrastruture and coal mines from [all TROPOMI detected plumes for 2021. (Schuit et al. 2023)]\n",
    "# (https://zenodo.org/records/8087134). \n",
    "download_path = \"coursedata/users/nguyenb5\"\n",
    "\n",
    "CH4_plumes = pd.read_csv(f\"Schuit_etal2023_TROPOMI_all_plume_detections_2021.csv\")\n",
    "\n",
    "# Filter out rows where estimated_source_type is \"unclassified\"\n",
    "CH4_plumes = CH4_plumes[CH4_plumes['estimated_source_type'] != 'Unclassified']\n",
    "\n",
    "# For each plume, compute the spatial extent of an area 1 deg x 1 deg around the plume\n",
    "CH4_plumes['west'] = CH4_plumes['lon'] - 0.5\n",
    "CH4_plumes['east'] = CH4_plumes['lon'] + 0.5\n",
    "CH4_plumes['south'] = CH4_plumes['lat'] - 0.5\n",
    "CH4_plumes['north'] = CH4_plumes['lat'] + 0.5\n",
    "\n",
    "print(\"Number of data points:\", len(CH4_plumes))\n",
    "\n",
    "CH4_plumes.head()"
   ]
  },
  {
   "cell_type": "code",
   "execution_count": 16,
   "id": "b5e07681-54ca-458c-bedf-c4cbec0abd3e",
   "metadata": {
    "tags": []
   },
   "outputs": [],
   "source": [
    "# Filter the data for each category and select the first 20 rows\n",
    "gas_plumes = CH4_plumes[CH4_plumes['estimated_source_type'] == 'Gas'].head(20)\n",
    "oil_plumes = CH4_plumes[CH4_plumes['estimated_source_type'] == 'Oil'].head(20)\n",
    "coal_plumes = CH4_plumes[CH4_plumes['estimated_source_type'] == 'Coal'].head(20)\n",
    "# We are exempt to use landfill/urban plumes. Classifying gas, oil and coal are enough\n",
    "landfill_urban_plumes = CH4_plumes[CH4_plumes['estimated_source_type'] == 'Landfill/Urban'].head(20)"
   ]
  },
  {
   "cell_type": "markdown",
   "id": "893572e9-3c73-464f-8434-35d87dc63b78",
   "metadata": {},
   "source": [
    "**1. Define the datacube**"
   ]
  },
  {
   "cell_type": "code",
   "execution_count": 11,
   "id": "7b65a40d-7258-46b4-8355-bf89d54eabd3",
   "metadata": {
    "tags": []
   },
   "outputs": [],
   "source": [
    "period=(\"2021-01-01\", \"2021-01-31\")\n",
    "\n",
    "s5_CH4 = connection.load_collection(\n",
    "    \"SENTINEL_5P_L2\",\n",
    "    #spatial_extent=optional_bounding_box_for_all_plume_rectangles,\n",
    "    temporal_extent = period,\n",
    "    bands=[\"CH4\"] #as before, server-side computations for S5 accept only one band at a time\n",
    ")\n",
    "\n",
    "s5_CO = connection.load_collection(\n",
    "    \"SENTINEL_5P_L2\",\n",
    "    #spatial_extent=optional_bounding_box_for_all_plume_rectangles,\n",
    "    temporal_extent = period,\n",
    "    bands=[\"CO\"] #as before, server-side computations for S5 accept only one band at a time\n",
    ")\n",
    "\n",
    "s5_SO2 = connection.load_collection(\n",
    "    \"SENTINEL_5P_L2\",\n",
    "    #spatial_extent=optional_bounding_box_for_all_plume_rectangles,\n",
    "    temporal_extent = period,\n",
    "    bands=[\"SO2\"] #as before, server-side computations for S5 accept only one band at a time\n",
    ")\n",
    "\n",
    "\n",
    "s5_NO2 = connection.load_collection(\n",
    "    \"SENTINEL_5P_L2\",\n",
    "    #spatial_extent=optional_bounding_box_for_all_plume_rectangles,\n",
    "    temporal_extent = period,\n",
    "    bands=[\"NO2\"] #as before, server-side computations for S5 accept only one band at a time\n",
    ")\n",
    "\n",
    "s3_all_bands = connection.load_collection(\n",
    "    \"SENTINEL3_SLSTR\",\n",
    "    #spatial_extent=optional_bounding_box_for_all_plume_rectangles,\n",
    "    temporal_extent = period,\n",
    "    bands=[\"S5\", \"S6\"] #as before, server-side computations for S3 accept only several bands at a time\n",
    ")\n",
    "    "
   ]
  },
  {
   "cell_type": "markdown",
   "id": "2b14cf81-c38e-4b23-bd43-71329a873bb7",
   "metadata": {},
   "source": [
    "**3. Add reducer and initiate the job**"
   ]
  },
  {
   "cell_type": "markdown",
   "id": "375cf2c1-1deb-49a4-8c19-52f06de67d62",
   "metadata": {
    "tags": []
   },
   "source": [
    "### Divide and conquer between 5 accounts\n",
    "### Each account can run 2 concurrent jobs"
   ]
  },
  {
   "cell_type": "markdown",
   "id": "98781a0c-4ed5-4316-97f6-25488595ea17",
   "metadata": {},
   "source": [
    "#### Account 1: Cube s5_CH4"
   ]
  },
  {
   "cell_type": "code",
   "execution_count": 17,
   "id": "c604efbb-6cfa-4608-aa5e-9644686c2e40",
   "metadata": {
    "tags": []
   },
   "outputs": [],
   "source": [
    "datacube_name = \"s5_CH4\"\n",
    "datacube = s5_CH4\n",
    "plume_type = \"gas\"\n",
    "\n",
    "print(f\"Starting aggregating {datacube_name}_{plume_type}.json\")\n",
    "\n",
    "with open(f\"{download_path}/assignment3_Task4/{plume_type}_geojson.json\", 'r') as file:\n",
    "    plumetype_geojson = json.load(file)\n",
    "    \n",
    "aggregation = datacube.aggregate_spatial(\n",
    "    geometries=plumetype_geojson,\n",
    "    reducer=\"mean\",\n",
    ")\n",
    "aggregation = aggregation.save_result(format=\"JSON\")\n",
    "job=aggregation.create_job(title=\"aggregation\")\n",
    "job.start_and_wait()\n",
    "results = job.get_results()\n",
    "results.download_file(f\"{download_path}/assignment3_Task4/{datacube_name}_{plume_type}.json\")\n",
    "print(f\"Finish aggregating {datacube_name}_{plume_type}.json\")"
   ]
  },
  {
   "cell_type": "code",
   "execution_count": null,
   "id": "62eb10c7",
   "metadata": {},
   "outputs": [],
   "source": [
    "datacube_name = \"s5_CH4\"\n",
    "datacube = s5_CH4\n",
    "plume_type = \"coal\"\n",
    "\n",
    "print(f\"Starting aggregating {datacube_name}_{plume_type}.json\")\n",
    "\n",
    "with open(f\"{download_path}/assignment3_Task4/{plume_type}_geojson.json\", 'r') as file:\n",
    "    plumetype_geojson = json.load(file)\n",
    "    \n",
    "aggregation = datacube.aggregate_spatial(\n",
    "    geometries=plumetype_geojson,\n",
    "    reducer=\"mean\",\n",
    ")\n",
    "aggregation = aggregation.save_result(format=\"JSON\")\n",
    "job=aggregation.create_job(title=\"aggregation\")\n",
    "job.start_and_wait()\n",
    "results = job.get_results()\n",
    "results.download_file(f\"{download_path}/assignment3_Task4/{datacube_name}_{plume_type}.json\")\n",
    "print(f\"Finish aggregating {datacube_name}_{plume_type}.json\")"
   ]
  },
  {
   "cell_type": "code",
   "execution_count": null,
   "id": "b6451596",
   "metadata": {},
   "outputs": [],
   "source": [
    "datacube_name = \"s5_CH4\"\n",
    "datacube = s5_CH4\n",
    "plume_type = \"oil\"\n",
    "\n",
    "print(f\"Starting aggregating {datacube_name}_{plume_type}.json\")\n",
    "\n",
    "with open(f\"{download_path}/assignment3_Task4/{plume_type}_geojson.json\", 'r') as file:\n",
    "    plumetype_geojson = json.load(file)\n",
    "    \n",
    "aggregation = datacube.aggregate_spatial(\n",
    "    geometries=plumetype_geojson,\n",
    "    reducer=\"mean\",\n",
    ")\n",
    "aggregation = aggregation.save_result(format=\"JSON\")\n",
    "job=aggregation.create_job(title=\"aggregation\")\n",
    "job.start_and_wait()\n",
    "results = job.get_results()\n",
    "results.download_file(f\"{download_path}/assignment3_Task4/{datacube_name}_{plume_type}.json\")\n",
    "print(f\"Finish aggregating {datacube_name}_{plume_type}.json\")"
   ]
  }
 ],
 "metadata": {
  "kernelspec": {
   "display_name": "Python 3",
   "language": "python",
   "name": "python3"
  },
  "language_info": {
   "codemirror_mode": {
    "name": "ipython",
    "version": 3
   },
   "file_extension": ".py",
   "mimetype": "text/x-python",
   "name": "python",
   "nbconvert_exporter": "python",
   "pygments_lexer": "ipython3",
   "version": "3.12.2"
  }
 },
 "nbformat": 4,
 "nbformat_minor": 5
}
